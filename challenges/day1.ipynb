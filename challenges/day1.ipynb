{
 "cells": [
  {
   "cell_type": "markdown",
   "metadata": {},
   "source": [
    "# AoC Day 1 Challenge. First section is grabbing the input text for the day"
   ]
  },
  {
   "cell_type": "code",
   "execution_count": 1,
   "metadata": {},
   "outputs": [],
   "source": [
    "# Common Imports\n",
    "import pycurl as curl\n",
    "from io import BytesIO\n",
    "import pandas as pd\n",
    "import numpy as np\n",
    "import re\n",
    "import os"
   ]
  },
  {
   "cell_type": "code",
   "execution_count": 47,
   "metadata": {},
   "outputs": [],
   "source": [
    "# Get input as `input`\n",
    "year = 2024\n",
    "day = 1\n",
    "\n",
    "cookie = os.getenv(AOC_COOKIE)\n",
    "\n",
    "buffer = BytesIO()\n",
    "c = curl.Curl()\n",
    "c.setopt(curl.URL, f\"https://adventofcode.com/{year}/day/{day}/input\")\n",
    "c.setopt(curl.COOKIE, f\"session={cookie}\")\n",
    "c.setopt(curl.WRITEDATA, buffer)\n",
    "c.perform()\n",
    "c.close()\n",
    "\n",
    "input = buffer.getvalue().decode('utf-8')"
   ]
  },
  {
   "cell_type": "markdown",
   "metadata": {},
   "source": [
    "# Part 1"
   ]
  },
  {
   "cell_type": "code",
   "execution_count": 48,
   "metadata": {},
   "outputs": [],
   "source": [
    "entries = input.splitlines()"
   ]
  },
  {
   "cell_type": "code",
   "execution_count": 52,
   "metadata": {},
   "outputs": [],
   "source": [
    "total = 0\n",
    "\n",
    "list1 = []\n",
    "list2 = []\n",
    "\n",
    "for entry in entries:\n",
    "    nums = entry.split()\n",
    "    list1.append(int(nums[0]))\n",
    "    list2.append(int(nums[1]))\n",
    "\n",
    "list1 = np.array(list1)\n",
    "list2 = np.array(list2)"
   ]
  },
  {
   "cell_type": "code",
   "execution_count": 53,
   "metadata": {},
   "outputs": [
    {
     "name": "stdout",
     "output_type": "stream",
     "text": [
      "1889772\n"
     ]
    }
   ],
   "source": [
    "list1 = np.sort(list1)\n",
    "list2 = np.sort(list2)\n",
    "\n",
    "print(np.sum(np.abs(list1 - list2)))"
   ]
  },
  {
   "cell_type": "markdown",
   "metadata": {},
   "source": [
    "# Part 2"
   ]
  },
  {
   "cell_type": "code",
   "execution_count": 54,
   "metadata": {},
   "outputs": [
    {
     "name": "stdout",
     "output_type": "stream",
     "text": [
      "23228917\n"
     ]
    }
   ],
   "source": [
    "total = 0\n",
    "for i in list1:\n",
    "    total += np.sum(list2 == i) * i\n",
    "print(total)"
   ]
  }
 ],
 "metadata": {
  "interpreter": {
   "hash": "86494f8b93769f695384eb1a693da6e448182db93fee904f50d7a8e63c0edf44"
  },
  "kernelspec": {
   "display_name": "Python 3.10.13",
   "language": "python",
   "name": "python3"
  },
  "language_info": {
   "codemirror_mode": {
    "name": "ipython",
    "version": 3
   },
   "file_extension": ".py",
   "mimetype": "text/x-python",
   "name": "python",
   "nbconvert_exporter": "python",
   "pygments_lexer": "ipython3",
   "version": "3.13.0"
  },
  "orig_nbformat": 4
 },
 "nbformat": 4,
 "nbformat_minor": 2
}
