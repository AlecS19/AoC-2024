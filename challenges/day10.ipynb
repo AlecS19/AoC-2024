{
 "cells": [
  {
   "cell_type": "markdown",
   "metadata": {},
   "source": [
    "# AoC Day 10 Challenge. First section is grabbing the input text for the day"
   ]
  },
  {
   "cell_type": "code",
   "execution_count": 1,
   "metadata": {},
   "outputs": [
    {
     "name": "stderr",
     "output_type": "stream",
     "text": [
      "[Memory(location=/tmp/joblib)]: Flushing completely the cache\n"
     ]
    }
   ],
   "source": [
    "# Common Imports\n",
    "import pycurl as curl\n",
    "from io import BytesIO\n",
    "import pandas as pd\n",
    "import numpy as np\n",
    "import re\n",
    "import os\n",
    "from functools import partial\n",
    "from copy import deepcopy\n",
    "from joblib import Memory\n",
    "memory = Memory('/tmp/', verbose=0)\n",
    "memory.clear()\n",
    "import matplotlib.pyplot as plt\n",
    "import sys\n",
    "from tqdm import tqdm\n",
    "sys.getrecursionlimit()\n",
    "sys.setrecursionlimit(100_000)"
   ]
  },
  {
   "cell_type": "code",
   "execution_count": 35,
   "metadata": {},
   "outputs": [],
   "source": [
    "# Get input as `input`\n",
    "year = 2024\n",
    "day = 10\n",
    "\n",
    "with open('/home/alec/aoc_cookie.txt', 'r') as file:\n",
    "    cookie = file.read() \n",
    "\n",
    "buffer = BytesIO()\n",
    "c = curl.Curl()\n",
    "c.setopt(curl.URL, f\"https://adventofcode.com/{year}/day/{day}/input\")\n",
    "c.setopt(curl.COOKIE, f\"session={cookie}\")\n",
    "c.setopt(curl.WRITEDATA, buffer)\n",
    "c.perform()\n",
    "c.close()\n",
    "\n",
    "input = buffer.getvalue().decode('utf-8')"
   ]
  },
  {
   "cell_type": "code",
   "execution_count": 18,
   "metadata": {},
   "outputs": [],
   "source": [
    "input = \"\"\"89010123\n",
    "78121874\n",
    "87430965\n",
    "96549874\n",
    "45678903\n",
    "32019012\n",
    "01329801\n",
    "10456732\"\"\"\n",
    "\n"
   ]
  },
  {
   "cell_type": "markdown",
   "metadata": {},
   "source": [
    "# Part 1"
   ]
  },
  {
   "cell_type": "code",
   "execution_count": 36,
   "metadata": {},
   "outputs": [],
   "source": [
    "entries = input.splitlines()"
   ]
  },
  {
   "cell_type": "code",
   "execution_count": 40,
   "metadata": {},
   "outputs": [
    {
     "name": "stdout",
     "output_type": "stream",
     "text": [
      "1289\n"
     ]
    }
   ],
   "source": [
    "arr_list = []\n",
    "for entry in entries:\n",
    "    arr_list.append([int(i) for i in entry])\n",
    "arr = np.array(arr_list)\n",
    "\n",
    "start_poss = np.array(np.where(arr == 0))\n",
    "start_poss\n",
    "\n",
    "def inbounds(shape, pos):\n",
    "    for i, bound in enumerate(shape):\n",
    "        if pos[i] < 0 or pos[i] >= bound:\n",
    "            return False\n",
    "    return True\n",
    "\n",
    "d_unwrap = [(-1,0), (0,1), (1,0), (0,-1)]\n",
    "\n",
    "def add(pos, pos1):\n",
    "    new_pos = []\n",
    "    for i in range(len(pos)):\n",
    "        new_pos.append(pos[i] + pos1[i])\n",
    "    return tuple(new_pos)\n",
    "\n",
    "def index(pos):\n",
    "    return arr[pos[0], pos[1]]\n",
    "\n",
    "def follow(start_pos, v):\n",
    "    # Base case\n",
    "    if index(start_pos) == 9:\n",
    "        return [start_pos]\n",
    "    \n",
    "    # Recursive \n",
    "    result_poss = []\n",
    "    for d in range(4):\n",
    "        start_pos = (int(start_pos[0]), int(start_pos[1]))\n",
    "        new_pos = add(start_pos, d_unwrap[d])\n",
    "        if inbounds(arr.shape, new_pos) and index(new_pos) == v+1:\n",
    "            result_poss.extend(follow(new_pos, v+1))\n",
    "    \n",
    "    return result_poss\n",
    "total = 0\n",
    "for start_pos in start_poss.T:\n",
    "    # total += (len(set(follow(start_pos, 0)))) # part 1\n",
    "    total += (len(follow(start_pos, 0))) # part 2\n",
    "print(total)"
   ]
  },
  {
   "cell_type": "markdown",
   "metadata": {},
   "source": [
    "# Part 2"
   ]
  }
 ],
 "metadata": {
  "interpreter": {
   "hash": "86494f8b93769f695384eb1a693da6e448182db93fee904f50d7a8e63c0edf44"
  },
  "kernelspec": {
   "display_name": "Python 3.10.13",
   "language": "python",
   "name": "python3"
  },
  "language_info": {
   "codemirror_mode": {
    "name": "ipython",
    "version": 3
   },
   "file_extension": ".py",
   "mimetype": "text/x-python",
   "name": "python",
   "nbconvert_exporter": "python",
   "pygments_lexer": "ipython3",
   "version": "3.13.0"
  },
  "orig_nbformat": 4
 },
 "nbformat": 4,
 "nbformat_minor": 2
}
