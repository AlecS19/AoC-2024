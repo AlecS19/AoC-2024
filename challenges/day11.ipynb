{
 "cells": [
  {
   "cell_type": "markdown",
   "metadata": {},
   "source": [
    "# AoC Day 11 Challenge. First section is grabbing the input text for the day"
   ]
  },
  {
   "cell_type": "code",
   "execution_count": 2,
   "metadata": {},
   "outputs": [
    {
     "name": "stderr",
     "output_type": "stream",
     "text": [
      "[Memory(location=/tmp/joblib)]: Flushing completely the cache\n"
     ]
    }
   ],
   "source": [
    "# Common Imports\n",
    "import pycurl as curl\n",
    "from io import BytesIO\n",
    "import pandas as pd\n",
    "import numpy as np\n",
    "import re\n",
    "import os\n",
    "from functools import partial\n",
    "from copy import deepcopy\n",
    "from joblib import Memory\n",
    "memory = Memory('/tmp/', verbose=0)\n",
    "memory.clear()\n",
    "import matplotlib.pyplot as plt\n",
    "import sys\n",
    "from tqdm import tqdm\n",
    "sys.getrecursionlimit()\n",
    "sys.setrecursionlimit(100_000)"
   ]
  },
  {
   "cell_type": "code",
   "execution_count": 49,
   "metadata": {},
   "outputs": [],
   "source": [
    "# Get input as `input`\n",
    "year = 2024\n",
    "day = 11\n",
    "\n",
    "with open('/home/alec/aoc_cookie.txt', 'r') as file:\n",
    "    cookie = file.read() \n",
    "\n",
    "buffer = BytesIO()\n",
    "c = curl.Curl()\n",
    "c.setopt(curl.URL, f\"https://adventofcode.com/{year}/day/{day}/input\")\n",
    "c.setopt(curl.COOKIE, f\"session={cookie}\")\n",
    "c.setopt(curl.WRITEDATA, buffer)\n",
    "c.perform()\n",
    "c.close()\n",
    "\n",
    "input = buffer.getvalue().decode('utf-8')"
   ]
  },
  {
   "cell_type": "code",
   "execution_count": 4,
   "metadata": {},
   "outputs": [],
   "source": [
    "input = \"\"\"89010123\n",
    "78121874\n",
    "87430965\n",
    "96549874\n",
    "45678903\n",
    "32019012\n",
    "01329801\n",
    "10456732\"\"\"\n",
    "\n"
   ]
  },
  {
   "cell_type": "markdown",
   "metadata": {},
   "source": [
    "# Part 1"
   ]
  },
  {
   "cell_type": "code",
   "execution_count": 50,
   "metadata": {},
   "outputs": [],
   "source": [
    "entries = input.splitlines()"
   ]
  },
  {
   "cell_type": "code",
   "execution_count": 26,
   "metadata": {},
   "outputs": [
    {
     "name": "stdout",
     "output_type": "stream",
     "text": [
      "0\n",
      "1\n",
      "2\n",
      "3\n",
      "4\n",
      "5\n",
      "6\n",
      "7\n",
      "8\n",
      "9\n",
      "10\n",
      "11\n",
      "12\n",
      "13\n",
      "14\n",
      "15\n",
      "16\n",
      "17\n",
      "18\n",
      "19\n",
      "20\n",
      "21\n",
      "22\n",
      "23\n",
      "24\n",
      "25\n",
      "26\n",
      "27\n",
      "28\n",
      "29\n",
      "30\n",
      "31\n",
      "32\n",
      "33\n",
      "34\n"
     ]
    },
    {
     "ename": "KeyboardInterrupt",
     "evalue": "",
     "output_type": "error",
     "traceback": [
      "\u001b[0;31m---------------------------------------------------------------------------\u001b[0m",
      "\u001b[0;31mKeyboardInterrupt\u001b[0m                         Traceback (most recent call last)",
      "Cell \u001b[0;32mIn[26], line 51\u001b[0m\n\u001b[1;32m     49\u001b[0m \u001b[38;5;28;01mfor\u001b[39;00m i \u001b[38;5;129;01min\u001b[39;00m \u001b[38;5;28mrange\u001b[39m(\u001b[38;5;241m75\u001b[39m):\n\u001b[1;32m     50\u001b[0m     \u001b[38;5;28mprint\u001b[39m(i)\n\u001b[0;32m---> 51\u001b[0m     \u001b[43mfollow\u001b[49m\u001b[43m(\u001b[49m\u001b[43mstart_node\u001b[49m\u001b[43m,\u001b[49m\u001b[43mrules\u001b[49m\u001b[43m)\u001b[49m\n\u001b[1;32m     52\u001b[0m \u001b[38;5;28mprint\u001b[39m(length(start_node))\n",
      "Cell \u001b[0;32mIn[26], line 17\u001b[0m, in \u001b[0;36mfollow\u001b[0;34m(node, func)\u001b[0m\n\u001b[1;32m     15\u001b[0m \u001b[38;5;28;01mdef\u001b[39;00m \u001b[38;5;21mfollow\u001b[39m(node, func):\n\u001b[1;32m     16\u001b[0m     \u001b[38;5;28;01mwhile\u001b[39;00m node \u001b[38;5;129;01mis\u001b[39;00m \u001b[38;5;129;01mnot\u001b[39;00m \u001b[38;5;28;01mNone\u001b[39;00m:\n\u001b[0;32m---> 17\u001b[0m         node \u001b[38;5;241m=\u001b[39m \u001b[43mfunc\u001b[49m\u001b[43m(\u001b[49m\u001b[43mnode\u001b[49m\u001b[43m)\u001b[49m\n\u001b[1;32m     18\u001b[0m         node \u001b[38;5;241m=\u001b[39m node\u001b[38;5;241m.\u001b[39mnext\n",
      "Cell \u001b[0;32mIn[26], line 39\u001b[0m, in \u001b[0;36mrules\u001b[0;34m(node)\u001b[0m\n\u001b[1;32m     37\u001b[0m \u001b[38;5;28;01mif\u001b[39;00m node\u001b[38;5;241m.\u001b[39mvalue \u001b[38;5;241m==\u001b[39m \u001b[38;5;241m0\u001b[39m:\n\u001b[1;32m     38\u001b[0m     node\u001b[38;5;241m.\u001b[39mvalue \u001b[38;5;241m=\u001b[39m \u001b[38;5;241m1\u001b[39m\n\u001b[0;32m---> 39\u001b[0m \u001b[38;5;28;01melif\u001b[39;00m \u001b[38;5;28mlen\u001b[39m(\u001b[38;5;28;43mstr\u001b[39;49m\u001b[43m(\u001b[49m\u001b[43mnode\u001b[49m\u001b[38;5;241;43m.\u001b[39;49m\u001b[43mvalue\u001b[49m\u001b[43m)\u001b[49m) \u001b[38;5;241m%\u001b[39m \u001b[38;5;241m2\u001b[39m \u001b[38;5;241m==\u001b[39m \u001b[38;5;241m0\u001b[39m:\n\u001b[1;32m     40\u001b[0m     s \u001b[38;5;241m=\u001b[39m \u001b[38;5;28mstr\u001b[39m(node\u001b[38;5;241m.\u001b[39mvalue)\n\u001b[1;32m     41\u001b[0m     node\u001b[38;5;241m.\u001b[39mvalue \u001b[38;5;241m=\u001b[39m \u001b[38;5;28mint\u001b[39m(s[:\u001b[38;5;28mlen\u001b[39m(s)\u001b[38;5;241m/\u001b[39m\u001b[38;5;241m/\u001b[39m\u001b[38;5;241m2\u001b[39m])\n",
      "\u001b[0;31mKeyboardInterrupt\u001b[0m: "
     ]
    }
   ],
   "source": [
    "class Node:\n",
    "    def __init__(self, value):\n",
    "        self.next = None\n",
    "        self.prev = None\n",
    "        self.value = value     \n",
    "\n",
    "def insert(node,value):\n",
    "    new_node = Node(value)\n",
    "    new_node.prev = node\n",
    "    new_node.next = node.next\n",
    "    node.next = new_node\n",
    "    return new_node\n",
    "\n",
    "\n",
    "def follow(node, func):\n",
    "    while node is not None:\n",
    "        node = func(node)\n",
    "        node = node.next\n",
    "\n",
    "def length(node):\n",
    "    i = 0\n",
    "    while node is not None:\n",
    "        i += 1\n",
    "        node = node.next\n",
    "    return i\n",
    "\n",
    "# create list\n",
    "entry = entries[0].split()\n",
    "# entry = ['125','17']\n",
    "start_node = Node(int(entry[0]))\n",
    "node = start_node\n",
    "for char in entry[1:]:\n",
    "    node = insert(node, int(char))\n",
    "\n",
    "def rules(node):\n",
    "    return_node = node\n",
    "    if node.value == 0:\n",
    "        node.value = 1\n",
    "    elif len(str(node.value)) % 2 == 0:\n",
    "        s = str(node.value)\n",
    "        node.value = int(s[:len(s)//2])\n",
    "        return_node = insert(node, int(s[len(s)//2:]))\n",
    "    else:\n",
    "        node.value *= 2024\n",
    "    \n",
    "    return return_node\n",
    "\n",
    "\n",
    "for i in range(75):\n",
    "    print(i)\n",
    "    follow(start_node,rules)\n",
    "print(length(start_node))"
   ]
  },
  {
   "cell_type": "markdown",
   "metadata": {},
   "source": [
    "# Part 2"
   ]
  },
  {
   "cell_type": "code",
   "execution_count": 54,
   "metadata": {},
   "outputs": [
    {
     "name": "stdout",
     "output_type": "stream",
     "text": [
      "[572556, 22, 0, 528, 4679021, 1, 10725, 2790]\n"
     ]
    },
    {
     "name": "stderr",
     "output_type": "stream",
     "text": [
      "100%|██████████| 25/25 [00:00<00:00, 261.97it/s]"
     ]
    },
    {
     "name": "stdout",
     "output_type": "stream",
     "text": [
      "228668\n"
     ]
    },
    {
     "name": "stderr",
     "output_type": "stream",
     "text": [
      "\n"
     ]
    }
   ],
   "source": [
    "\n",
    "from collections import deque\n",
    "# create list\n",
    "entry = entries[0].split()\n",
    "# entry = ['125','17']\n",
    "# entry = ['0']\n",
    "start_node = Node(int(entry[0]))\n",
    "node = start_node\n",
    "nodes = []\n",
    "\n",
    "for char in entry:\n",
    "    nodes.append(int(char))\n",
    "\n",
    "\n",
    "def rules(value):\n",
    "    return_vale = None\n",
    "    if value == 0:\n",
    "        return_value = (1,)\n",
    "    elif len(str(value)) % 2 == 0:\n",
    "        s = str(value)\n",
    "        return_value = (int(s[:len(s)//2]),int(s[len(s)//2:]))\n",
    "    else:\n",
    "        return_value = (value*2024,)\n",
    "    \n",
    "    return return_value\n",
    "\n",
    "stones = {}\n",
    "print(nodes)\n",
    "stone_types = set(nodes)  # number of stone to actually expand\n",
    "num_stone_type = [sum(map(lambda x : x == j, nodes))  for j in stone_types]\n",
    "for i in tqdm(range(25)):\n",
    "    # print(stone_types)\n",
    "    # print(num_stone_type)\n",
    "\n",
    "    results = []\n",
    "    num_results = []\n",
    "    for stone_type, multiplier in zip(stone_types, num_stone_type):\n",
    "        a = rules(stone_type)\n",
    "        results.extend(a)\n",
    "        num_results.extend([multiplier]*len(a))\n",
    "    \n",
    "    stone_types = set(results)\n",
    "    # print(num_results)\n",
    "    num_stone_type = []\n",
    "    for stone_type in stone_types:\n",
    "        num_stone_type.append(sum((map(lambda x, y: y if x == stone_type else 0, results, num_results))))\n",
    "\n",
    "    \n",
    "print(np.sum(num_stone_type))"
   ]
  },
  {
   "cell_type": "code",
   "execution_count": null,
   "metadata": {},
   "outputs": [],
   "source": [
    "270673834779359"
   ]
  }
 ],
 "metadata": {
  "interpreter": {
   "hash": "86494f8b93769f695384eb1a693da6e448182db93fee904f50d7a8e63c0edf44"
  },
  "kernelspec": {
   "display_name": "Python 3.10.13",
   "language": "python",
   "name": "python3"
  },
  "language_info": {
   "codemirror_mode": {
    "name": "ipython",
    "version": 3
   },
   "file_extension": ".py",
   "mimetype": "text/x-python",
   "name": "python",
   "nbconvert_exporter": "python",
   "pygments_lexer": "ipython3",
   "version": "3.13.0"
  },
  "orig_nbformat": 4
 },
 "nbformat": 4,
 "nbformat_minor": 2
}
