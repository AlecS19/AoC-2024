{
 "cells": [
  {
   "cell_type": "markdown",
   "metadata": {},
   "source": [
    "# AoC Day 13 Challenge. First section is grabbing the input text for the day"
   ]
  },
  {
   "cell_type": "code",
   "execution_count": 2,
   "metadata": {},
   "outputs": [],
   "source": [
    "# Common Imports\n",
    "import pycurl as curl\n",
    "from io import BytesIO\n",
    "import pandas as pd\n",
    "import numpy as np\n",
    "import re\n",
    "import os\n",
    "from functools import partial\n",
    "from copy import deepcopy\n",
    "import matplotlib.pyplot as plt\n",
    "import sys\n",
    "from tqdm import tqdm\n",
    "from collections import defaultdict\n",
    "sys.getrecursionlimit()\n",
    "sys.setrecursionlimit(100_000)"
   ]
  },
  {
   "cell_type": "code",
   "execution_count": 57,
   "metadata": {},
   "outputs": [],
   "source": [
    "# Get input as `input`\n",
    "year = 2024\n",
    "day = 13\n",
    "\n",
    "with open('/home/alec/aoc_cookie.txt', 'r') as file:\n",
    "    cookie = file.read() \n",
    "\n",
    "buffer = BytesIO()\n",
    "c = curl.Curl()\n",
    "c.setopt(curl.URL, f\"https://adventofcode.com/{year}/day/{day}/input\")\n",
    "c.setopt(curl.COOKIE, f\"session={cookie}\")\n",
    "c.setopt(curl.WRITEDATA, buffer)\n",
    "c.perform()\n",
    "c.close()\n",
    "\n",
    "input = buffer.getvalue().decode('utf-8')"
   ]
  },
  {
   "cell_type": "code",
   "execution_count": 40,
   "metadata": {},
   "outputs": [],
   "source": [
    "input =\"\"\"Button A: X+94, Y+34\n",
    "Button B: X+22, Y+67\n",
    "Prize: X=8400, Y=5400\n",
    "\n",
    "Button A: X+26, Y+66\n",
    "Button B: X+67, Y+21\n",
    "Prize: X=12748, Y=12176\n",
    "\n",
    "Button A: X+17, Y+86\n",
    "Button B: X+84, Y+37\n",
    "Prize: X=7870, Y=6450\n",
    "\n",
    "Button A: X+69, Y+23\n",
    "Button B: X+27, Y+71\n",
    "Prize: X=18641, Y=10279\"\"\""
   ]
  },
  {
   "cell_type": "markdown",
   "metadata": {},
   "source": [
    "# Part 1"
   ]
  },
  {
   "cell_type": "code",
   "execution_count": 58,
   "metadata": {},
   "outputs": [],
   "source": [
    "entries = input.splitlines()\n",
    "\n",
    "rules = defaultdict(list)\n",
    "id = 0\n",
    "total = 0\n",
    "# Get rules\n",
    "for entry in entries:\n",
    "    if len(entry) == 0:\n",
    "        id += 1\n",
    "        continue\n",
    "    if \"Button A:\" in entry:\n",
    "        _a = entry.split(\"Button A:\")[1]\n",
    "        _x = _a.split(\"X\")[1]\n",
    "        x = int(_x.split(\", \")[0])\n",
    "        _y = _a.split(\"Y\")[1]\n",
    "        y = int(_y.split(\", \")[0])\n",
    "        rules[id].append((x,y))\n",
    "    elif \"Button B:\" in entry:\n",
    "        _a = entry.split(\"Button B:\")[1]\n",
    "        _x = _a.split(\"X\")[1]\n",
    "        x = int(_x.split(\", \")[0])\n",
    "        _y = _a.split(\"Y\")[1]\n",
    "        y = int(_y.split(\", \")[0])\n",
    "        rules[id].append((x,y))\n",
    "    else:\n",
    "        _a = entry.split(\"Prize:\")[1]\n",
    "        x = int(_a.split(\"X=\")[1].split()[0][:-1])\n",
    "        y = int(_a.split(\"Y=\")[1].split()[0])\n",
    "        rules[id].append((x,y))\n"
   ]
  },
  {
   "cell_type": "code",
   "execution_count": 61,
   "metadata": {},
   "outputs": [
    {
     "name": "stdout",
     "output_type": "stream",
     "text": [
      "77204516023437.000000\n"
     ]
    }
   ],
   "source": [
    "# Part 1\n",
    "# THis sounds like a gcf problem\n",
    "# Or this is probably a graph problem\n",
    "# like A*\n",
    "a_cost = 3\n",
    "b_cost = 1\n",
    "\n",
    "def add(p1, p2):\n",
    "    tmp = []\n",
    "    for _p1, _p2 in zip(p1,p2):\n",
    "        tmp.append(_p1 + _p2)\n",
    "    return tuple(tmp)\n",
    "\n",
    "def mult(p1, m):\n",
    "    tmp = []\n",
    "    for _p1 in p1:\n",
    "        tmp.append(_p1*m)\n",
    "    return tuple(tmp)\n",
    "epsilon = 0.01\n",
    "total = 0\n",
    "scale = 10000000000000\n",
    "for k, rule in rules.items():\n",
    "    # print(rule)\n",
    "    m_numer = (rule[2][1] + scale) - (rule[0][1]*((rule[2][0] + scale)/rule[0][0]))\n",
    "    m_denom = rule[1][1] - rule[1][0]*(rule[0][1]/rule[0][0])\n",
    "    m = m_numer/m_denom\n",
    "\n",
    "    n = (rule[2][0] + scale - rule[1][0]*(np.round(m))) / rule[0][0]\n",
    "\n",
    "    # print(m,n, a_cost*n + b_cost*m)\n",
    "    if n <= 0 or abs(np.round(n) - n) > epsilon:# or n > 100:\n",
    "        # print(\"n\",n, \"m\",m)\n",
    "        continue\n",
    "    if m <= 0 or abs(np.round(m) - m) > epsilon:# or m > 100:\n",
    "        # print(\"n\",n,\"m\",m)\n",
    "        continue\n",
    "    # print(n,m)\n",
    "    total += a_cost*np.round(n) + b_cost*np.round(m)\n",
    "print(f\"{total:20f}\")"
   ]
  },
  {
   "cell_type": "code",
   "execution_count": 6,
   "metadata": {},
   "outputs": [
    {
     "data": {
      "text/plain": [
       "'\\n| a_x | * N + | b_x | * M = | prize_x |\\n| a_y |       | b_y |       | prize_y |\\n\\nmin(N*3 + M)\\n\\na_x * N + b_x * M = p_x\\na_y * N + b_y * M = p_y\\n\\na_y * (p_x - b_x * M)/a_x + b_y * M = p_y\\n\\n(a_y * p_x/a_x) + M * [(-b_x*a_y/a_x) + b_y] = p_y\\n\\nnumer = p_y - a_y * p_x / a_x\\ndenom = b_y - b_x*a_y/a_x\\n\\n3038.29787 + M * 66.7659574 = 5400\\n'"
      ]
     },
     "execution_count": 6,
     "metadata": {},
     "output_type": "execute_result"
    }
   ],
   "source": [
    "\"\"\"\n",
    "| a_x | * N + | b_x | * M = | prize_x |\n",
    "| a_y |       | b_y |       | prize_y |\n",
    "\n",
    "min(N*3 + M)\n",
    "\n",
    "a_x * N + b_x * M = p_x\n",
    "a_y * N + b_y * M = p_y\n",
    "\n",
    "a_y * (p_x - b_x * M)/a_x + b_y * M = p_y\n",
    "\n",
    "(a_y * p_x/a_x) + M * [(-b_x*a_y/a_x) + b_y] = p_y\n",
    "\n",
    "numer = p_y - a_y * p_x / a_x\n",
    "denom = b_y - b_x*a_y/a_x\n",
    "\n",
    "M = numer / denom\n",
    "N = (prize_x - b_x * M) / a_x\n",
    "\"\"\"\n",
    "\n",
    "\"\"\"\n",
    "| a_x | * N + | b_x | * M = | prize_x + SCALE |\n",
    "| a_y |       | b_y |       | prize_y + SCALE|\n",
    "\n",
    "min(N*3 + M)\n",
    "\n",
    "a_x * N + b_x * M = p_x\n",
    "a_y * N + b_y * M = p_y\n",
    "\n",
    "a_y * (p_x - b_x * M)/a_x + b_y * M = p_y\n",
    "\n",
    "(a_y * p_x/a_x) + M * [(-b_x*a_y/a_x) + b_y] = p_y\n",
    "\n",
    "numer = p_y - a_y * p_x / a_x\n",
    "denom = b_y - b_x*a_y/a_x\n",
    "\n",
    "3038.29787 + M * 66.7659574 = 5400\n",
    "\"\"\""
   ]
  },
  {
   "cell_type": "code",
   "execution_count": 51,
   "metadata": {},
   "outputs": [
    {
     "name": "stdout",
     "output_type": "stream",
     "text": [
      "1.7976931348623157e+308\n"
     ]
    }
   ],
   "source": [
    "max_float = np.finfo(np.float64).max\n",
    "\n",
    "print(max_float)"
   ]
  }
 ],
 "metadata": {
  "interpreter": {
   "hash": "86494f8b93769f695384eb1a693da6e448182db93fee904f50d7a8e63c0edf44"
  },
  "kernelspec": {
   "display_name": "Python 3.10.13",
   "language": "python",
   "name": "python3"
  },
  "language_info": {
   "codemirror_mode": {
    "name": "ipython",
    "version": 3
   },
   "file_extension": ".py",
   "mimetype": "text/x-python",
   "name": "python",
   "nbconvert_exporter": "python",
   "pygments_lexer": "ipython3",
   "version": "3.13.0"
  },
  "orig_nbformat": 4
 },
 "nbformat": 4,
 "nbformat_minor": 2
}
