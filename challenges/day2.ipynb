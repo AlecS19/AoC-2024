{
 "cells": [
  {
   "cell_type": "markdown",
   "metadata": {},
   "source": [
    "# AoC Day 2 Challenge. First section is grabbing the input text for the day"
   ]
  },
  {
   "cell_type": "code",
   "execution_count": 35,
   "metadata": {},
   "outputs": [],
   "source": [
    "# Common Imports\n",
    "import pycurl as curl\n",
    "from io import BytesIO\n",
    "import pandas as pd\n",
    "import numpy as np\n",
    "import re\n",
    "import os"
   ]
  },
  {
   "cell_type": "code",
   "execution_count": 36,
   "metadata": {},
   "outputs": [],
   "source": [
    "# Get input as `input`\n",
    "year = 2024\n",
    "day = 2\n",
    "\n",
    "with open('/home/alec/aoc_cookie.txt', 'r') as file:\n",
    "    cookie = file.read() \n",
    "\n",
    "buffer = BytesIO()\n",
    "c = curl.Curl()\n",
    "c.setopt(curl.URL, f\"https://adventofcode.com/{year}/day/{day}/input\")\n",
    "c.setopt(curl.COOKIE, f\"session={cookie}\")\n",
    "c.setopt(curl.WRITEDATA, buffer)\n",
    "c.perform()\n",
    "c.close()\n",
    "\n",
    "input = buffer.getvalue().decode('utf-8')"
   ]
  },
  {
   "cell_type": "markdown",
   "metadata": {},
   "source": [
    "# Part 1"
   ]
  },
  {
   "cell_type": "code",
   "execution_count": 37,
   "metadata": {},
   "outputs": [],
   "source": [
    "entries = input.splitlines()"
   ]
  },
  {
   "cell_type": "code",
   "execution_count": 38,
   "metadata": {},
   "outputs": [
    {
     "name": "stdout",
     "output_type": "stream",
     "text": [
      "230\n"
     ]
    }
   ],
   "source": [
    "safe_reports = 0\n",
    "\n",
    "for entry in entries:\n",
    "    # print(entry)\n",
    "    arr = np.array([int(i) for i in entry.split()])\n",
    "    arr_diff = np.diff(arr)\n",
    "    # print(arr_diff)\n",
    "    if np.sum(np.abs(arr_diff) < 1) or np.sum(np.abs(arr_diff) > 3):\n",
    "        continue\n",
    "\n",
    "    if np.sum(arr_diff < 0) == len(arr_diff) or np.sum(arr_diff > 0 ) == len(arr_diff):\n",
    "        safe_reports += 1\n",
    "        # print(\"SAFE\")\n",
    "    # print(len(arr_diff))\n",
    "    # break\n",
    "\n",
    "print(safe_reports)"
   ]
  },
  {
   "cell_type": "markdown",
   "metadata": {},
   "source": [
    "# Part 2"
   ]
  },
  {
   "cell_type": "code",
   "execution_count": 39,
   "metadata": {},
   "outputs": [
    {
     "name": "stdout",
     "output_type": "stream",
     "text": [
      "301\n"
     ]
    }
   ],
   "source": [
    "safe_reports = 0\n",
    "from copy import copy\n",
    "\n",
    "def check(entry):\n",
    "    arr = np.array(entry)\n",
    "    arr_diff = np.diff(arr)\n",
    "    # print(arr_diff)\n",
    "\n",
    "    if np.sum(np.abs(arr_diff) < 1) or np.sum(np.abs(arr_diff) > 3):\n",
    "        return False\n",
    "\n",
    "    if np.sum(arr_diff < 0) == len(arr_diff) or np.sum(arr_diff > 0 ) == len(arr_diff):\n",
    "        return True\n",
    "    return False\n",
    "\n",
    "total = 0\n",
    "for entry in entries:\n",
    "    entry_arr = [int(i) for i in entry.split()]\n",
    "    if check(entry_arr):\n",
    "        total += 1\n",
    "        continue\n",
    "    for i in range(len(entry_arr)):\n",
    "        new_entry = copy(entry_arr)\n",
    "        new_entry.pop(i)\n",
    "        if check(new_entry):\n",
    "            total +=1\n",
    "            break\n",
    "\n",
    "print(total)"
   ]
  }
 ],
 "metadata": {
  "interpreter": {
   "hash": "86494f8b93769f695384eb1a693da6e448182db93fee904f50d7a8e63c0edf44"
  },
  "kernelspec": {
   "display_name": "Python 3.10.13",
   "language": "python",
   "name": "python3"
  },
  "language_info": {
   "codemirror_mode": {
    "name": "ipython",
    "version": 3
   },
   "file_extension": ".py",
   "mimetype": "text/x-python",
   "name": "python",
   "nbconvert_exporter": "python",
   "pygments_lexer": "ipython3",
   "version": "3.13.0"
  },
  "orig_nbformat": 4
 },
 "nbformat": 4,
 "nbformat_minor": 2
}
