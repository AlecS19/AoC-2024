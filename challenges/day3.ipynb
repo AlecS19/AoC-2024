{
 "cells": [
  {
   "cell_type": "markdown",
   "metadata": {},
   "source": [
    "# AoC Day 3 Challenge. First section is grabbing the input text for the day"
   ]
  },
  {
   "cell_type": "code",
   "execution_count": 47,
   "metadata": {},
   "outputs": [],
   "source": [
    "# Common Imports\n",
    "import pycurl as curl\n",
    "from io import BytesIO\n",
    "import pandas as pd\n",
    "import numpy as np\n",
    "import re\n",
    "import os"
   ]
  },
  {
   "cell_type": "code",
   "execution_count": 48,
   "metadata": {},
   "outputs": [],
   "source": [
    "# Get input as `input`\n",
    "year = 2024\n",
    "day = 3\n",
    "\n",
    "with open('/home/alec/aoc_cookie.txt', 'r') as file:\n",
    "    cookie = file.read() \n",
    "\n",
    "buffer = BytesIO()\n",
    "c = curl.Curl()\n",
    "c.setopt(curl.URL, f\"https://adventofcode.com/{year}/day/{day}/input\")\n",
    "c.setopt(curl.COOKIE, f\"session={cookie}\")\n",
    "c.setopt(curl.WRITEDATA, buffer)\n",
    "c.perform()\n",
    "c.close()\n",
    "\n",
    "input = buffer.getvalue().decode('utf-8')"
   ]
  },
  {
   "cell_type": "markdown",
   "metadata": {},
   "source": [
    "# Part 1"
   ]
  },
  {
   "cell_type": "code",
   "execution_count": 49,
   "metadata": {},
   "outputs": [],
   "source": [
    "entries = input.splitlines()"
   ]
  },
  {
   "cell_type": "code",
   "execution_count": 50,
   "metadata": {},
   "outputs": [
    {
     "name": "stdout",
     "output_type": "stream",
     "text": [
      "185797128\n"
     ]
    }
   ],
   "source": [
    "import re\n",
    "total = 0\n",
    "for entry in entries:\n",
    "    results = re.findall(r\"mul\\(([0-9]{1,3}),([0-9]{1,3})\\)\", entry)\n",
    "    for result in results:\n",
    "        total += int(result[0])*int(result[1])\n",
    "print(total)\n"
   ]
  },
  {
   "cell_type": "markdown",
   "metadata": {},
   "source": [
    "# Part 2"
   ]
  },
  {
   "cell_type": "code",
   "execution_count": 51,
   "metadata": {},
   "outputs": [
    {
     "name": "stdout",
     "output_type": "stream",
     "text": [
      "16905989\n"
     ]
    }
   ],
   "source": [
    "import re\n",
    "total = 0\n",
    "allow = True\n",
    "\n",
    "for entry in entries:\n",
    "    results = re.finditer(r\"mul\\(([0-9]{1,3}),([0-9]{1,3})\\)\", entry)\n",
    "    mult_idx = [result.start() for result in results]\n",
    "    results = re.findall(r\"mul\\(([0-9]{1,3}),([0-9]{1,3})\\)\", entry)\n",
    "\n",
    "    do_results = re.finditer(r\"do\\(\\)\", entry)\n",
    "    dont_results = re.finditer(r\"don't\\(\\)\", entry)\n",
    "    dos_idx = [result.start() for result in do_results]\n",
    "    dont_idx = [result.start() for result in dont_results]\n",
    "\n",
    "    for result, idx in zip(results, mult_idx):\n",
    "        \n",
    "        # Check the next instruction\n",
    "        if (len(dont_idx) == 0 or idx < dont_idx[0]) and (len(dos_idx) == 0 or idx < dos_idx[0]):\n",
    "            if allow:\n",
    "                total += int(result[0])*int(result[1])\n",
    "        elif len(dont_idx) > 0 and dont_idx[0] < idx and (len(dos_idx) == 0 or dont_idx[0] < dos_idx[0]):\n",
    "            allow = False\n",
    "            dont_idx.pop(0)\n",
    "        elif len(dos_idx) > 0 and dos_idx[0] < idx and (len(dont_idx) == 0 or dos_idx[0] < dont_idx[0]):\n",
    "            allow = True\n",
    "            dos_idx.pop(0)\n",
    "\n",
    "    max_do = 0\n",
    "    if len(dos_idx):     \n",
    "        max_do = np.max(dos_idx)\n",
    "\n",
    "    max_dont = 0\n",
    "    if len(dont_idx):\n",
    "        max_dont = np.max(dont_idx)\n",
    "\n",
    "    if max_dont > max_do:\n",
    "        allow = False\n",
    "    \n",
    "    if max_do > max_dont:\n",
    "        allow = True\n",
    "    break\n",
    "print(total)\n"
   ]
  },
  {
   "cell_type": "code",
   "execution_count": 52,
   "metadata": {},
   "outputs": [
    {
     "name": "stdout",
     "output_type": "stream",
     "text": [
      "89798695\n"
     ]
    }
   ],
   "source": [
    "total = 0\n",
    "allow = True\n",
    "for entry in entries:\n",
    "    results = re.finditer(r\"mul\\(([0-9]{1,3}),([0-9]{1,3})\\)|(do\\(\\))|(don't\\(\\))\", entry)\n",
    "\n",
    "    for result in results:\n",
    "        if result.group(3):\n",
    "            allow = True\n",
    "        elif result.group(4):\n",
    "            allow = False\n",
    "        elif result.group(1) and result.group(2):\n",
    "            if allow:\n",
    "                total += int(result.group(1))*int(result.group(2))\n",
    "print(total)"
   ]
  }
 ],
 "metadata": {
  "interpreter": {
   "hash": "86494f8b93769f695384eb1a693da6e448182db93fee904f50d7a8e63c0edf44"
  },
  "kernelspec": {
   "display_name": "Python 3.10.13",
   "language": "python",
   "name": "python3"
  },
  "language_info": {
   "codemirror_mode": {
    "name": "ipython",
    "version": 3
   },
   "file_extension": ".py",
   "mimetype": "text/x-python",
   "name": "python",
   "nbconvert_exporter": "python",
   "pygments_lexer": "ipython3",
   "version": "3.13.0"
  },
  "orig_nbformat": 4
 },
 "nbformat": 4,
 "nbformat_minor": 2
}
