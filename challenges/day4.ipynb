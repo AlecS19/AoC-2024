{
 "cells": [
  {
   "cell_type": "markdown",
   "metadata": {},
   "source": [
    "# AoC Day 4 Challenge. First section is grabbing the input text for the day"
   ]
  },
  {
   "cell_type": "code",
   "execution_count": null,
   "metadata": {},
   "outputs": [],
   "source": [
    "# Common Imports\n",
    "import pycurl as curl\n",
    "from io import BytesIO\n",
    "import pandas as pd\n",
    "import numpy as np\n",
    "import re\n",
    "import os"
   ]
  },
  {
   "cell_type": "code",
   "execution_count": 94,
   "metadata": {},
   "outputs": [],
   "source": [
    "# Get input as `input`\n",
    "year = 2024\n",
    "day = 4\n",
    "\n",
    "with open('/home/alec/aoc_cookie.txt', 'r') as file:\n",
    "    cookie = file.read() \n",
    "\n",
    "buffer = BytesIO()\n",
    "c = curl.Curl()\n",
    "c.setopt(curl.URL, f\"https://adventofcode.com/{year}/day/{day}/input\")\n",
    "c.setopt(curl.COOKIE, f\"session={cookie}\")\n",
    "c.setopt(curl.WRITEDATA, buffer)\n",
    "c.perform()\n",
    "c.close()\n",
    "\n",
    "input = buffer.getvalue().decode('utf-8')"
   ]
  },
  {
   "cell_type": "code",
   "execution_count": 95,
   "metadata": {},
   "outputs": [],
   "source": [
    "# input = \"\"\"MMMSXXMASM\n",
    "# MSAMXMSMSA\n",
    "# AMXSXMAAMM\n",
    "# MSAMASMSMX\n",
    "# XMASAMXAMM\n",
    "# XXAMMXXAMA\n",
    "# SMSMSASXSS\n",
    "# SAXAMASAAA\n",
    "# MAMMMXMMMM\n",
    "# MXMXAXMASX\"\"\"\n",
    "\n"
   ]
  },
  {
   "cell_type": "markdown",
   "metadata": {},
   "source": [
    "# Part 1"
   ]
  },
  {
   "cell_type": "code",
   "execution_count": 96,
   "metadata": {},
   "outputs": [],
   "source": [
    "entries = input.splitlines()"
   ]
  },
  {
   "cell_type": "code",
   "execution_count": 97,
   "metadata": {},
   "outputs": [],
   "source": [
    "char_arr = []\n",
    "for entry in entries:\n",
    "    char_arr.append([i for i in entry])\n",
    "char_arr = np.array(char_arr)"
   ]
  },
  {
   "cell_type": "code",
   "execution_count": 98,
   "metadata": {},
   "outputs": [
    {
     "name": "stdout",
     "output_type": "stream",
     "text": [
      "2427\n"
     ]
    }
   ],
   "source": [
    "# Find every X as a starting point\n",
    "# Go through each direction from X looking for M\n",
    "# Keep checking the direction\n",
    "\n",
    "# import matplotlib.pyplot as plt\n",
    "from itertools import product\n",
    "start_locs = np.where(char_arr == 'X')\n",
    "directions = list(product([-1,0,1], [-1,0,1]))\n",
    "\n",
    "# Remove no movement\n",
    "directions = set(directions) - set(((0,0),))\n",
    "\n",
    "total = 0\n",
    "letters_to_go = ['M','A','S']\n",
    "for i, j in zip(*start_locs):\n",
    "    for direction in directions:\n",
    "        curr_coord = (i, j)\n",
    "        bad = False\n",
    "        for letter in letters_to_go:\n",
    "            curr_coord = (curr_coord[0] + direction[0], curr_coord[1] + direction[1])\n",
    "           \n",
    "            if (curr_coord[0] >= char_arr.shape[0] or curr_coord[0] < 0) or (curr_coord[1] >= char_arr.shape[1] or curr_coord[1] < 0) or (letter != char_arr[curr_coord[0], curr_coord[1]]):\n",
    "                bad = True\n",
    "                break\n",
    "        \n",
    "        total += int(not bad)\n",
    "    \n",
    "print(total)\n",
    "        \n",
    "\n",
    "\n",
    "\n",
    "\n"
   ]
  },
  {
   "cell_type": "markdown",
   "metadata": {},
   "source": [
    "# Part 2"
   ]
  },
  {
   "cell_type": "code",
   "execution_count": 102,
   "metadata": {},
   "outputs": [
    {
     "name": "stdout",
     "output_type": "stream",
     "text": [
      "[['M' '.' 'M']\n",
      " ['.' 'A' '.']\n",
      " ['S' '.' 'S']]\n",
      "[['S' '.' 'M']\n",
      " ['.' 'A' '.']\n",
      " ['S' '.' 'M']]\n",
      "[['S' '.' 'S']\n",
      " ['.' 'A' '.']\n",
      " ['M' '.' 'M']]\n",
      "[['M' '.' 'S']\n",
      " ['.' 'A' '.']\n",
      " ['M' '.' 'S']]\n",
      "[[(-1, 1), (1, 1), (1, -1), (-1, -1)], [(-1, 1), (1, 1), (1, -1), (-1, -1)], [(-1, 1), (1, 1), (1, -1), (-1, -1)], [(-1, 1), (1, 1), (1, -1), (-1, -1)]] [['M', 'S', 'S', 'M'], ['S', 'S', 'M', 'M'], ['S', 'M', 'M', 'S'], ['M', 'M', 'S', 'S']]\n",
      "1900\n"
     ]
    }
   ],
   "source": [
    "# A will be the starting loc\n",
    "from itertools import repeat, cycle\n",
    "start_locs = np.where(char_arr == 'A')\n",
    "# directions = list(product([-1,0,1], [-1,0,1]))\n",
    "correct_dirs = [(-1,1),(1,1),(1,-1),(-1,-1),(-1,1),(1,1),(1,-1),(-1,-1),]\n",
    "correct_chars = ['M','S','S','M','M','S','S','M']\n",
    "\n",
    "# Create all possible patterns\n",
    "dirs_to_check = []\n",
    "chars_to_check = []\n",
    "test = np.array([['.','.','.'],['.','.','.'],['.','.','.']])\n",
    "from copy import copy \n",
    "for i in range(4):\n",
    "    dirs_to_check.append(correct_dirs[0:4])\n",
    "    chars_to_check.append(correct_chars[i:i+4])\n",
    "    test1 = copy(test)\n",
    "    test1[1,1] = 'A'\n",
    "    for d,c in zip(correct_dirs[0:4],correct_chars[i:i+4]):\n",
    "        test1[d[0]+1, -d[1]+1] = c\n",
    "    print(test1)\n",
    "\n",
    "total = 0\n",
    "\n",
    "for i, j in zip(*start_locs):\n",
    "    for ds, cs in zip(dirs_to_check, chars_to_check):\n",
    "        curr_coord = (i, j)\n",
    "        bad = False\n",
    "        for d,c in zip(ds,cs):\n",
    "            test_coord = (curr_coord[0] + d[0], curr_coord[1] + d[1])\n",
    "           \n",
    "            # if not ((curr_coord[0] >= char_arr.shape[0] or curr_coord[0] < 0) or \\\n",
    "            #    (curr_coord[1] >= char_arr.shape[1] or curr_coord[1] < 0)):\n",
    "\n",
    "                # print(d,c, curr_coord, char_arr[curr_coord[0], curr_coord[1]])\n",
    "                \n",
    "            if (test_coord[0] >= char_arr.shape[0] or test_coord[0] < 0) or (test_coord[1] >= char_arr.shape[1] or test_coord[1] < 0) or (c != char_arr[test_coord[0], test_coord[1]]):\n",
    "                bad = True\n",
    "                break\n",
    "        total += int(not bad)\n",
    "    # break\n",
    "    \n",
    "print(total)\n"
   ]
  },
  {
   "cell_type": "code",
   "execution_count": 101,
   "metadata": {},
   "outputs": [
    {
     "ename": "IndentationError",
     "evalue": "unindent does not match any outer indentation level (<string>, line 8)",
     "output_type": "error",
     "traceback": [
      "\u001b[0;36m  File \u001b[0;32m<string>:8\u001b[0;36m\u001b[0m\n\u001b[0;31m    total += int(not bad)\u001b[0m\n\u001b[0m                         ^\u001b[0m\n\u001b[0;31mIndentationError\u001b[0m\u001b[0;31m:\u001b[0m unindent does not match any outer indentation level\n"
     ]
    }
   ],
   "source": [
    "print(curr_coord)\n",
    "                try:\n",
    "                    print(char_arr[curr_coord[0], curr_coord[1]])\n",
    "                except:\n",
    "                    pass\n",
    "                bad = True\n",
    "                break\n",
    "        total += int(not bad)\n",
    "    # break\n",
    "    \n",
    "print(total)\n"
   ]
  },
  {
   "cell_type": "code",
   "execution_count": null,
   "metadata": {},
   "outputs": [],
   "source": []
  }
 ],
 "metadata": {
  "interpreter": {
   "hash": "86494f8b93769f695384eb1a693da6e448182db93fee904f50d7a8e63c0edf44"
  },
  "kernelspec": {
   "display_name": "Python 3.10.13",
   "language": "python",
   "name": "python3"
  },
  "language_info": {
   "codemirror_mode": {
    "name": "ipython",
    "version": 3
   },
   "file_extension": ".py",
   "mimetype": "text/x-python",
   "name": "python",
   "nbconvert_exporter": "python",
   "pygments_lexer": "ipython3",
   "version": "3.13.0"
  },
  "orig_nbformat": 4
 },
 "nbformat": 4,
 "nbformat_minor": 2
}
