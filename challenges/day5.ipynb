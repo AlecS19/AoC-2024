{
 "cells": [
  {
   "cell_type": "markdown",
   "metadata": {},
   "source": [
    "# AoC Day 5 Challenge. First section is grabbing the input text for the day"
   ]
  },
  {
   "cell_type": "code",
   "execution_count": 1,
   "metadata": {},
   "outputs": [],
   "source": [
    "# Common Imports\n",
    "import pycurl as curl\n",
    "from io import BytesIO\n",
    "import pandas as pd\n",
    "import numpy as np\n",
    "import re\n",
    "import os"
   ]
  },
  {
   "cell_type": "code",
   "execution_count": 45,
   "metadata": {},
   "outputs": [],
   "source": [
    "# Get input as `input`\n",
    "year = 2024\n",
    "day = 5\n",
    "\n",
    "with open('/home/alec/aoc_cookie.txt', 'r') as file:\n",
    "    cookie = file.read() \n",
    "\n",
    "buffer = BytesIO()\n",
    "c = curl.Curl()\n",
    "c.setopt(curl.URL, f\"https://adventofcode.com/{year}/day/{day}/input\")\n",
    "c.setopt(curl.COOKIE, f\"session={cookie}\")\n",
    "c.setopt(curl.WRITEDATA, buffer)\n",
    "c.perform()\n",
    "c.close()\n",
    "\n",
    "input = buffer.getvalue().decode('utf-8')"
   ]
  },
  {
   "cell_type": "code",
   "execution_count": 46,
   "metadata": {},
   "outputs": [],
   "source": [
    "# input = \"\"\"MMMSXXMASM\n",
    "# MSAMXMSMSA\n",
    "# AMXSXMAAMM\n",
    "# MSAMASMSMX\n",
    "# XMASAMXAMM\n",
    "# XXAMMXXAMA\n",
    "# SMSMSASXSS\n",
    "# SAXAMASAAA\n",
    "# MAMMMXMMMM\n",
    "# MXMXAXMASX\"\"\"\n",
    "\n"
   ]
  },
  {
   "cell_type": "markdown",
   "metadata": {},
   "source": [
    "# Part 1"
   ]
  },
  {
   "cell_type": "code",
   "execution_count": 47,
   "metadata": {},
   "outputs": [],
   "source": [
    "entries = input.splitlines()"
   ]
  },
  {
   "cell_type": "code",
   "execution_count": 48,
   "metadata": {},
   "outputs": [],
   "source": [
    "rules_str = []\n",
    "pages_str = []\n",
    "new_line_found = False\n",
    "for entry in entries:\n",
    "    if '|' not in entry:\n",
    "        new_line_found = True\n",
    "    if new_line_found:\n",
    "        pages_str.append(entry)\n",
    "    else:\n",
    "        rules_str.append(entry)"
   ]
  },
  {
   "cell_type": "code",
   "execution_count": 49,
   "metadata": {},
   "outputs": [],
   "source": [
    "rules = {}\n",
    "# Each page number start will be a key\n",
    "# The value will be a list of page numbers that\n",
    "# MUST come before it\n",
    "for rule in rules_str:\n",
    "    this_rule = rule.split('|')\n",
    "    rules.setdefault(this_rule[0],[])\n",
    "    rules[this_rule[0]].append(this_rule[1])\n"
   ]
  },
  {
   "cell_type": "code",
   "execution_count": 50,
   "metadata": {},
   "outputs": [],
   "source": [
    "pages_str = pages_str[1:]"
   ]
  },
  {
   "cell_type": "code",
   "execution_count": 31,
   "metadata": {},
   "outputs": [
    {
     "name": "stdout",
     "output_type": "stream",
     "text": [
      "7198\n"
     ]
    }
   ],
   "source": [
    "total = 0\n",
    "for page_str in pages_str:\n",
    "    page = page_str.split(',')\n",
    "    page_mid = len(page) // 2\n",
    "\n",
    "    # For each page num,\n",
    "    # Check to see if any page num before\n",
    "    # is in the list of page nums that MUST\n",
    "    # come after\n",
    "    page_passed = True\n",
    "    for i, page_num in enumerate(page):\n",
    "        if page_num in rules:\n",
    "            if len(set(page[:i]).intersection(set(rules[page_num]))) > 0:\n",
    "                page_passed = False\n",
    "                break\n",
    "    if page_passed:\n",
    "        total += int(page[page_mid])\n",
    "print(total)"
   ]
  },
  {
   "cell_type": "markdown",
   "metadata": {},
   "source": [
    "# Part 2"
   ]
  },
  {
   "cell_type": "code",
   "execution_count": 59,
   "metadata": {},
   "outputs": [
    {
     "name": "stdout",
     "output_type": "stream",
     "text": [
      "4230\n"
     ]
    }
   ],
   "source": [
    "from copy import copy\n",
    "page_str_copy = copy(pages_str)\n",
    "pages_failed = []\n",
    "\n",
    "# Redo part 1, but save off things that didn't pass\n",
    "total = 0\n",
    "for page_str in page_str_copy:\n",
    "    page = page_str.split(',')\n",
    "    page_mid = len(page) // 2\n",
    "\n",
    "    # For each page num,\n",
    "    # Check to see if any page num before\n",
    "    # is in the list of page nums that MUST\n",
    "    # come after\n",
    "    page_passed = True\n",
    "    for i, page_num in enumerate(page):\n",
    "        if page_num in rules:\n",
    "            if len(set(page[:i]).intersection(set(rules[page_num]))) > 0:\n",
    "                page_passed = False\n",
    "                pages_failed.append(','.join(page))\n",
    "                break\n",
    "    if page_passed:\n",
    "        total += int(page[page_mid])\n",
    "\n",
    "total = 0\n",
    "for page_str in pages_failed:\n",
    "    page = page_str.split(',')\n",
    "    page_mid = len(page) // 2\n",
    "\n",
    "    # For each page num,\n",
    "    # Check to see if any page num before\n",
    "    # is in the list of page nums that MUST\n",
    "    # come after\n",
    "    page_passed = True\n",
    "    for i, page_num in enumerate(page):\n",
    "        if page_num in rules:\n",
    "            if len(set(page[:i]).intersection(set(rules[page_num]))) > 0:\n",
    "                # Wrong page num\n",
    "                wrong_nums = set(page[:i]).intersection(set(rules[page_num]))\n",
    "                page_passed = False\n",
    "                bad_idx = i\n",
    "                bad_num = page_num\n",
    "                break\n",
    "    if page_passed:\n",
    "        total += int(page[page_mid])\n",
    "    else:\n",
    "        # If it is wrong, then we need to fix it\n",
    "        for i, page_num in enumerate(page):\n",
    "            # Find index of the ealiest violator\n",
    "            if page_num in wrong_nums:\n",
    "                break\n",
    "        # Swap with the ealiest appearing issue\n",
    "        insert_num = page.pop(bad_idx)\n",
    "        page.insert(i, insert_num)\n",
    "        pages_failed.append(','.join(page))\n",
    "print(total)"
   ]
  }
 ],
 "metadata": {
  "interpreter": {
   "hash": "86494f8b93769f695384eb1a693da6e448182db93fee904f50d7a8e63c0edf44"
  },
  "kernelspec": {
   "display_name": "Python 3.10.13",
   "language": "python",
   "name": "python3"
  },
  "language_info": {
   "codemirror_mode": {
    "name": "ipython",
    "version": 3
   },
   "file_extension": ".py",
   "mimetype": "text/x-python",
   "name": "python",
   "nbconvert_exporter": "python",
   "pygments_lexer": "ipython3",
   "version": "3.13.0"
  },
  "orig_nbformat": 4
 },
 "nbformat": 4,
 "nbformat_minor": 2
}
