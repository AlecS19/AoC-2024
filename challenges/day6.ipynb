{
 "cells": [
  {
   "cell_type": "markdown",
   "metadata": {},
   "source": [
    "# AoC Day 6 Challenge. First section is grabbing the input text for the day"
   ]
  },
  {
   "cell_type": "code",
   "execution_count": 111,
   "metadata": {},
   "outputs": [
    {
     "name": "stderr",
     "output_type": "stream",
     "text": [
      "[Memory(location=/tmp/joblib)]: Flushing completely the cache\n"
     ]
    }
   ],
   "source": [
    "# Common Imports\n",
    "import pycurl as curl\n",
    "from io import BytesIO\n",
    "import pandas as pd\n",
    "import numpy as np\n",
    "import re\n",
    "import os\n",
    "from functools import partial\n",
    "from copy import deepcopy\n",
    "from joblib import Memory\n",
    "memory = Memory('/tmp/', verbose=0)\n",
    "memory.clear()\n",
    "import matplotlib.pyplot as plt\n",
    "import sys\n",
    "from tqdm import tqdm\n",
    "sys.getrecursionlimit()\n",
    "sys.setrecursionlimit(100_000)"
   ]
  },
  {
   "cell_type": "code",
   "execution_count": 136,
   "metadata": {},
   "outputs": [],
   "source": [
    "# Get input as `input`\n",
    "year = 2024\n",
    "day = 6\n",
    "\n",
    "with open('/home/alec/aoc_cookie.txt', 'r') as file:\n",
    "    cookie = file.read() \n",
    "\n",
    "buffer = BytesIO()\n",
    "c = curl.Curl()\n",
    "c.setopt(curl.URL, f\"https://adventofcode.com/{year}/day/{day}/input\")\n",
    "c.setopt(curl.COOKIE, f\"session={cookie}\")\n",
    "c.setopt(curl.WRITEDATA, buffer)\n",
    "c.perform()\n",
    "c.close()\n",
    "\n",
    "input = buffer.getvalue().decode('utf-8')"
   ]
  },
  {
   "cell_type": "code",
   "execution_count": 119,
   "metadata": {},
   "outputs": [],
   "source": [
    "input = \"\"\"....#.....\n",
    ".........#\n",
    "..........\n",
    "..#.......\n",
    ".......#..\n",
    "..........\n",
    ".#..^.....\n",
    "........#.\n",
    "#.........\n",
    "......#...\"\"\"\n",
    "\n"
   ]
  },
  {
   "cell_type": "markdown",
   "metadata": {},
   "source": [
    "# Part 1"
   ]
  },
  {
   "cell_type": "code",
   "execution_count": 137,
   "metadata": {},
   "outputs": [
    {
     "name": "stdout",
     "output_type": "stream",
     "text": [
      "(10, 10)\n"
     ]
    }
   ],
   "source": [
    "entries = input.splitlines()\n",
    "char_arr_orig = np.array([[c for c in entry] for entry in entries])\n",
    "char_arr_shape = char_arr_orig.shape\n",
    "obstacle = '#'\n",
    "empty = '.'\n",
    "visited = 'X'\n",
    "guard_init = '^'\n",
    "guard_pos = ()\n",
    "\n",
    "def add(a,b):\n",
    "    result = []\n",
    "    for _a, _b in zip(a,b):\n",
    "        result.append(_a+_b)\n",
    "    return tuple(result)\n",
    "\n",
    "def index(arr, v):\n",
    "    return arr[v[0],v[1]]\n",
    "\n",
    "def inbounds(bounds, pos):\n",
    "    for b, p in zip(bounds, pos):\n",
    "        if p < 0 or p >= b:\n",
    "            return False\n",
    "    return True\n",
    "\n",
    "def setc(arr, pos, c):\n",
    "    arr[pos[0],pos[1]] = c\n",
    "\n",
    "def get_slice(arr, guard_pos, d):\n",
    "    if d == 0 or d == 2:\n",
    "        return arr[:, guard_pos[1]]\n",
    "    else:\n",
    "        return arr[guard_pos[0], :]\n",
    "\n",
    "def get_next_obs(arr, guard_pos, d, c):\n",
    "    # Get next obstacle in guards direction\n",
    "    idx = [int(j) for i in np.where(arr == c) for j in i]\n",
    "    if len(idx) == 0:\n",
    "        return -1\n",
    "    searched_idx = np.searchsorted(idx, guard_pos)\n",
    "    if d > 0:\n",
    "        if searched_idx >= len(idx):\n",
    "            return -1\n",
    "        return idx[np.searchsorted(idx, guard_pos)]\n",
    "    else:\n",
    "        if searched_idx == 0:\n",
    "            return -1\n",
    "        return idx[np.searchsorted(idx, guard_pos) - 1]\n",
    "\n",
    "print(char_arr.shape)"
   ]
  },
  {
   "cell_type": "code",
   "execution_count": 138,
   "metadata": {},
   "outputs": [
    {
     "name": "stderr",
     "output_type": "stream",
     "text": [
      "  0%|          | 11/5211 [00:00<01:38, 52.99it/s]"
     ]
    },
    {
     "name": "stdout",
     "output_type": "stream",
     "text": [
      "TRUE\n",
      "TRUE\n",
      "TRUE\n",
      "TRUE\n"
     ]
    },
    {
     "name": "stderr",
     "output_type": "stream",
     "text": [
      "  0%|          | 23/5211 [00:00<01:40, 51.66it/s]"
     ]
    },
    {
     "name": "stdout",
     "output_type": "stream",
     "text": [
      "TRUE\n",
      "TRUE\n",
      "TRUE\n",
      "TRUE\n"
     ]
    },
    {
     "name": "stderr",
     "output_type": "stream",
     "text": [
      "  1%|          | 35/5211 [00:00<01:35, 54.04it/s]"
     ]
    },
    {
     "name": "stdout",
     "output_type": "stream",
     "text": [
      "TRUE\n",
      "TRUE\n",
      "TRUE\n"
     ]
    },
    {
     "name": "stderr",
     "output_type": "stream",
     "text": [
      "  1%|          | 63/5211 [00:01<01:17, 66.05it/s]"
     ]
    },
    {
     "name": "stdout",
     "output_type": "stream",
     "text": [
      "TRUE\n",
      "TRUE\n",
      "TRUE\n"
     ]
    },
    {
     "name": "stderr",
     "output_type": "stream",
     "text": [
      "  2%|▏         | 84/5211 [00:01<01:15, 67.55it/s]"
     ]
    },
    {
     "name": "stdout",
     "output_type": "stream",
     "text": [
      "TRUE\n",
      "TRUE\n",
      "TRUE\n",
      "TRUE\n",
      "TRUE\n",
      "TRUE\n",
      "TRUE\n"
     ]
    },
    {
     "name": "stderr",
     "output_type": "stream",
     "text": [
      "  2%|▏         | 106/5211 [00:01<01:15, 67.34it/s]"
     ]
    },
    {
     "name": "stdout",
     "output_type": "stream",
     "text": [
      "TRUE\n",
      "TRUE\n",
      "TRUE\n",
      "TRUE\n"
     ]
    },
    {
     "name": "stderr",
     "output_type": "stream",
     "text": [
      "  2%|▏         | 121/5211 [00:01<01:13, 68.92it/s]"
     ]
    },
    {
     "name": "stdout",
     "output_type": "stream",
     "text": [
      "TRUE\n",
      "TRUE\n",
      "TRUE\n",
      "TRUE\n"
     ]
    },
    {
     "name": "stderr",
     "output_type": "stream",
     "text": [
      "  3%|▎         | 143/5211 [00:02<00:55, 91.66it/s]"
     ]
    },
    {
     "name": "stdout",
     "output_type": "stream",
     "text": [
      "TRUE\n",
      "TRUE\n",
      "TRUE\n",
      "TRUE\n",
      "TRUE\n",
      "TRUE\n",
      "TRUE\n",
      "TRUE\n",
      "TRUE\n",
      "TRUE\n",
      "TRUE\n"
     ]
    },
    {
     "name": "stderr",
     "output_type": "stream",
     "text": [
      "  3%|▎         | 165/5211 [00:02<00:53, 94.66it/s]"
     ]
    },
    {
     "name": "stdout",
     "output_type": "stream",
     "text": [
      "TRUE\n",
      "TRUE\n",
      "TRUE\n",
      "TRUE\n",
      "TRUE\n",
      "TRUE\n"
     ]
    },
    {
     "name": "stderr",
     "output_type": "stream",
     "text": [
      "  4%|▎         | 194/5211 [00:02<00:42, 117.05it/s]"
     ]
    },
    {
     "name": "stdout",
     "output_type": "stream",
     "text": [
      "TRUE\n",
      "TRUE\n",
      "TRUE\n",
      "TRUE\n",
      "TRUE\n",
      "TRUE\n",
      "TRUE\n"
     ]
    },
    {
     "name": "stderr",
     "output_type": "stream",
     "text": [
      "  4%|▍         | 223/5211 [00:02<00:41, 121.31it/s]"
     ]
    },
    {
     "name": "stdout",
     "output_type": "stream",
     "text": [
      "TRUE\n",
      "TRUE\n",
      "TRUE\n",
      "TRUE\n",
      "TRUE\n",
      "TRUE\n",
      "TRUE\n",
      "TRUE\n",
      "TRUE\n",
      "TRUE\n",
      "TRUE\n",
      "TRUE\n"
     ]
    },
    {
     "name": "stderr",
     "output_type": "stream",
     "text": [
      "  5%|▍         | 251/5211 [00:03<00:41, 119.83it/s]"
     ]
    },
    {
     "name": "stdout",
     "output_type": "stream",
     "text": [
      "TRUE\n",
      "TRUE\n",
      "TRUE\n",
      "TRUE\n",
      "TRUE\n",
      "TRUE\n",
      "TRUE\n"
     ]
    },
    {
     "name": "stderr",
     "output_type": "stream",
     "text": [
      "  5%|▌         | 264/5211 [00:03<00:44, 111.18it/s]"
     ]
    },
    {
     "name": "stdout",
     "output_type": "stream",
     "text": [
      "TRUE\n",
      "TRUE\n",
      "TRUE\n",
      "TRUE\n",
      "TRUE\n",
      "TRUE\n",
      "TRUE\n",
      "TRUE\n",
      "TRUE\n"
     ]
    },
    {
     "name": "stderr",
     "output_type": "stream",
     "text": [
      "  6%|▌         | 288/5211 [00:03<00:44, 111.62it/s]"
     ]
    },
    {
     "name": "stdout",
     "output_type": "stream",
     "text": [
      "TRUE\n",
      "TRUE\n",
      "TRUE\n",
      "TRUE\n",
      "TRUE\n",
      "TRUE\n",
      "TRUE\n",
      "TRUE\n",
      "TRUE\n",
      "TRUE\n"
     ]
    },
    {
     "name": "stderr",
     "output_type": "stream",
     "text": [
      "  6%|▌         | 316/5211 [00:03<00:41, 119.08it/s]"
     ]
    },
    {
     "name": "stdout",
     "output_type": "stream",
     "text": [
      "TRUE\n",
      "TRUE\n",
      "TRUE\n",
      "TRUE\n",
      "TRUE\n",
      "TRUE\n",
      "TRUE\n",
      "TRUE\n",
      "TRUE\n"
     ]
    },
    {
     "name": "stderr",
     "output_type": "stream",
     "text": [
      "  7%|▋         | 376/5211 [00:03<00:28, 172.24it/s]"
     ]
    },
    {
     "name": "stdout",
     "output_type": "stream",
     "text": [
      "TRUE\n",
      "TRUE\n",
      "TRUE\n",
      "TRUE\n",
      "TRUE\n",
      "TRUE\n",
      "TRUE\n"
     ]
    },
    {
     "name": "stderr",
     "output_type": "stream",
     "text": [
      "  8%|▊         | 394/5211 [00:04<00:36, 130.74it/s]"
     ]
    },
    {
     "name": "stdout",
     "output_type": "stream",
     "text": [
      "TRUE\n",
      "TRUE\n",
      "TRUE\n",
      "TRUE\n"
     ]
    },
    {
     "name": "stderr",
     "output_type": "stream",
     "text": [
      "  8%|▊         | 409/5211 [00:04<00:42, 112.36it/s]"
     ]
    },
    {
     "name": "stdout",
     "output_type": "stream",
     "text": [
      "TRUE\n",
      "TRUE\n",
      "TRUE\n"
     ]
    },
    {
     "name": "stderr",
     "output_type": "stream",
     "text": [
      "  8%|▊         | 435/5211 [00:04<00:42, 112.98it/s]"
     ]
    },
    {
     "name": "stdout",
     "output_type": "stream",
     "text": [
      "TRUE\n",
      "TRUE\n",
      "TRUE\n",
      "TRUE\n",
      "TRUE\n",
      "TRUE\n",
      "TRUE\n",
      "TRUE\n",
      "TRUE\n"
     ]
    },
    {
     "name": "stderr",
     "output_type": "stream",
     "text": [
      "  9%|▉         | 465/5211 [00:04<00:37, 126.57it/s]"
     ]
    },
    {
     "name": "stdout",
     "output_type": "stream",
     "text": [
      "TRUE\n",
      "TRUE\n",
      "TRUE\n",
      "TRUE\n",
      "TRUE\n",
      "TRUE\n",
      "TRUE\n",
      "TRUE\n"
     ]
    },
    {
     "name": "stderr",
     "output_type": "stream",
     "text": [
      "  9%|▉         | 494/5211 [00:04<00:36, 129.44it/s]"
     ]
    },
    {
     "name": "stdout",
     "output_type": "stream",
     "text": [
      "TRUE\n",
      "TRUE\n",
      "TRUE\n",
      "TRUE\n",
      "TRUE\n",
      "TRUE\n",
      "TRUE\n",
      "TRUE\n",
      "TRUE\n",
      "TRUE\n",
      "TRUE\n",
      "TRUE\n",
      "TRUE\n",
      "TRUE\n",
      "TRUE\n",
      "TRUE\n",
      "TRUE\n"
     ]
    },
    {
     "name": "stderr",
     "output_type": "stream",
     "text": [
      " 10%|▉         | 520/5211 [00:05<00:41, 112.17it/s]"
     ]
    },
    {
     "name": "stdout",
     "output_type": "stream",
     "text": [
      "TRUE\n",
      "TRUE\n",
      "TRUE\n",
      "TRUE\n",
      "TRUE\n",
      "TRUE\n",
      "TRUE\n",
      "TRUE\n",
      "TRUE\n",
      "TRUE\n"
     ]
    },
    {
     "name": "stderr",
     "output_type": "stream",
     "text": [
      " 11%|█         | 559/5211 [00:05<00:39, 118.17it/s]"
     ]
    },
    {
     "name": "stdout",
     "output_type": "stream",
     "text": [
      "TRUE\n",
      "TRUE\n",
      "TRUE\n",
      "TRUE\n",
      "TRUE\n",
      "TRUE\n"
     ]
    },
    {
     "name": "stderr",
     "output_type": "stream",
     "text": [
      " 11%|█▏        | 590/5211 [00:05<00:35, 128.47it/s]"
     ]
    },
    {
     "name": "stdout",
     "output_type": "stream",
     "text": [
      "TRUE\n",
      "TRUE\n",
      "TRUE\n",
      "TRUE\n",
      "TRUE\n",
      "TRUE\n",
      "TRUE\n",
      "TRUE\n",
      "TRUE\n",
      "TRUE\n",
      "TRUE\n",
      "TRUE\n"
     ]
    },
    {
     "name": "stderr",
     "output_type": "stream",
     "text": [
      " 12%|█▏        | 604/5211 [00:05<00:37, 123.60it/s]"
     ]
    },
    {
     "name": "stdout",
     "output_type": "stream",
     "text": [
      "TRUE\n",
      "TRUE\n",
      "TRUE\n",
      "TRUE\n",
      "TRUE\n",
      "TRUE\n",
      "TRUE\n",
      "TRUE\n",
      "TRUE\n",
      "TRUE\n"
     ]
    },
    {
     "name": "stderr",
     "output_type": "stream",
     "text": [
      " 12%|█▏        | 629/5211 [00:06<00:43, 106.39it/s]"
     ]
    },
    {
     "name": "stdout",
     "output_type": "stream",
     "text": [
      "TRUE\n",
      "TRUE\n",
      "TRUE\n",
      "TRUE\n",
      "TRUE\n",
      "TRUE\n"
     ]
    },
    {
     "name": "stderr",
     "output_type": "stream",
     "text": [
      " 13%|█▎        | 657/5211 [00:06<00:38, 119.10it/s]"
     ]
    },
    {
     "name": "stdout",
     "output_type": "stream",
     "text": [
      "TRUE\n",
      "TRUE\n",
      "TRUE\n",
      "TRUE\n",
      "TRUE\n",
      "TRUE\n",
      "TRUE\n",
      "TRUE\n",
      "TRUE\n",
      "TRUE\n",
      "TRUE\n",
      "TRUE\n",
      "TRUE\n",
      "TRUE\n",
      "TRUE\n",
      "TRUE\n",
      "TRUE\n",
      "TRUE\n"
     ]
    },
    {
     "name": "stderr",
     "output_type": "stream",
     "text": [
      " 13%|█▎        | 684/5211 [00:06<00:37, 122.29it/s]"
     ]
    },
    {
     "name": "stdout",
     "output_type": "stream",
     "text": [
      "TRUE\n",
      "TRUE\n",
      "TRUE\n",
      "TRUE\n",
      "TRUE\n",
      "TRUE\n",
      "TRUE\n",
      "TRUE\n",
      "TRUE\n"
     ]
    },
    {
     "name": "stderr",
     "output_type": "stream",
     "text": [
      " 14%|█▍        | 721/5211 [00:06<00:29, 150.26it/s]"
     ]
    },
    {
     "name": "stdout",
     "output_type": "stream",
     "text": [
      "TRUE\n",
      "TRUE\n",
      "TRUE\n",
      "TRUE\n",
      "TRUE\n"
     ]
    },
    {
     "name": "stderr",
     "output_type": "stream",
     "text": [
      " 14%|█▍        | 754/5211 [00:07<00:31, 143.60it/s]"
     ]
    },
    {
     "name": "stdout",
     "output_type": "stream",
     "text": [
      "TRUE\n",
      "TRUE\n",
      "TRUE\n",
      "TRUE\n",
      "TRUE\n",
      "TRUE\n",
      "TRUE\n",
      "TRUE\n",
      "TRUE\n"
     ]
    },
    {
     "name": "stderr",
     "output_type": "stream",
     "text": [
      " 15%|█▍        | 769/5211 [00:07<00:33, 131.99it/s]"
     ]
    },
    {
     "name": "stdout",
     "output_type": "stream",
     "text": [
      "TRUE\n",
      "TRUE\n",
      "TRUE\n",
      "TRUE\n",
      "TRUE\n",
      "TRUE\n",
      "TRUE\n",
      "TRUE\n",
      "TRUE\n",
      "TRUE\n"
     ]
    },
    {
     "name": "stderr",
     "output_type": "stream",
     "text": [
      " 15%|█▌        | 795/5211 [00:07<00:44, 99.57it/s] "
     ]
    },
    {
     "name": "stdout",
     "output_type": "stream",
     "text": [
      "TRUE\n",
      "TRUE\n",
      "TRUE\n",
      "TRUE\n",
      "TRUE\n",
      "TRUE\n",
      "TRUE\n",
      "TRUE\n"
     ]
    },
    {
     "name": "stderr",
     "output_type": "stream",
     "text": [
      " 16%|█▌        | 821/5211 [00:07<00:40, 108.15it/s]"
     ]
    },
    {
     "name": "stdout",
     "output_type": "stream",
     "text": [
      "TRUE\n",
      "TRUE\n",
      "TRUE\n",
      "TRUE\n",
      "TRUE\n"
     ]
    },
    {
     "name": "stderr",
     "output_type": "stream",
     "text": [
      " 17%|█▋        | 868/5211 [00:08<00:36, 120.02it/s]"
     ]
    },
    {
     "name": "stdout",
     "output_type": "stream",
     "text": [
      "TRUE\n",
      "TRUE\n",
      "TRUE\n",
      "TRUE\n",
      "TRUE\n",
      "TRUE\n",
      "TRUE\n",
      "TRUE\n",
      "TRUE\n"
     ]
    },
    {
     "name": "stderr",
     "output_type": "stream",
     "text": [
      " 17%|█▋        | 894/5211 [00:08<00:40, 107.10it/s]"
     ]
    },
    {
     "name": "stdout",
     "output_type": "stream",
     "text": [
      "TRUE\n",
      "TRUE\n",
      "TRUE\n",
      "TRUE\n",
      "TRUE\n",
      "TRUE\n",
      "TRUE\n",
      "TRUE\n",
      "TRUE\n",
      "TRUE\n"
     ]
    },
    {
     "name": "stderr",
     "output_type": "stream",
     "text": [
      " 17%|█▋        | 906/5211 [00:08<00:47, 90.07it/s] "
     ]
    },
    {
     "name": "stdout",
     "output_type": "stream",
     "text": [
      "TRUE\n",
      "TRUE\n",
      "TRUE\n",
      "TRUE\n",
      "TRUE\n",
      "TRUE\n",
      "TRUE\n",
      "TRUE\n",
      "TRUE\n",
      "TRUE\n",
      "TRUE\n"
     ]
    },
    {
     "name": "stderr",
     "output_type": "stream",
     "text": [
      " 18%|█▊        | 926/5211 [00:08<00:49, 86.80it/s]"
     ]
    },
    {
     "name": "stdout",
     "output_type": "stream",
     "text": [
      "TRUE\n",
      "TRUE\n",
      "TRUE\n",
      "TRUE\n",
      "TRUE\n",
      "TRUE\n"
     ]
    },
    {
     "name": "stderr",
     "output_type": "stream",
     "text": [
      " 18%|█▊        | 947/5211 [00:09<00:47, 88.90it/s]"
     ]
    },
    {
     "name": "stdout",
     "output_type": "stream",
     "text": [
      "TRUE\n",
      "TRUE\n",
      "TRUE\n",
      "TRUE\n",
      "TRUE\n",
      "TRUE\n"
     ]
    },
    {
     "name": "stderr",
     "output_type": "stream",
     "text": [
      " 19%|█▊        | 968/5211 [00:09<00:45, 92.46it/s]"
     ]
    },
    {
     "name": "stdout",
     "output_type": "stream",
     "text": [
      "TRUE\n",
      "TRUE\n",
      "TRUE\n",
      "TRUE\n",
      "TRUE\n",
      "TRUE\n",
      "TRUE\n",
      "TRUE\n"
     ]
    },
    {
     "name": "stderr",
     "output_type": "stream",
     "text": [
      " 19%|█▉        | 1014/5211 [00:09<00:27, 153.21it/s]"
     ]
    },
    {
     "name": "stdout",
     "output_type": "stream",
     "text": [
      "TRUE\n",
      "TRUE\n",
      "TRUE\n",
      "TRUE\n",
      "TRUE\n",
      "TRUE\n",
      "TRUE\n",
      "TRUE\n"
     ]
    },
    {
     "name": "stderr",
     "output_type": "stream",
     "text": [
      " 20%|██        | 1050/5211 [00:09<00:28, 145.98it/s]"
     ]
    },
    {
     "name": "stdout",
     "output_type": "stream",
     "text": [
      "TRUE\n",
      "TRUE\n",
      "TRUE\n",
      "TRUE\n",
      "TRUE\n",
      "TRUE\n"
     ]
    },
    {
     "name": "stderr",
     "output_type": "stream",
     "text": [
      " 21%|██        | 1080/5211 [00:10<00:32, 125.65it/s]"
     ]
    },
    {
     "name": "stdout",
     "output_type": "stream",
     "text": [
      "TRUE\n",
      "TRUE\n",
      "TRUE\n",
      "TRUE\n",
      "TRUE\n",
      "TRUE\n",
      "TRUE\n"
     ]
    },
    {
     "name": "stderr",
     "output_type": "stream",
     "text": [
      " 21%|██        | 1094/5211 [00:10<00:37, 108.64it/s]"
     ]
    },
    {
     "name": "stdout",
     "output_type": "stream",
     "text": [
      "TRUE\n",
      "TRUE\n",
      "TRUE\n",
      "TRUE\n",
      "TRUE\n"
     ]
    },
    {
     "name": "stderr",
     "output_type": "stream",
     "text": [
      " 21%|██▏       | 1117/5211 [00:10<00:44, 92.79it/s] "
     ]
    },
    {
     "name": "stdout",
     "output_type": "stream",
     "text": [
      "TRUE\n",
      "TRUE\n",
      "TRUE\n",
      "TRUE\n",
      "TRUE\n",
      "TRUE\n",
      "TRUE\n",
      "TRUE\n",
      "TRUE\n",
      "TRUE\n",
      "TRUE\n"
     ]
    },
    {
     "name": "stderr",
     "output_type": "stream",
     "text": [
      " 22%|██▏       | 1152/5211 [00:10<00:41, 98.55it/s]"
     ]
    },
    {
     "name": "stdout",
     "output_type": "stream",
     "text": [
      "TRUE\n",
      "TRUE\n",
      "TRUE\n",
      "TRUE\n",
      "TRUE\n",
      "TRUE\n"
     ]
    },
    {
     "name": "stderr",
     "output_type": "stream",
     "text": [
      " 23%|██▎       | 1190/5211 [00:11<00:37, 106.86it/s]"
     ]
    },
    {
     "name": "stdout",
     "output_type": "stream",
     "text": [
      "TRUE\n",
      "TRUE\n",
      "TRUE\n",
      "TRUE\n",
      "TRUE\n",
      "TRUE\n",
      "TRUE\n"
     ]
    },
    {
     "name": "stderr",
     "output_type": "stream",
     "text": [
      " 23%|██▎       | 1214/5211 [00:11<00:35, 112.60it/s]"
     ]
    },
    {
     "name": "stdout",
     "output_type": "stream",
     "text": [
      "TRUE\n",
      "TRUE\n",
      "TRUE\n",
      "TRUE\n",
      "TRUE\n",
      "TRUE\n",
      "TRUE\n",
      "TRUE\n",
      "TRUE\n",
      "TRUE\n",
      "TRUE\n",
      "TRUE\n",
      "TRUE\n",
      "TRUE\n",
      "TRUE\n",
      "TRUE\n",
      "TRUE\n"
     ]
    },
    {
     "name": "stderr",
     "output_type": "stream",
     "text": [
      " 24%|██▍       | 1243/5211 [00:11<00:32, 122.62it/s]"
     ]
    },
    {
     "name": "stdout",
     "output_type": "stream",
     "text": [
      "TRUE\n",
      "TRUE\n",
      "TRUE\n",
      "TRUE\n",
      "TRUE\n",
      "TRUE\n",
      "TRUE\n",
      "TRUE\n",
      "TRUE\n",
      "TRUE\n",
      "TRUE\n",
      "TRUE\n",
      "TRUE\n"
     ]
    },
    {
     "name": "stderr",
     "output_type": "stream",
     "text": [
      " 25%|██▍       | 1278/5211 [00:11<00:27, 145.50it/s]"
     ]
    },
    {
     "name": "stdout",
     "output_type": "stream",
     "text": [
      "TRUE\n",
      "TRUE\n",
      "TRUE\n",
      "TRUE\n",
      "TRUE\n",
      "TRUE\n",
      "TRUE\n",
      "TRUE\n",
      "TRUE\n",
      "TRUE\n",
      "TRUE\n",
      "TRUE\n",
      "TRUE\n",
      "TRUE\n",
      "TRUE\n",
      "TRUE\n"
     ]
    },
    {
     "name": "stderr",
     "output_type": "stream",
     "text": [
      " 25%|██▌       | 1311/5211 [00:12<00:26, 147.16it/s]"
     ]
    },
    {
     "name": "stdout",
     "output_type": "stream",
     "text": [
      "TRUE\n",
      "TRUE\n",
      "TRUE\n",
      "TRUE\n",
      "TRUE\n",
      "TRUE\n",
      "TRUE\n",
      "TRUE\n",
      "TRUE\n",
      "TRUE\n",
      "TRUE\n"
     ]
    },
    {
     "name": "stderr",
     "output_type": "stream",
     "text": [
      " 26%|██▌       | 1340/5211 [00:12<00:31, 122.84it/s]"
     ]
    },
    {
     "name": "stdout",
     "output_type": "stream",
     "text": [
      "TRUE\n",
      "TRUE\n",
      "TRUE\n",
      "TRUE\n"
     ]
    },
    {
     "name": "stderr",
     "output_type": "stream",
     "text": [
      " 26%|██▌       | 1366/5211 [00:12<00:33, 114.48it/s]"
     ]
    },
    {
     "name": "stdout",
     "output_type": "stream",
     "text": [
      "TRUE\n",
      "TRUE\n",
      "TRUE\n",
      "TRUE\n",
      "TRUE\n"
     ]
    },
    {
     "name": "stderr",
     "output_type": "stream",
     "text": [
      " 27%|██▋       | 1404/5211 [00:12<00:26, 144.61it/s]"
     ]
    },
    {
     "name": "stdout",
     "output_type": "stream",
     "text": [
      "TRUE\n",
      "TRUE\n",
      "TRUE\n",
      "TRUE\n",
      "TRUE\n",
      "TRUE\n",
      "TRUE\n",
      "TRUE\n",
      "TRUE\n",
      "TRUE\n",
      "TRUE\n"
     ]
    },
    {
     "name": "stderr",
     "output_type": "stream",
     "text": [
      " 28%|██▊       | 1436/5211 [00:12<00:25, 147.31it/s]"
     ]
    },
    {
     "name": "stdout",
     "output_type": "stream",
     "text": [
      "TRUE\n",
      "TRUE\n",
      "TRUE\n",
      "TRUE\n",
      "TRUE\n",
      "TRUE\n",
      "TRUE\n",
      "TRUE\n",
      "TRUE\n",
      "TRUE\n",
      "TRUE\n"
     ]
    },
    {
     "name": "stderr",
     "output_type": "stream",
     "text": [
      " 28%|██▊       | 1465/5211 [00:13<00:31, 119.76it/s]"
     ]
    },
    {
     "name": "stdout",
     "output_type": "stream",
     "text": [
      "TRUE\n",
      "TRUE\n",
      "TRUE\n",
      "TRUE\n",
      "TRUE\n",
      "TRUE\n",
      "TRUE\n",
      "TRUE\n",
      "TRUE\n",
      "TRUE\n",
      "TRUE\n",
      "TRUE\n",
      "TRUE\n",
      "TRUE\n",
      "TRUE\n",
      "TRUE\n"
     ]
    },
    {
     "name": "stderr",
     "output_type": "stream",
     "text": [
      " 29%|██▊       | 1491/5211 [00:13<00:34, 108.56it/s]"
     ]
    },
    {
     "name": "stdout",
     "output_type": "stream",
     "text": [
      "TRUE\n",
      "TRUE\n",
      "TRUE\n",
      "TRUE\n",
      "TRUE\n",
      "TRUE\n",
      "TRUE\n",
      "TRUE\n"
     ]
    },
    {
     "name": "stderr",
     "output_type": "stream",
     "text": [
      " 29%|██▉       | 1536/5211 [00:13<00:29, 124.65it/s]"
     ]
    },
    {
     "name": "stdout",
     "output_type": "stream",
     "text": [
      "TRUE\n",
      "TRUE\n",
      "TRUE\n"
     ]
    },
    {
     "name": "stderr",
     "output_type": "stream",
     "text": [
      " 30%|██▉       | 1558/5211 [00:13<00:24, 150.10it/s]"
     ]
    },
    {
     "name": "stdout",
     "output_type": "stream",
     "text": [
      "TRUE\n",
      "TRUE\n",
      "TRUE\n",
      "TRUE\n"
     ]
    },
    {
     "name": "stderr",
     "output_type": "stream",
     "text": [
      " 31%|███       | 1590/5211 [00:14<00:26, 135.57it/s]"
     ]
    },
    {
     "name": "stdout",
     "output_type": "stream",
     "text": [
      "TRUE\n",
      "TRUE\n",
      "TRUE\n",
      "TRUE\n",
      "TRUE\n",
      "TRUE\n",
      "TRUE\n"
     ]
    },
    {
     "name": "stderr",
     "output_type": "stream",
     "text": [
      " 31%|███       | 1619/5211 [00:14<00:28, 124.63it/s]"
     ]
    },
    {
     "name": "stdout",
     "output_type": "stream",
     "text": [
      "TRUE\n",
      "TRUE\n",
      "TRUE\n",
      "TRUE\n",
      "TRUE\n",
      "TRUE\n",
      "TRUE\n",
      "TRUE\n",
      "TRUE\n",
      "TRUE\n",
      "TRUE\n",
      "TRUE\n",
      "TRUE\n",
      "TRUE\n",
      "TRUE\n",
      "TRUE\n",
      "TRUE\n",
      "TRUE\n",
      "TRUE\n",
      "TRUE\n"
     ]
    },
    {
     "name": "stderr",
     "output_type": "stream",
     "text": [
      " 32%|███▏      | 1645/5211 [00:14<00:29, 120.78it/s]"
     ]
    },
    {
     "name": "stdout",
     "output_type": "stream",
     "text": [
      "TRUE\n",
      "TRUE\n",
      "TRUE\n",
      "TRUE\n",
      "TRUE\n",
      "TRUE\n",
      "TRUE\n",
      "TRUE\n",
      "TRUE\n",
      "TRUE\n",
      "TRUE\n"
     ]
    },
    {
     "name": "stderr",
     "output_type": "stream",
     "text": [
      " 32%|███▏      | 1672/5211 [00:14<00:28, 122.30it/s]"
     ]
    },
    {
     "name": "stdout",
     "output_type": "stream",
     "text": [
      "TRUE\n",
      "TRUE\n",
      "TRUE\n",
      "TRUE\n",
      "TRUE\n",
      "TRUE\n",
      "TRUE\n",
      "TRUE\n",
      "TRUE\n",
      "TRUE\n",
      "TRUE\n",
      "TRUE\n",
      "TRUE\n",
      "TRUE\n"
     ]
    },
    {
     "name": "stderr",
     "output_type": "stream",
     "text": [
      " 33%|███▎      | 1701/5211 [00:15<00:27, 127.40it/s]"
     ]
    },
    {
     "name": "stdout",
     "output_type": "stream",
     "text": [
      "TRUE\n",
      "TRUE\n",
      "TRUE\n",
      "TRUE\n",
      "TRUE\n",
      "TRUE\n",
      "TRUE\n",
      "TRUE\n",
      "TRUE\n"
     ]
    },
    {
     "name": "stderr",
     "output_type": "stream",
     "text": [
      " 33%|███▎      | 1733/5211 [00:15<00:26, 129.43it/s]"
     ]
    },
    {
     "name": "stdout",
     "output_type": "stream",
     "text": [
      "TRUE\n",
      "TRUE\n",
      "TRUE\n",
      "TRUE\n",
      "TRUE\n",
      "TRUE\n",
      "TRUE\n",
      "TRUE\n",
      "TRUE\n"
     ]
    },
    {
     "name": "stderr",
     "output_type": "stream",
     "text": [
      " 34%|███▍      | 1760/5211 [00:15<00:29, 115.70it/s]"
     ]
    },
    {
     "name": "stdout",
     "output_type": "stream",
     "text": [
      "TRUE\n",
      "TRUE\n",
      "TRUE\n",
      "TRUE\n",
      "TRUE\n",
      "TRUE\n",
      "TRUE\n",
      "TRUE\n",
      "TRUE\n",
      "TRUE\n"
     ]
    },
    {
     "name": "stderr",
     "output_type": "stream",
     "text": [
      " 34%|███▍      | 1785/5211 [00:15<00:30, 112.43it/s]"
     ]
    },
    {
     "name": "stdout",
     "output_type": "stream",
     "text": [
      "TRUE\n",
      "TRUE\n",
      "TRUE\n",
      "TRUE\n",
      "TRUE\n",
      "TRUE\n",
      "TRUE\n",
      "TRUE\n",
      "TRUE\n"
     ]
    },
    {
     "name": "stderr",
     "output_type": "stream",
     "text": [
      " 34%|███▍      | 1797/5211 [00:15<00:30, 113.23it/s]"
     ]
    },
    {
     "name": "stdout",
     "output_type": "stream",
     "text": [
      "TRUE\n",
      "TRUE\n",
      "TRUE\n",
      "TRUE\n",
      "TRUE\n",
      "TRUE\n",
      "TRUE\n",
      "TRUE\n"
     ]
    },
    {
     "name": "stderr",
     "output_type": "stream",
     "text": [
      " 35%|███▍      | 1820/5211 [00:16<00:33, 102.05it/s]"
     ]
    },
    {
     "name": "stdout",
     "output_type": "stream",
     "text": [
      "TRUE\n",
      "TRUE\n",
      "TRUE\n",
      "TRUE\n",
      "TRUE\n",
      "TRUE\n",
      "TRUE\n",
      "TRUE\n",
      "TRUE\n",
      "TRUE\n",
      "TRUE\n",
      "TRUE\n",
      "TRUE\n"
     ]
    },
    {
     "name": "stderr",
     "output_type": "stream",
     "text": [
      " 35%|███▌      | 1841/5211 [00:16<00:36, 92.29it/s] "
     ]
    },
    {
     "name": "stdout",
     "output_type": "stream",
     "text": [
      "TRUE\n",
      "TRUE\n",
      "TRUE\n",
      "TRUE\n",
      "TRUE\n",
      "TRUE\n",
      "TRUE\n",
      "TRUE\n",
      "TRUE\n"
     ]
    },
    {
     "name": "stderr",
     "output_type": "stream",
     "text": [
      " 36%|███▌      | 1861/5211 [00:16<00:38, 87.79it/s]"
     ]
    },
    {
     "name": "stdout",
     "output_type": "stream",
     "text": [
      "TRUE\n",
      "TRUE\n",
      "TRUE\n",
      "TRUE\n",
      "TRUE\n",
      "TRUE\n",
      "TRUE\n",
      "TRUE\n"
     ]
    },
    {
     "name": "stderr",
     "output_type": "stream",
     "text": [
      " 36%|███▌      | 1883/5211 [00:16<00:34, 97.19it/s]"
     ]
    },
    {
     "name": "stdout",
     "output_type": "stream",
     "text": [
      "TRUE\n",
      "TRUE\n",
      "TRUE\n",
      "TRUE\n",
      "TRUE\n",
      "TRUE\n",
      "TRUE\n",
      "TRUE\n",
      "TRUE\n"
     ]
    },
    {
     "name": "stderr",
     "output_type": "stream",
     "text": [
      " 37%|███▋      | 1903/5211 [00:17<00:36, 90.91it/s]"
     ]
    },
    {
     "name": "stdout",
     "output_type": "stream",
     "text": [
      "TRUE\n",
      "TRUE\n",
      "TRUE\n",
      "TRUE\n",
      "TRUE\n",
      "TRUE\n",
      "TRUE\n",
      "TRUE\n",
      "TRUE\n",
      "TRUE\n",
      "TRUE\n",
      "TRUE\n"
     ]
    },
    {
     "name": "stderr",
     "output_type": "stream",
     "text": [
      " 37%|███▋      | 1933/5211 [00:17<00:28, 116.99it/s]"
     ]
    },
    {
     "name": "stdout",
     "output_type": "stream",
     "text": [
      "TRUE\n",
      "TRUE\n",
      "TRUE\n",
      "TRUE\n",
      "TRUE\n",
      "TRUE\n",
      "TRUE\n",
      "TRUE\n",
      "TRUE\n",
      "TRUE\n",
      "TRUE\n",
      "TRUE\n",
      "TRUE\n",
      "TRUE\n",
      "TRUE\n",
      "TRUE\n"
     ]
    },
    {
     "name": "stderr",
     "output_type": "stream",
     "text": [
      " 38%|███▊      | 1959/5211 [00:17<00:30, 106.24it/s]"
     ]
    },
    {
     "name": "stdout",
     "output_type": "stream",
     "text": [
      "TRUE\n",
      "TRUE\n",
      "TRUE\n",
      "TRUE\n"
     ]
    },
    {
     "name": "stderr",
     "output_type": "stream",
     "text": [
      " 38%|███▊      | 1987/5211 [00:17<00:26, 120.26it/s]"
     ]
    },
    {
     "name": "stdout",
     "output_type": "stream",
     "text": [
      "TRUE\n",
      "TRUE\n",
      "TRUE\n",
      "TRUE\n",
      "TRUE\n",
      "TRUE\n",
      "TRUE\n"
     ]
    },
    {
     "name": "stderr",
     "output_type": "stream",
     "text": [
      " 39%|███▉      | 2034/5211 [00:18<00:24, 127.89it/s]"
     ]
    },
    {
     "name": "stdout",
     "output_type": "stream",
     "text": [
      "TRUE\n",
      "TRUE\n",
      "TRUE\n",
      "TRUE\n",
      "TRUE\n",
      "TRUE\n",
      "TRUE\n",
      "TRUE\n",
      "TRUE\n"
     ]
    },
    {
     "name": "stderr",
     "output_type": "stream",
     "text": [
      " 40%|███▉      | 2074/5211 [00:18<00:20, 150.85it/s]"
     ]
    },
    {
     "name": "stdout",
     "output_type": "stream",
     "text": [
      "TRUE\n",
      "TRUE\n",
      "TRUE\n",
      "TRUE\n",
      "TRUE\n",
      "TRUE\n",
      "TRUE\n",
      "TRUE\n",
      "TRUE\n",
      "TRUE\n",
      "TRUE\n"
     ]
    },
    {
     "name": "stderr",
     "output_type": "stream",
     "text": [
      " 40%|████      | 2090/5211 [00:18<00:26, 117.82it/s]"
     ]
    },
    {
     "name": "stdout",
     "output_type": "stream",
     "text": [
      "TRUE\n",
      "TRUE\n",
      "TRUE\n",
      "TRUE\n",
      "TRUE\n",
      "TRUE\n",
      "TRUE\n",
      "TRUE\n",
      "TRUE\n"
     ]
    },
    {
     "name": "stderr",
     "output_type": "stream",
     "text": [
      " 41%|████      | 2117/5211 [00:18<00:29, 104.53it/s]"
     ]
    },
    {
     "name": "stdout",
     "output_type": "stream",
     "text": [
      "TRUE\n",
      "TRUE\n",
      "TRUE\n",
      "TRUE\n",
      "TRUE\n",
      "TRUE\n",
      "TRUE\n",
      "TRUE\n",
      "TRUE\n",
      "TRUE\n",
      "TRUE\n",
      "TRUE\n",
      "TRUE\n",
      "TRUE\n"
     ]
    },
    {
     "name": "stderr",
     "output_type": "stream",
     "text": [
      " 41%|████      | 2129/5211 [00:19<00:32, 94.79it/s] "
     ]
    },
    {
     "name": "stdout",
     "output_type": "stream",
     "text": [
      "TRUE\n",
      "TRUE\n",
      "TRUE\n",
      "TRUE\n",
      "TRUE\n",
      "TRUE\n",
      "TRUE\n"
     ]
    },
    {
     "name": "stderr",
     "output_type": "stream",
     "text": [
      " 41%|████▏     | 2153/5211 [00:19<00:30, 100.58it/s]"
     ]
    },
    {
     "name": "stdout",
     "output_type": "stream",
     "text": [
      "TRUE\n",
      "TRUE\n",
      "TRUE\n",
      "TRUE\n",
      "TRUE\n",
      "TRUE\n",
      "TRUE\n"
     ]
    },
    {
     "name": "stderr",
     "output_type": "stream",
     "text": [
      " 42%|████▏     | 2178/5211 [00:19<00:27, 108.46it/s]"
     ]
    },
    {
     "name": "stdout",
     "output_type": "stream",
     "text": [
      "TRUE\n",
      "TRUE\n",
      "TRUE\n",
      "TRUE\n",
      "TRUE\n",
      "TRUE\n",
      "TRUE\n",
      "TRUE\n",
      "TRUE\n",
      "TRUE\n"
     ]
    },
    {
     "name": "stderr",
     "output_type": "stream",
     "text": [
      " 42%|████▏     | 2201/5211 [00:19<00:28, 104.65it/s]"
     ]
    },
    {
     "name": "stdout",
     "output_type": "stream",
     "text": [
      "TRUE\n",
      "TRUE\n",
      "TRUE\n",
      "TRUE\n"
     ]
    },
    {
     "name": "stderr",
     "output_type": "stream",
     "text": [
      " 43%|████▎     | 2222/5211 [00:20<00:33, 88.33it/s] "
     ]
    },
    {
     "name": "stdout",
     "output_type": "stream",
     "text": [
      "TRUE\n",
      "TRUE\n",
      "TRUE\n",
      "TRUE\n",
      "TRUE\n",
      "TRUE\n",
      "TRUE\n",
      "TRUE\n",
      "TRUE\n",
      "TRUE\n",
      "TRUE\n",
      "TRUE\n"
     ]
    },
    {
     "name": "stderr",
     "output_type": "stream",
     "text": [
      " 43%|████▎     | 2246/5211 [00:20<00:29, 99.57it/s]"
     ]
    },
    {
     "name": "stdout",
     "output_type": "stream",
     "text": [
      "TRUE\n",
      "TRUE\n",
      "TRUE\n",
      "TRUE\n",
      "TRUE\n",
      "TRUE\n",
      "TRUE\n"
     ]
    },
    {
     "name": "stderr",
     "output_type": "stream",
     "text": [
      " 44%|████▍     | 2288/5211 [00:20<00:25, 116.66it/s]"
     ]
    },
    {
     "name": "stdout",
     "output_type": "stream",
     "text": [
      "TRUE\n",
      "TRUE\n",
      "TRUE\n",
      "TRUE\n",
      "TRUE\n",
      "TRUE\n",
      "TRUE\n",
      "TRUE\n",
      "TRUE\n",
      "TRUE\n"
     ]
    },
    {
     "name": "stderr",
     "output_type": "stream",
     "text": [
      " 44%|████▍     | 2314/5211 [00:20<00:23, 121.72it/s]"
     ]
    },
    {
     "name": "stdout",
     "output_type": "stream",
     "text": [
      "TRUE\n",
      "TRUE\n",
      "TRUE\n",
      "TRUE\n",
      "TRUE\n",
      "TRUE\n",
      "TRUE\n",
      "TRUE\n",
      "TRUE\n",
      "TRUE\n",
      "TRUE\n",
      "TRUE\n"
     ]
    },
    {
     "name": "stderr",
     "output_type": "stream",
     "text": [
      " 45%|████▍     | 2341/5211 [00:21<00:25, 112.97it/s]"
     ]
    },
    {
     "name": "stdout",
     "output_type": "stream",
     "text": [
      "TRUE\n",
      "TRUE\n",
      "TRUE\n",
      "TRUE\n",
      "TRUE\n",
      "TRUE\n",
      "TRUE\n",
      "TRUE\n",
      "TRUE\n",
      "TRUE\n",
      "TRUE\n"
     ]
    },
    {
     "name": "stderr",
     "output_type": "stream",
     "text": [
      " 45%|████▌     | 2353/5211 [00:21<00:27, 104.76it/s]"
     ]
    },
    {
     "name": "stdout",
     "output_type": "stream",
     "text": [
      "TRUE\n",
      "TRUE\n",
      "TRUE\n",
      "TRUE\n",
      "TRUE\n",
      "TRUE\n",
      "TRUE\n",
      "TRUE\n",
      "TRUE\n",
      "TRUE\n",
      "TRUE\n"
     ]
    },
    {
     "name": "stderr",
     "output_type": "stream",
     "text": [
      " 46%|████▌     | 2374/5211 [00:21<00:34, 81.12it/s] "
     ]
    },
    {
     "name": "stdout",
     "output_type": "stream",
     "text": [
      "TRUE\n",
      "TRUE\n",
      "TRUE\n",
      "TRUE\n",
      "TRUE\n",
      "TRUE\n",
      "TRUE\n",
      "TRUE\n",
      "TRUE\n",
      "TRUE\n",
      "TRUE\n",
      "TRUE\n"
     ]
    },
    {
     "name": "stderr",
     "output_type": "stream",
     "text": [
      " 46%|████▌     | 2392/5211 [00:21<00:35, 78.56it/s]"
     ]
    },
    {
     "name": "stdout",
     "output_type": "stream",
     "text": [
      "TRUE\n",
      "TRUE\n",
      "TRUE\n",
      "TRUE\n",
      "TRUE\n",
      "TRUE\n",
      "TRUE\n",
      "TRUE\n",
      "TRUE\n",
      "TRUE\n",
      "TRUE\n",
      "TRUE\n",
      "TRUE\n",
      "TRUE\n",
      "TRUE\n"
     ]
    },
    {
     "name": "stderr",
     "output_type": "stream",
     "text": [
      " 46%|████▌     | 2401/5211 [00:21<00:36, 77.59it/s]"
     ]
    },
    {
     "name": "stdout",
     "output_type": "stream",
     "text": [
      "TRUE\n",
      "TRUE\n",
      "TRUE\n",
      "TRUE\n",
      "TRUE\n",
      "TRUE\n",
      "TRUE\n",
      "TRUE\n"
     ]
    },
    {
     "name": "stderr",
     "output_type": "stream",
     "text": [
      " 47%|████▋     | 2434/5211 [00:22<00:27, 99.84it/s]"
     ]
    },
    {
     "name": "stdout",
     "output_type": "stream",
     "text": [
      "TRUE\n",
      "TRUE\n",
      "TRUE\n",
      "TRUE\n",
      "TRUE\n",
      "TRUE\n",
      "TRUE\n"
     ]
    },
    {
     "name": "stderr",
     "output_type": "stream",
     "text": [
      " 47%|████▋     | 2445/5211 [00:22<00:28, 95.63it/s]"
     ]
    },
    {
     "name": "stdout",
     "output_type": "stream",
     "text": [
      "TRUE\n",
      "TRUE\n",
      "TRUE\n",
      "TRUE\n",
      "TRUE\n",
      "TRUE\n",
      "TRUE\n",
      "TRUE\n",
      "TRUE\n",
      "TRUE\n"
     ]
    },
    {
     "name": "stderr",
     "output_type": "stream",
     "text": [
      " 47%|████▋     | 2464/5211 [00:22<00:33, 81.98it/s]"
     ]
    },
    {
     "name": "stdout",
     "output_type": "stream",
     "text": [
      "TRUE\n",
      "TRUE\n",
      "TRUE\n",
      "TRUE\n",
      "TRUE\n",
      "TRUE\n",
      "TRUE\n",
      "TRUE\n",
      "TRUE\n",
      "TRUE\n",
      "TRUE\n",
      "TRUE\n"
     ]
    },
    {
     "name": "stderr",
     "output_type": "stream",
     "text": [
      " 48%|████▊     | 2484/5211 [00:22<00:31, 86.88it/s]"
     ]
    },
    {
     "name": "stdout",
     "output_type": "stream",
     "text": [
      "TRUE\n",
      "TRUE\n",
      "TRUE\n",
      "TRUE\n",
      "TRUE\n",
      "TRUE\n",
      "TRUE\n",
      "TRUE\n",
      "TRUE\n",
      "TRUE\n"
     ]
    },
    {
     "name": "stderr",
     "output_type": "stream",
     "text": [
      " 48%|████▊     | 2519/5211 [00:23<00:26, 101.94it/s]"
     ]
    },
    {
     "name": "stdout",
     "output_type": "stream",
     "text": [
      "TRUE\n",
      "TRUE\n",
      "TRUE\n"
     ]
    },
    {
     "name": "stderr",
     "output_type": "stream",
     "text": [
      " 49%|████▉     | 2541/5211 [00:23<00:28, 94.32it/s] "
     ]
    },
    {
     "name": "stdout",
     "output_type": "stream",
     "text": [
      "TRUE\n",
      "TRUE\n",
      "TRUE\n",
      "TRUE\n",
      "TRUE\n"
     ]
    },
    {
     "name": "stderr",
     "output_type": "stream",
     "text": [
      " 49%|████▉     | 2561/5211 [00:23<00:30, 88.08it/s]"
     ]
    },
    {
     "name": "stdout",
     "output_type": "stream",
     "text": [
      "TRUE\n",
      "TRUE\n",
      "TRUE\n",
      "TRUE\n",
      "TRUE\n",
      "TRUE\n",
      "TRUE\n",
      "TRUE\n"
     ]
    },
    {
     "name": "stderr",
     "output_type": "stream",
     "text": [
      " 50%|████▉     | 2584/5211 [00:23<00:26, 99.09it/s]"
     ]
    },
    {
     "name": "stdout",
     "output_type": "stream",
     "text": [
      "TRUE\n",
      "TRUE\n",
      "TRUE\n",
      "TRUE\n",
      "TRUE\n",
      "TRUE\n",
      "TRUE\n",
      "TRUE\n",
      "TRUE\n",
      "TRUE\n",
      "TRUE\n",
      "TRUE\n",
      "TRUE\n",
      "TRUE\n"
     ]
    },
    {
     "name": "stderr",
     "output_type": "stream",
     "text": [
      " 50%|█████     | 2614/5211 [00:24<00:20, 124.53it/s]"
     ]
    },
    {
     "name": "stdout",
     "output_type": "stream",
     "text": [
      "TRUE\n",
      "TRUE\n",
      "TRUE\n",
      "TRUE\n"
     ]
    },
    {
     "name": "stderr",
     "output_type": "stream",
     "text": [
      " 50%|█████     | 2628/5211 [00:24<00:20, 124.97it/s]"
     ]
    },
    {
     "name": "stdout",
     "output_type": "stream",
     "text": [
      "TRUE\n",
      "TRUE\n",
      "TRUE\n",
      "TRUE\n",
      "TRUE\n"
     ]
    },
    {
     "name": "stderr",
     "output_type": "stream",
     "text": [
      " 51%|█████     | 2669/5211 [00:24<00:21, 118.69it/s]"
     ]
    },
    {
     "name": "stdout",
     "output_type": "stream",
     "text": [
      "TRUE\n",
      "TRUE\n",
      "TRUE\n",
      "TRUE\n",
      "TRUE\n",
      "TRUE\n"
     ]
    },
    {
     "name": "stderr",
     "output_type": "stream",
     "text": [
      " 51%|█████▏    | 2682/5211 [00:24<00:22, 112.01it/s]"
     ]
    },
    {
     "name": "stdout",
     "output_type": "stream",
     "text": [
      "TRUE\n",
      "TRUE\n",
      "TRUE\n",
      "TRUE\n",
      "TRUE\n",
      "TRUE\n",
      "TRUE\n",
      "TRUE\n",
      "TRUE\n",
      "TRUE\n",
      "TRUE\n"
     ]
    },
    {
     "name": "stderr",
     "output_type": "stream",
     "text": [
      " 52%|█████▏    | 2726/5211 [00:24<00:18, 136.66it/s]"
     ]
    },
    {
     "name": "stdout",
     "output_type": "stream",
     "text": [
      "TRUE\n",
      "TRUE\n",
      "TRUE\n",
      "TRUE\n"
     ]
    },
    {
     "name": "stderr",
     "output_type": "stream",
     "text": [
      " 53%|█████▎    | 2758/5211 [00:25<00:17, 138.52it/s]"
     ]
    },
    {
     "name": "stdout",
     "output_type": "stream",
     "text": [
      "TRUE\n",
      "TRUE\n",
      "TRUE\n",
      "TRUE\n",
      "TRUE\n",
      "TRUE\n",
      "TRUE\n",
      "TRUE\n",
      "TRUE\n",
      "TRUE\n",
      "TRUE\n",
      "TRUE\n"
     ]
    },
    {
     "name": "stderr",
     "output_type": "stream",
     "text": [
      " 53%|█████▎    | 2773/5211 [00:25<00:18, 133.91it/s]"
     ]
    },
    {
     "name": "stdout",
     "output_type": "stream",
     "text": [
      "TRUE\n",
      "TRUE\n",
      "TRUE\n",
      "TRUE\n"
     ]
    },
    {
     "name": "stderr",
     "output_type": "stream",
     "text": [
      " 54%|█████▍    | 2817/5211 [00:25<00:18, 128.23it/s]"
     ]
    },
    {
     "name": "stdout",
     "output_type": "stream",
     "text": [
      "TRUE\n",
      "TRUE\n",
      "TRUE\n",
      "TRUE\n",
      "TRUE\n",
      "TRUE\n",
      "TRUE\n",
      "TRUE\n"
     ]
    },
    {
     "name": "stderr",
     "output_type": "stream",
     "text": [
      " 55%|█████▍    | 2844/5211 [00:25<00:19, 123.83it/s]"
     ]
    },
    {
     "name": "stdout",
     "output_type": "stream",
     "text": [
      "TRUE\n",
      "TRUE\n",
      "TRUE\n",
      "TRUE\n",
      "TRUE\n",
      "TRUE\n",
      "TRUE\n",
      "TRUE\n",
      "TRUE\n",
      "TRUE\n",
      "TRUE\n",
      "TRUE\n",
      "TRUE\n",
      "TRUE\n",
      "TRUE\n",
      "TRUE\n"
     ]
    },
    {
     "name": "stderr",
     "output_type": "stream",
     "text": [
      " 55%|█████▌    | 2870/5211 [00:26<00:19, 118.04it/s]"
     ]
    },
    {
     "name": "stdout",
     "output_type": "stream",
     "text": [
      "TRUE\n",
      "TRUE\n",
      "TRUE\n",
      "TRUE\n",
      "TRUE\n",
      "TRUE\n",
      "TRUE\n",
      "TRUE\n",
      "TRUE\n",
      "TRUE\n",
      "TRUE\n"
     ]
    },
    {
     "name": "stderr",
     "output_type": "stream",
     "text": [
      " 56%|█████▌    | 2894/5211 [00:26<00:21, 110.09it/s]"
     ]
    },
    {
     "name": "stdout",
     "output_type": "stream",
     "text": [
      "TRUE\n",
      "TRUE\n",
      "TRUE\n"
     ]
    },
    {
     "name": "stderr",
     "output_type": "stream",
     "text": [
      " 56%|█████▌    | 2928/5211 [00:26<00:22, 100.57it/s]"
     ]
    },
    {
     "name": "stdout",
     "output_type": "stream",
     "text": [
      "TRUE\n",
      "TRUE\n",
      "TRUE\n",
      "TRUE\n",
      "TRUE\n"
     ]
    },
    {
     "name": "stderr",
     "output_type": "stream",
     "text": [
      " 57%|█████▋    | 2950/5211 [00:26<00:23, 96.75it/s] "
     ]
    },
    {
     "name": "stdout",
     "output_type": "stream",
     "text": [
      "TRUE\n",
      "TRUE\n",
      "TRUE\n",
      "TRUE\n"
     ]
    },
    {
     "name": "stderr",
     "output_type": "stream",
     "text": [
      " 57%|█████▋    | 2973/5211 [00:27<00:22, 99.54it/s]"
     ]
    },
    {
     "name": "stdout",
     "output_type": "stream",
     "text": [
      "TRUE\n",
      "TRUE\n",
      "TRUE\n",
      "TRUE\n",
      "TRUE\n",
      "TRUE\n",
      "TRUE\n",
      "TRUE\n",
      "TRUE\n",
      "TRUE\n",
      "TRUE\n",
      "TRUE\n",
      "TRUE\n",
      "TRUE\n",
      "TRUE\n"
     ]
    },
    {
     "name": "stderr",
     "output_type": "stream",
     "text": [
      " 57%|█████▋    | 2994/5211 [00:27<00:23, 93.15it/s]"
     ]
    },
    {
     "name": "stdout",
     "output_type": "stream",
     "text": [
      "TRUE\n",
      "TRUE\n",
      "TRUE\n",
      "TRUE\n",
      "TRUE\n",
      "TRUE\n",
      "TRUE\n",
      "TRUE\n"
     ]
    },
    {
     "name": "stderr",
     "output_type": "stream",
     "text": [
      " 58%|█████▊    | 3013/5211 [00:27<00:26, 81.95it/s]"
     ]
    },
    {
     "name": "stdout",
     "output_type": "stream",
     "text": [
      "TRUE\n",
      "TRUE\n",
      "TRUE\n",
      "TRUE\n",
      "TRUE\n",
      "TRUE\n",
      "TRUE\n"
     ]
    },
    {
     "name": "stderr",
     "output_type": "stream",
     "text": [
      " 58%|█████▊    | 3038/5211 [00:27<00:21, 100.78it/s]"
     ]
    },
    {
     "name": "stdout",
     "output_type": "stream",
     "text": [
      "TRUE\n",
      "TRUE\n",
      "TRUE\n",
      "TRUE\n",
      "TRUE\n",
      "TRUE\n",
      "TRUE\n",
      "TRUE\n",
      "TRUE\n"
     ]
    },
    {
     "name": "stderr",
     "output_type": "stream",
     "text": [
      " 59%|█████▉    | 3076/5211 [00:28<00:19, 110.22it/s]"
     ]
    },
    {
     "name": "stdout",
     "output_type": "stream",
     "text": [
      "TRUE\n",
      "TRUE\n",
      "TRUE\n",
      "TRUE\n",
      "TRUE\n"
     ]
    },
    {
     "name": "stderr",
     "output_type": "stream",
     "text": [
      " 60%|█████▉    | 3101/5211 [00:28<00:17, 117.53it/s]"
     ]
    },
    {
     "name": "stdout",
     "output_type": "stream",
     "text": [
      "TRUE\n",
      "TRUE\n",
      "TRUE\n",
      "TRUE\n",
      "TRUE\n",
      "TRUE\n",
      "TRUE\n",
      "TRUE\n",
      "TRUE\n",
      "TRUE\n",
      "TRUE\n"
     ]
    },
    {
     "name": "stderr",
     "output_type": "stream",
     "text": [
      " 60%|█████▉    | 3126/5211 [00:28<00:18, 110.44it/s]"
     ]
    },
    {
     "name": "stdout",
     "output_type": "stream",
     "text": [
      "TRUE\n",
      "TRUE\n",
      "TRUE\n",
      "TRUE\n",
      "TRUE\n",
      "TRUE\n",
      "TRUE\n",
      "TRUE\n",
      "TRUE\n",
      "TRUE\n",
      "TRUE\n",
      "TRUE\n",
      "TRUE\n"
     ]
    },
    {
     "name": "stderr",
     "output_type": "stream",
     "text": [
      " 61%|██████    | 3153/5211 [00:28<00:17, 117.95it/s]"
     ]
    },
    {
     "name": "stdout",
     "output_type": "stream",
     "text": [
      "TRUE\n",
      "TRUE\n",
      "TRUE\n"
     ]
    },
    {
     "name": "stderr",
     "output_type": "stream",
     "text": [
      " 61%|██████    | 3178/5211 [00:29<00:17, 116.19it/s]"
     ]
    },
    {
     "name": "stdout",
     "output_type": "stream",
     "text": [
      "TRUE\n",
      "TRUE\n",
      "TRUE\n",
      "TRUE\n",
      "TRUE\n",
      "TRUE\n",
      "TRUE\n"
     ]
    },
    {
     "name": "stderr",
     "output_type": "stream",
     "text": [
      " 61%|██████▏   | 3202/5211 [00:29<00:19, 104.09it/s]"
     ]
    },
    {
     "name": "stdout",
     "output_type": "stream",
     "text": [
      "TRUE\n",
      "TRUE\n",
      "TRUE\n",
      "TRUE\n",
      "TRUE\n",
      "TRUE\n",
      "TRUE\n",
      "TRUE\n",
      "TRUE\n"
     ]
    },
    {
     "name": "stderr",
     "output_type": "stream",
     "text": [
      " 62%|██████▏   | 3228/5211 [00:29<00:18, 108.60it/s]"
     ]
    },
    {
     "name": "stdout",
     "output_type": "stream",
     "text": [
      "TRUE\n",
      "TRUE\n",
      "TRUE\n",
      "TRUE\n",
      "TRUE\n",
      "TRUE\n",
      "TRUE\n",
      "TRUE\n",
      "TRUE\n",
      "TRUE\n",
      "TRUE\n"
     ]
    },
    {
     "name": "stderr",
     "output_type": "stream",
     "text": [
      " 62%|██████▏   | 3256/5211 [00:29<00:16, 119.54it/s]"
     ]
    },
    {
     "name": "stdout",
     "output_type": "stream",
     "text": [
      "TRUE\n",
      "TRUE\n",
      "TRUE\n",
      "TRUE\n",
      "TRUE\n",
      "TRUE\n"
     ]
    },
    {
     "name": "stderr",
     "output_type": "stream",
     "text": [
      " 63%|██████▎   | 3283/5211 [00:30<00:16, 115.28it/s]"
     ]
    },
    {
     "name": "stdout",
     "output_type": "stream",
     "text": [
      "TRUE\n",
      "TRUE\n",
      "TRUE\n",
      "TRUE\n",
      "TRUE\n",
      "TRUE\n",
      "TRUE\n",
      "TRUE\n",
      "TRUE\n"
     ]
    },
    {
     "name": "stderr",
     "output_type": "stream",
     "text": [
      " 63%|██████▎   | 3307/5211 [00:30<00:17, 107.34it/s]"
     ]
    },
    {
     "name": "stdout",
     "output_type": "stream",
     "text": [
      "TRUE\n",
      "TRUE\n",
      "TRUE\n",
      "TRUE\n",
      "TRUE\n",
      "TRUE\n",
      "TRUE\n",
      "TRUE\n",
      "TRUE\n",
      "TRUE\n",
      "TRUE\n",
      "TRUE\n",
      "TRUE\n",
      "TRUE\n",
      "TRUE\n",
      "TRUE\n",
      "TRUE\n",
      "TRUE\n",
      "TRUE\n"
     ]
    },
    {
     "name": "stderr",
     "output_type": "stream",
     "text": [
      " 64%|██████▍   | 3329/5211 [00:30<00:19, 97.61it/s] "
     ]
    },
    {
     "name": "stdout",
     "output_type": "stream",
     "text": [
      "TRUE\n",
      "TRUE\n",
      "TRUE\n",
      "TRUE\n",
      "TRUE\n",
      "TRUE\n",
      "TRUE\n"
     ]
    },
    {
     "name": "stderr",
     "output_type": "stream",
     "text": [
      " 64%|██████▍   | 3354/5211 [00:30<00:17, 106.41it/s]"
     ]
    },
    {
     "name": "stdout",
     "output_type": "stream",
     "text": [
      "TRUE\n"
     ]
    },
    {
     "name": "stderr",
     "output_type": "stream",
     "text": [
      " 65%|██████▍   | 3365/5211 [00:30<00:17, 103.44it/s]"
     ]
    },
    {
     "name": "stdout",
     "output_type": "stream",
     "text": [
      "TRUE\n",
      "TRUE\n",
      "TRUE\n",
      "TRUE\n",
      "TRUE\n",
      "TRUE\n",
      "TRUE\n"
     ]
    },
    {
     "name": "stderr",
     "output_type": "stream",
     "text": [
      " 65%|██████▌   | 3390/5211 [00:31<00:16, 109.48it/s]"
     ]
    },
    {
     "name": "stdout",
     "output_type": "stream",
     "text": [
      "TRUE\n",
      "TRUE\n",
      "TRUE\n",
      "TRUE\n",
      "TRUE\n",
      "TRUE\n",
      "TRUE\n",
      "TRUE\n",
      "TRUE\n",
      "TRUE\n"
     ]
    },
    {
     "name": "stderr",
     "output_type": "stream",
     "text": [
      " 66%|██████▌   | 3430/5211 [00:31<00:14, 119.84it/s]"
     ]
    },
    {
     "name": "stdout",
     "output_type": "stream",
     "text": [
      "TRUE\n",
      "TRUE\n",
      "TRUE\n"
     ]
    },
    {
     "name": "stderr",
     "output_type": "stream",
     "text": [
      " 66%|██████▋   | 3455/5211 [00:31<00:14, 118.83it/s]"
     ]
    },
    {
     "name": "stdout",
     "output_type": "stream",
     "text": [
      "TRUE\n",
      "TRUE\n",
      "TRUE\n",
      "TRUE\n",
      "TRUE\n",
      "TRUE\n",
      "TRUE\n",
      "TRUE\n",
      "TRUE\n"
     ]
    },
    {
     "name": "stderr",
     "output_type": "stream",
     "text": [
      " 67%|██████▋   | 3479/5211 [00:31<00:16, 107.92it/s]"
     ]
    },
    {
     "name": "stdout",
     "output_type": "stream",
     "text": [
      "TRUE\n",
      "TRUE\n",
      "TRUE\n",
      "TRUE\n",
      "TRUE\n",
      "TRUE\n",
      "TRUE\n"
     ]
    },
    {
     "name": "stderr",
     "output_type": "stream",
     "text": [
      " 67%|██████▋   | 3502/5211 [00:32<00:16, 106.14it/s]"
     ]
    },
    {
     "name": "stdout",
     "output_type": "stream",
     "text": [
      "TRUE\n",
      "TRUE\n",
      "TRUE\n",
      "TRUE\n",
      "TRUE\n",
      "TRUE\n",
      "TRUE\n",
      "TRUE\n",
      "TRUE\n",
      "TRUE\n"
     ]
    },
    {
     "name": "stderr",
     "output_type": "stream",
     "text": [
      " 68%|██████▊   | 3530/5211 [00:32<00:13, 121.42it/s]"
     ]
    },
    {
     "name": "stdout",
     "output_type": "stream",
     "text": [
      "TRUE\n",
      "TRUE\n",
      "TRUE\n",
      "TRUE\n",
      "TRUE\n",
      "TRUE\n",
      "TRUE\n",
      "TRUE\n"
     ]
    },
    {
     "name": "stderr",
     "output_type": "stream",
     "text": [
      " 68%|██████▊   | 3555/5211 [00:32<00:15, 104.55it/s]"
     ]
    },
    {
     "name": "stdout",
     "output_type": "stream",
     "text": [
      "TRUE\n",
      "TRUE\n",
      "TRUE\n",
      "TRUE\n",
      "TRUE\n",
      "TRUE\n",
      "TRUE\n",
      "TRUE\n",
      "TRUE\n"
     ]
    },
    {
     "name": "stderr",
     "output_type": "stream",
     "text": [
      " 69%|██████▊   | 3582/5211 [00:32<00:13, 120.26it/s]"
     ]
    },
    {
     "name": "stdout",
     "output_type": "stream",
     "text": [
      "TRUE\n",
      "TRUE\n",
      "TRUE\n",
      "TRUE\n",
      "TRUE\n",
      "TRUE\n",
      "TRUE\n",
      "TRUE\n",
      "TRUE\n",
      "TRUE\n"
     ]
    },
    {
     "name": "stderr",
     "output_type": "stream",
     "text": [
      " 69%|██████▉   | 3612/5211 [00:32<00:12, 132.27it/s]"
     ]
    },
    {
     "name": "stdout",
     "output_type": "stream",
     "text": [
      "TRUE\n",
      "TRUE\n",
      "TRUE\n",
      "TRUE\n",
      "TRUE\n",
      "TRUE\n",
      "TRUE\n",
      "TRUE\n",
      "TRUE\n",
      "TRUE\n",
      "TRUE\n",
      "TRUE\n",
      "TRUE\n"
     ]
    },
    {
     "name": "stderr",
     "output_type": "stream",
     "text": [
      " 70%|██████▉   | 3639/5211 [00:33<00:14, 109.24it/s]"
     ]
    },
    {
     "name": "stdout",
     "output_type": "stream",
     "text": [
      "TRUE\n",
      "TRUE\n",
      "TRUE\n",
      "TRUE\n",
      "TRUE\n",
      "TRUE\n",
      "TRUE\n",
      "TRUE\n",
      "TRUE\n",
      "TRUE\n",
      "TRUE\n",
      "TRUE\n",
      "TRUE\n",
      "TRUE\n",
      "TRUE\n",
      "TRUE\n",
      "TRUE\n",
      "TRUE\n"
     ]
    },
    {
     "name": "stderr",
     "output_type": "stream",
     "text": [
      " 70%|███████   | 3651/5211 [00:33<00:14, 105.51it/s]"
     ]
    },
    {
     "name": "stdout",
     "output_type": "stream",
     "text": [
      "TRUE\n",
      "TRUE\n",
      "TRUE\n",
      "TRUE\n",
      "TRUE\n",
      "TRUE\n",
      "TRUE\n",
      "TRUE\n",
      "TRUE\n",
      "TRUE\n",
      "TRUE\n",
      "TRUE\n",
      "TRUE\n",
      "TRUE\n",
      "TRUE\n",
      "TRUE\n",
      "TRUE\n",
      "TRUE\n",
      "TRUE\n",
      "TRUE\n",
      "TRUE\n"
     ]
    },
    {
     "name": "stderr",
     "output_type": "stream",
     "text": [
      " 71%|███████   | 3675/5211 [00:33<00:13, 110.39it/s]"
     ]
    },
    {
     "name": "stdout",
     "output_type": "stream",
     "text": [
      "TRUE\n",
      "TRUE\n",
      "TRUE\n",
      "TRUE\n",
      "TRUE\n",
      "TRUE\n",
      "TRUE\n",
      "TRUE\n",
      "TRUE\n",
      "TRUE\n",
      "TRUE\n",
      "TRUE\n",
      "TRUE\n"
     ]
    },
    {
     "name": "stderr",
     "output_type": "stream",
     "text": [
      " 71%|███████▏  | 3715/5211 [00:33<00:12, 121.60it/s]"
     ]
    },
    {
     "name": "stdout",
     "output_type": "stream",
     "text": [
      "TRUE\n",
      "TRUE\n",
      "TRUE\n",
      "TRUE\n",
      "TRUE\n"
     ]
    },
    {
     "name": "stderr",
     "output_type": "stream",
     "text": [
      " 72%|███████▏  | 3728/5211 [00:34<00:12, 114.83it/s]"
     ]
    },
    {
     "name": "stdout",
     "output_type": "stream",
     "text": [
      "TRUE\n",
      "TRUE\n",
      "TRUE\n",
      "TRUE\n",
      "TRUE\n",
      "TRUE\n",
      "TRUE\n",
      "TRUE\n",
      "TRUE\n",
      "TRUE\n",
      "TRUE\n",
      "TRUE\n",
      "TRUE\n",
      "TRUE\n",
      "TRUE\n"
     ]
    },
    {
     "name": "stderr",
     "output_type": "stream",
     "text": [
      " 72%|███████▏  | 3751/5211 [00:34<00:15, 95.80it/s] "
     ]
    },
    {
     "name": "stdout",
     "output_type": "stream",
     "text": [
      "TRUE\n",
      "TRUE\n",
      "TRUE\n",
      "TRUE\n",
      "TRUE\n",
      "TRUE\n",
      "TRUE\n",
      "TRUE\n",
      "TRUE\n",
      "TRUE\n",
      "TRUE\n",
      "TRUE\n",
      "TRUE\n",
      "TRUE\n"
     ]
    },
    {
     "name": "stderr",
     "output_type": "stream",
     "text": [
      " 72%|███████▏  | 3771/5211 [00:34<00:15, 94.27it/s]"
     ]
    },
    {
     "name": "stdout",
     "output_type": "stream",
     "text": [
      "TRUE\n",
      "TRUE\n",
      "TRUE\n",
      "TRUE\n",
      "TRUE\n",
      "TRUE\n",
      "TRUE\n",
      "TRUE\n",
      "TRUE\n",
      "TRUE\n",
      "TRUE\n",
      "TRUE\n",
      "TRUE\n"
     ]
    },
    {
     "name": "stderr",
     "output_type": "stream",
     "text": [
      " 73%|███████▎  | 3791/5211 [00:34<00:15, 92.51it/s]"
     ]
    },
    {
     "name": "stdout",
     "output_type": "stream",
     "text": [
      "TRUE\n",
      "TRUE\n",
      "TRUE\n",
      "TRUE\n",
      "TRUE\n",
      "TRUE\n",
      "TRUE\n",
      "TRUE\n",
      "TRUE\n",
      "TRUE\n",
      "TRUE\n",
      "TRUE\n",
      "TRUE\n",
      "TRUE\n"
     ]
    },
    {
     "name": "stderr",
     "output_type": "stream",
     "text": [
      " 73%|███████▎  | 3811/5211 [00:34<00:15, 88.84it/s]"
     ]
    },
    {
     "name": "stdout",
     "output_type": "stream",
     "text": [
      "TRUE\n",
      "TRUE\n",
      "TRUE\n",
      "TRUE\n",
      "TRUE\n",
      "TRUE\n",
      "TRUE\n",
      "TRUE\n",
      "TRUE\n",
      "TRUE\n",
      "TRUE\n",
      "TRUE\n",
      "TRUE\n",
      "TRUE\n",
      "TRUE\n"
     ]
    },
    {
     "name": "stderr",
     "output_type": "stream",
     "text": [
      " 73%|███████▎  | 3829/5211 [00:35<00:16, 83.45it/s]"
     ]
    },
    {
     "name": "stdout",
     "output_type": "stream",
     "text": [
      "TRUE\n",
      "TRUE\n",
      "TRUE\n",
      "TRUE\n",
      "TRUE\n",
      "TRUE\n",
      "TRUE\n",
      "TRUE\n",
      "TRUE\n",
      "TRUE\n",
      "TRUE\n"
     ]
    },
    {
     "name": "stderr",
     "output_type": "stream",
     "text": [
      " 74%|███████▍  | 3847/5211 [00:35<00:16, 81.25it/s]"
     ]
    },
    {
     "name": "stdout",
     "output_type": "stream",
     "text": [
      "TRUE\n",
      "TRUE\n",
      "TRUE\n",
      "TRUE\n",
      "TRUE\n",
      "TRUE\n",
      "TRUE\n",
      "TRUE\n",
      "TRUE\n",
      "TRUE\n",
      "TRUE\n",
      "TRUE\n",
      "TRUE\n",
      "TRUE\n",
      "TRUE\n"
     ]
    },
    {
     "name": "stderr",
     "output_type": "stream",
     "text": [
      " 75%|███████▍  | 3890/5211 [00:35<00:11, 117.51it/s]"
     ]
    },
    {
     "name": "stdout",
     "output_type": "stream",
     "text": [
      "TRUE\n",
      "TRUE\n",
      "TRUE\n",
      "TRUE\n",
      "TRUE\n",
      "TRUE\n"
     ]
    },
    {
     "name": "stderr",
     "output_type": "stream",
     "text": [
      " 75%|███████▌  | 3919/5211 [00:35<00:10, 125.43it/s]"
     ]
    },
    {
     "name": "stdout",
     "output_type": "stream",
     "text": [
      "TRUE\n",
      "TRUE\n",
      "TRUE\n",
      "TRUE\n",
      "TRUE\n",
      "TRUE\n",
      "TRUE\n",
      "TRUE\n",
      "TRUE\n",
      "TRUE\n",
      "TRUE\n",
      "TRUE\n",
      "TRUE\n",
      "TRUE\n"
     ]
    },
    {
     "name": "stderr",
     "output_type": "stream",
     "text": [
      " 76%|███████▌  | 3946/5211 [00:36<00:10, 119.97it/s]"
     ]
    },
    {
     "name": "stdout",
     "output_type": "stream",
     "text": [
      "TRUE\n",
      "TRUE\n",
      "TRUE\n"
     ]
    },
    {
     "name": "stderr",
     "output_type": "stream",
     "text": [
      " 77%|███████▋  | 3992/5211 [00:36<00:08, 137.69it/s]"
     ]
    },
    {
     "name": "stdout",
     "output_type": "stream",
     "text": [
      "TRUE\n",
      "TRUE\n",
      "TRUE\n",
      "TRUE\n",
      "TRUE\n",
      "TRUE\n",
      "TRUE\n",
      "TRUE\n",
      "TRUE\n"
     ]
    },
    {
     "name": "stderr",
     "output_type": "stream",
     "text": [
      " 77%|███████▋  | 4020/5211 [00:36<00:08, 132.67it/s]"
     ]
    },
    {
     "name": "stdout",
     "output_type": "stream",
     "text": [
      "TRUE\n",
      "TRUE\n",
      "TRUE\n",
      "TRUE\n",
      "TRUE\n",
      "TRUE\n",
      "TRUE\n",
      "TRUE\n",
      "TRUE\n",
      "TRUE\n",
      "TRUE\n"
     ]
    },
    {
     "name": "stderr",
     "output_type": "stream",
     "text": [
      " 78%|███████▊  | 4049/5211 [00:36<00:08, 130.99it/s]"
     ]
    },
    {
     "name": "stdout",
     "output_type": "stream",
     "text": [
      "TRUE\n",
      "TRUE\n",
      "TRUE\n",
      "TRUE\n",
      "TRUE\n",
      "TRUE\n",
      "TRUE\n",
      "TRUE\n",
      "TRUE\n"
     ]
    },
    {
     "name": "stderr",
     "output_type": "stream",
     "text": [
      " 78%|███████▊  | 4076/5211 [00:37<00:09, 118.90it/s]"
     ]
    },
    {
     "name": "stdout",
     "output_type": "stream",
     "text": [
      "TRUE\n",
      "TRUE\n",
      "TRUE\n",
      "TRUE\n",
      "TRUE\n",
      "TRUE\n",
      "TRUE\n",
      "TRUE\n",
      "TRUE\n",
      "TRUE\n",
      "TRUE\n",
      "TRUE\n",
      "TRUE\n",
      "TRUE\n"
     ]
    },
    {
     "name": "stderr",
     "output_type": "stream",
     "text": [
      " 79%|███████▊  | 4101/5211 [00:37<00:10, 110.22it/s]"
     ]
    },
    {
     "name": "stdout",
     "output_type": "stream",
     "text": [
      "TRUE\n",
      "TRUE\n",
      "TRUE\n",
      "TRUE\n",
      "TRUE\n",
      "TRUE\n",
      "TRUE\n"
     ]
    },
    {
     "name": "stderr",
     "output_type": "stream",
     "text": [
      " 79%|███████▉  | 4128/5211 [00:37<00:09, 120.23it/s]"
     ]
    },
    {
     "name": "stdout",
     "output_type": "stream",
     "text": [
      "TRUE\n",
      "TRUE\n",
      "TRUE\n",
      "TRUE\n",
      "TRUE\n",
      "TRUE\n",
      "TRUE\n",
      "TRUE\n"
     ]
    },
    {
     "name": "stderr",
     "output_type": "stream",
     "text": [
      " 80%|███████▉  | 4154/5211 [00:37<00:09, 116.61it/s]"
     ]
    },
    {
     "name": "stdout",
     "output_type": "stream",
     "text": [
      "TRUE\n",
      "TRUE\n",
      "TRUE\n"
     ]
    },
    {
     "name": "stderr",
     "output_type": "stream",
     "text": [
      " 80%|████████  | 4178/5211 [00:38<00:08, 116.38it/s]"
     ]
    },
    {
     "name": "stdout",
     "output_type": "stream",
     "text": [
      "TRUE\n",
      "TRUE\n",
      "TRUE\n",
      "TRUE\n",
      "TRUE\n",
      "TRUE\n",
      "TRUE\n",
      "TRUE\n"
     ]
    },
    {
     "name": "stderr",
     "output_type": "stream",
     "text": [
      " 81%|████████  | 4202/5211 [00:38<00:09, 109.28it/s]"
     ]
    },
    {
     "name": "stdout",
     "output_type": "stream",
     "text": [
      "TRUE\n",
      "TRUE\n",
      "TRUE\n",
      "TRUE\n",
      "TRUE\n",
      "TRUE\n",
      "TRUE\n",
      "TRUE\n",
      "TRUE\n"
     ]
    },
    {
     "name": "stderr",
     "output_type": "stream",
     "text": [
      " 82%|████████▏ | 4258/5211 [00:38<00:06, 158.32it/s]"
     ]
    },
    {
     "name": "stdout",
     "output_type": "stream",
     "text": [
      "TRUE\n",
      "TRUE\n"
     ]
    },
    {
     "name": "stderr",
     "output_type": "stream",
     "text": [
      " 82%|████████▏ | 4275/5211 [00:38<00:06, 149.33it/s]"
     ]
    },
    {
     "name": "stdout",
     "output_type": "stream",
     "text": [
      "TRUE\n",
      "TRUE\n",
      "TRUE\n",
      "TRUE\n",
      "TRUE\n",
      "TRUE\n",
      "TRUE\n",
      "TRUE\n",
      "TRUE\n",
      "TRUE\n",
      "TRUE\n",
      "TRUE\n",
      "TRUE\n",
      "TRUE\n",
      "TRUE\n",
      "TRUE\n",
      "TRUE\n"
     ]
    },
    {
     "name": "stderr",
     "output_type": "stream",
     "text": [
      " 83%|████████▎ | 4305/5211 [00:39<00:06, 135.51it/s]"
     ]
    },
    {
     "name": "stdout",
     "output_type": "stream",
     "text": [
      "TRUE\n",
      "TRUE\n",
      "TRUE\n",
      "TRUE\n",
      "TRUE\n",
      "TRUE\n",
      "TRUE\n",
      "TRUE\n",
      "TRUE\n",
      "TRUE\n",
      "TRUE\n",
      "TRUE\n",
      "TRUE\n",
      "TRUE\n",
      "TRUE\n",
      "TRUE\n"
     ]
    },
    {
     "name": "stderr",
     "output_type": "stream",
     "text": [
      " 83%|████████▎ | 4348/5211 [00:39<00:07, 119.44it/s]"
     ]
    },
    {
     "name": "stdout",
     "output_type": "stream",
     "text": [
      "TRUE\n",
      "TRUE\n",
      "TRUE\n",
      "TRUE\n",
      "TRUE\n",
      "TRUE\n",
      "TRUE\n",
      "TRUE\n",
      "TRUE\n",
      "TRUE\n",
      "TRUE\n",
      "TRUE\n",
      "TRUE\n",
      "TRUE\n",
      "TRUE\n"
     ]
    },
    {
     "name": "stderr",
     "output_type": "stream",
     "text": [
      " 84%|████████▎ | 4361/5211 [00:39<00:07, 119.34it/s]"
     ]
    },
    {
     "name": "stdout",
     "output_type": "stream",
     "text": [
      "TRUE\n",
      "TRUE\n",
      "TRUE\n",
      "TRUE\n",
      "TRUE\n",
      "TRUE\n",
      "TRUE\n",
      "TRUE\n",
      "TRUE\n",
      "TRUE\n"
     ]
    },
    {
     "name": "stderr",
     "output_type": "stream",
     "text": [
      " 84%|████████▍ | 4388/5211 [00:39<00:07, 113.39it/s]"
     ]
    },
    {
     "name": "stdout",
     "output_type": "stream",
     "text": [
      "TRUE\n",
      "TRUE\n",
      "TRUE\n",
      "TRUE\n",
      "TRUE\n",
      "TRUE\n",
      "TRUE\n",
      "TRUE\n",
      "TRUE\n"
     ]
    },
    {
     "name": "stderr",
     "output_type": "stream",
     "text": [
      " 85%|████████▍ | 4424/5211 [00:40<00:07, 110.64it/s]"
     ]
    },
    {
     "name": "stdout",
     "output_type": "stream",
     "text": [
      "TRUE\n",
      "TRUE\n",
      "TRUE\n",
      "TRUE\n",
      "TRUE\n",
      "TRUE\n",
      "TRUE\n"
     ]
    },
    {
     "name": "stderr",
     "output_type": "stream",
     "text": [
      " 85%|████████▌ | 4448/5211 [00:40<00:06, 113.08it/s]"
     ]
    },
    {
     "name": "stdout",
     "output_type": "stream",
     "text": [
      "TRUE\n",
      "TRUE\n",
      "TRUE\n",
      "TRUE\n",
      "TRUE\n",
      "TRUE\n",
      "TRUE\n",
      "TRUE\n",
      "TRUE\n",
      "TRUE\n",
      "TRUE\n"
     ]
    },
    {
     "name": "stderr",
     "output_type": "stream",
     "text": [
      " 86%|████████▌ | 4471/5211 [00:40<00:06, 108.02it/s]"
     ]
    },
    {
     "name": "stdout",
     "output_type": "stream",
     "text": [
      "TRUE\n",
      "TRUE\n",
      "TRUE\n",
      "TRUE\n",
      "TRUE\n",
      "TRUE\n",
      "TRUE\n",
      "TRUE\n",
      "TRUE\n",
      "TRUE\n",
      "TRUE\n",
      "TRUE\n",
      "TRUE\n"
     ]
    },
    {
     "name": "stderr",
     "output_type": "stream",
     "text": [
      " 86%|████████▌ | 4493/5211 [00:40<00:07, 98.30it/s] "
     ]
    },
    {
     "name": "stdout",
     "output_type": "stream",
     "text": [
      "TRUE\n",
      "TRUE\n",
      "TRUE\n",
      "TRUE\n",
      "TRUE\n",
      "TRUE\n",
      "TRUE\n",
      "TRUE\n",
      "TRUE\n",
      "TRUE\n"
     ]
    },
    {
     "name": "stderr",
     "output_type": "stream",
     "text": [
      " 87%|████████▋ | 4513/5211 [00:41<00:07, 94.89it/s]"
     ]
    },
    {
     "name": "stdout",
     "output_type": "stream",
     "text": [
      "TRUE\n",
      "TRUE\n",
      "TRUE\n",
      "TRUE\n",
      "TRUE\n",
      "TRUE\n",
      "TRUE\n",
      "TRUE\n"
     ]
    },
    {
     "name": "stderr",
     "output_type": "stream",
     "text": [
      " 87%|████████▋ | 4535/5211 [00:41<00:06, 101.13it/s]"
     ]
    },
    {
     "name": "stdout",
     "output_type": "stream",
     "text": [
      "TRUE\n",
      "TRUE\n",
      "TRUE\n",
      "TRUE\n",
      "TRUE\n",
      "TRUE\n",
      "TRUE\n"
     ]
    },
    {
     "name": "stderr",
     "output_type": "stream",
     "text": [
      " 88%|████████▊ | 4575/5211 [00:41<00:05, 120.85it/s]"
     ]
    },
    {
     "name": "stdout",
     "output_type": "stream",
     "text": [
      "TRUE\n",
      "TRUE\n",
      "TRUE\n",
      "TRUE\n",
      "TRUE\n",
      "TRUE\n",
      "TRUE\n",
      "TRUE\n",
      "TRUE\n",
      "TRUE\n",
      "TRUE\n",
      "TRUE\n"
     ]
    },
    {
     "name": "stderr",
     "output_type": "stream",
     "text": [
      " 88%|████████▊ | 4603/5211 [00:41<00:04, 128.98it/s]"
     ]
    },
    {
     "name": "stdout",
     "output_type": "stream",
     "text": [
      "TRUE\n",
      "TRUE\n",
      "TRUE\n",
      "TRUE\n",
      "TRUE\n"
     ]
    },
    {
     "name": "stderr",
     "output_type": "stream",
     "text": [
      " 89%|████████▉ | 4647/5211 [00:42<00:04, 132.12it/s]"
     ]
    },
    {
     "name": "stdout",
     "output_type": "stream",
     "text": [
      "TRUE\n",
      "TRUE\n",
      "TRUE\n",
      "TRUE\n",
      "TRUE\n",
      "TRUE\n",
      "TRUE\n",
      "TRUE\n",
      "TRUE\n",
      "TRUE\n",
      "TRUE\n",
      "TRUE\n"
     ]
    },
    {
     "name": "stderr",
     "output_type": "stream",
     "text": [
      " 90%|████████▉ | 4675/5211 [00:42<00:04, 127.99it/s]"
     ]
    },
    {
     "name": "stdout",
     "output_type": "stream",
     "text": [
      "TRUE\n",
      "TRUE\n",
      "TRUE\n",
      "TRUE\n"
     ]
    },
    {
     "name": "stderr",
     "output_type": "stream",
     "text": [
      " 90%|█████████ | 4703/5211 [00:42<00:03, 128.09it/s]"
     ]
    },
    {
     "name": "stdout",
     "output_type": "stream",
     "text": [
      "TRUE\n",
      "TRUE\n",
      "TRUE\n",
      "TRUE\n",
      "TRUE\n",
      "TRUE\n"
     ]
    },
    {
     "name": "stderr",
     "output_type": "stream",
     "text": [
      " 91%|█████████ | 4735/5211 [00:42<00:03, 137.42it/s]"
     ]
    },
    {
     "name": "stdout",
     "output_type": "stream",
     "text": [
      "TRUE\n",
      "TRUE\n",
      "TRUE\n",
      "TRUE\n"
     ]
    },
    {
     "name": "stderr",
     "output_type": "stream",
     "text": [
      " 91%|█████████▏| 4762/5211 [00:43<00:03, 113.37it/s]"
     ]
    },
    {
     "name": "stdout",
     "output_type": "stream",
     "text": [
      "TRUE\n",
      "TRUE\n",
      "TRUE\n",
      "TRUE\n",
      "TRUE\n",
      "TRUE\n"
     ]
    },
    {
     "name": "stderr",
     "output_type": "stream",
     "text": [
      " 92%|█████████▏| 4786/5211 [00:43<00:03, 109.68it/s]"
     ]
    },
    {
     "name": "stdout",
     "output_type": "stream",
     "text": [
      "TRUE\n",
      "TRUE\n",
      "TRUE\n",
      "TRUE\n",
      "TRUE\n",
      "TRUE\n",
      "TRUE\n",
      "TRUE\n",
      "TRUE\n",
      "TRUE\n",
      "TRUE\n"
     ]
    },
    {
     "name": "stderr",
     "output_type": "stream",
     "text": [
      " 92%|█████████▏| 4810/5211 [00:43<00:03, 108.64it/s]"
     ]
    },
    {
     "name": "stdout",
     "output_type": "stream",
     "text": [
      "TRUE\n",
      "TRUE\n",
      "TRUE\n",
      "TRUE\n",
      "TRUE\n",
      "TRUE\n",
      "TRUE\n"
     ]
    },
    {
     "name": "stderr",
     "output_type": "stream",
     "text": [
      " 93%|█████████▎| 4833/5211 [00:43<00:03, 109.40it/s]"
     ]
    },
    {
     "name": "stdout",
     "output_type": "stream",
     "text": [
      "TRUE\n",
      "TRUE\n",
      "TRUE\n",
      "TRUE\n",
      "TRUE\n",
      "TRUE\n",
      "TRUE\n"
     ]
    },
    {
     "name": "stderr",
     "output_type": "stream",
     "text": [
      " 93%|█████████▎| 4868/5211 [00:43<00:02, 138.71it/s]"
     ]
    },
    {
     "name": "stdout",
     "output_type": "stream",
     "text": [
      "TRUE\n",
      "TRUE\n",
      "TRUE\n",
      "TRUE\n"
     ]
    },
    {
     "name": "stderr",
     "output_type": "stream",
     "text": [
      " 94%|█████████▍| 4896/5211 [00:44<00:02, 125.35it/s]"
     ]
    },
    {
     "name": "stdout",
     "output_type": "stream",
     "text": [
      "TRUE\n",
      "TRUE\n",
      "TRUE\n",
      "TRUE\n",
      "TRUE\n",
      "TRUE\n",
      "TRUE\n",
      "TRUE\n"
     ]
    },
    {
     "name": "stderr",
     "output_type": "stream",
     "text": [
      " 94%|█████████▍| 4922/5211 [00:44<00:02, 120.84it/s]"
     ]
    },
    {
     "name": "stdout",
     "output_type": "stream",
     "text": [
      "TRUE\n",
      "TRUE\n",
      "TRUE\n",
      "TRUE\n",
      "TRUE\n",
      "TRUE\n",
      "TRUE\n",
      "TRUE\n",
      "TRUE\n"
     ]
    },
    {
     "name": "stderr",
     "output_type": "stream",
     "text": [
      " 95%|█████████▍| 4947/5211 [00:44<00:02, 105.06it/s]"
     ]
    },
    {
     "name": "stdout",
     "output_type": "stream",
     "text": [
      "TRUE\n",
      "TRUE\n",
      "TRUE\n"
     ]
    },
    {
     "name": "stderr",
     "output_type": "stream",
     "text": [
      " 95%|█████████▌| 4973/5211 [00:44<00:02, 109.46it/s]"
     ]
    },
    {
     "name": "stdout",
     "output_type": "stream",
     "text": [
      "TRUE\n",
      "TRUE\n",
      "TRUE\n"
     ]
    },
    {
     "name": "stderr",
     "output_type": "stream",
     "text": [
      " 96%|█████████▌| 4996/5211 [00:45<00:02, 93.05it/s] "
     ]
    },
    {
     "name": "stdout",
     "output_type": "stream",
     "text": [
      "TRUE\n",
      "TRUE\n",
      "TRUE\n",
      "TRUE\n",
      "TRUE\n",
      "TRUE\n",
      "TRUE\n",
      "TRUE\n",
      "TRUE\n",
      "TRUE\n",
      "TRUE\n",
      "TRUE\n"
     ]
    },
    {
     "name": "stderr",
     "output_type": "stream",
     "text": [
      " 96%|█████████▌| 5006/5211 [00:45<00:02, 88.10it/s]"
     ]
    },
    {
     "name": "stdout",
     "output_type": "stream",
     "text": [
      "TRUE\n",
      "TRUE\n",
      "TRUE\n",
      "TRUE\n",
      "TRUE\n",
      "TRUE\n",
      "TRUE\n"
     ]
    },
    {
     "name": "stderr",
     "output_type": "stream",
     "text": [
      " 97%|█████████▋| 5034/5211 [00:45<00:02, 80.05it/s]"
     ]
    },
    {
     "name": "stdout",
     "output_type": "stream",
     "text": [
      "TRUE\n",
      "TRUE\n",
      "TRUE\n",
      "TRUE\n",
      "TRUE\n",
      "TRUE\n"
     ]
    },
    {
     "name": "stderr",
     "output_type": "stream",
     "text": [
      " 97%|█████████▋| 5061/5211 [00:45<00:01, 105.03it/s]"
     ]
    },
    {
     "name": "stdout",
     "output_type": "stream",
     "text": [
      "TRUE\n",
      "TRUE\n",
      "TRUE\n",
      "TRUE\n",
      "TRUE\n",
      "TRUE\n",
      "TRUE\n",
      "TRUE\n",
      "TRUE\n"
     ]
    },
    {
     "name": "stderr",
     "output_type": "stream",
     "text": [
      " 98%|█████████▊| 5087/5211 [00:46<00:01, 114.27it/s]"
     ]
    },
    {
     "name": "stdout",
     "output_type": "stream",
     "text": [
      "TRUE\n",
      "TRUE\n",
      "TRUE\n",
      "TRUE\n",
      "TRUE\n",
      "TRUE\n"
     ]
    },
    {
     "name": "stderr",
     "output_type": "stream",
     "text": [
      " 98%|█████████▊| 5114/5211 [00:46<00:00, 119.18it/s]"
     ]
    },
    {
     "name": "stdout",
     "output_type": "stream",
     "text": [
      "TRUE\n",
      "TRUE\n",
      "TRUE\n",
      "TRUE\n",
      "TRUE\n",
      "TRUE\n",
      "TRUE\n",
      "TRUE\n",
      "TRUE\n",
      "TRUE\n",
      "TRUE\n",
      "TRUE\n"
     ]
    },
    {
     "name": "stderr",
     "output_type": "stream",
     "text": [
      " 99%|█████████▊| 5139/5211 [00:46<00:00, 114.21it/s]"
     ]
    },
    {
     "name": "stdout",
     "output_type": "stream",
     "text": [
      "TRUE\n",
      "TRUE\n",
      "TRUE\n",
      "TRUE\n",
      "TRUE\n",
      "TRUE\n",
      "TRUE\n",
      "TRUE\n",
      "TRUE\n",
      "TRUE\n",
      "TRUE\n"
     ]
    },
    {
     "name": "stderr",
     "output_type": "stream",
     "text": [
      " 99%|█████████▉| 5163/5211 [00:46<00:00, 105.54it/s]"
     ]
    },
    {
     "name": "stdout",
     "output_type": "stream",
     "text": [
      "TRUE\n",
      "TRUE\n",
      "TRUE\n",
      "TRUE\n",
      "TRUE\n",
      "TRUE\n",
      "TRUE\n",
      "TRUE\n",
      "TRUE\n"
     ]
    },
    {
     "name": "stderr",
     "output_type": "stream",
     "text": [
      "100%|█████████▉| 5187/5211 [00:47<00:00, 109.07it/s]"
     ]
    },
    {
     "name": "stdout",
     "output_type": "stream",
     "text": [
      "TRUE\n",
      "TRUE\n",
      "TRUE\n",
      "TRUE\n",
      "TRUE\n",
      "TRUE\n"
     ]
    },
    {
     "name": "stderr",
     "output_type": "stream",
     "text": [
      "100%|██████████| 5211/5211 [00:47<00:00, 110.43it/s]"
     ]
    },
    {
     "name": "stdout",
     "output_type": "stream",
     "text": [
      "TRUE\n"
     ]
    },
    {
     "name": "stderr",
     "output_type": "stream",
     "text": [
      "\n"
     ]
    }
   ],
   "source": [
    "# Part 1 Attempt 2\n",
    "from copy import copy\n",
    "char_arr = copy(char_arr_orig)\n",
    "# print(char_arr)\n",
    "# Get guard start position\n",
    "current_obs_pos = set()\n",
    "for row , char_row in enumerate(char_arr):\n",
    "    for col, c in enumerate(char_row):\n",
    "        if char_arr[row, col] == guard_init:\n",
    "            guard_pos = (row,col)\n",
    "\n",
    "        if char_arr[row, col] == obstacle:\n",
    "            current_obs_pos.add((row,col))\n",
    "guard_pos\n",
    "\n",
    "def follow_path_special(char_arr, guard_pos, d):\n",
    "    # Define directions\n",
    "    d_str = ['UP', 'RIGHT', 'DOWN', 'LEFT']\n",
    "    d_unwrap = [(-1,0), (0,1), (1,0), (0,-1)]\n",
    "    d_axis = [1,0,1,0]\n",
    "    out_of_bounds = False\n",
    "    game_steps = 0\n",
    "    history = set()\n",
    "    while(not out_of_bounds):\n",
    "\n",
    "        # Advance guard\n",
    "        if d_axis[d] == 1:\n",
    "            col = guard_pos[1]\n",
    "            obs_idx = get_next_obs(char_arr[:,col], guard_pos[0], d_unwrap[d][0], obstacle)\n",
    "\n",
    "            adjust = -1\n",
    "            if np.sum(d_unwrap[d]) < 0:\n",
    "                adjust = 1\n",
    "        \n",
    "            if obs_idx == -1:\n",
    "                out_of_bounds = True\n",
    "                if adjust > 0:\n",
    "                    obs_idx = -1\n",
    "                else:\n",
    "                    obs_idx = char_arr.shape[0]+1\n",
    "                return False\n",
    "            # Get guard new pos\n",
    "\n",
    "            # Rotate\n",
    "            d = (d+1) % 4 \n",
    "\n",
    "            # Change all the symbols to visited\n",
    "            char_arr[obs_idx + adjust:guard_pos[0]+adjust:adjust, col] = visited\n",
    "\n",
    "            visited_nodes = set([(i,col,d) for i in range(obs_idx + adjust, guard_pos[0] + adjust, adjust)])\n",
    "            if history.intersection(visited_nodes):\n",
    "                print(\"TRUE\")\n",
    "                return True\n",
    "            else:\n",
    "                history.update(visited_nodes)\n",
    "\n",
    "            # Count number of steps taken\n",
    "            game_steps += np.abs(obs_idx - guard_pos[0])\n",
    "\n",
    "            guard_pos = (obs_idx + adjust, col)\n",
    "\n",
    "        else:\n",
    "            row = guard_pos[0]\n",
    "            # print(guard_pos,row, guard_pos[1])\n",
    "            # print(char_arr[row,:])\n",
    "            obs_idx = get_next_obs(char_arr[row,:], guard_pos[1], d_unwrap[d][1], obstacle)\n",
    "            # print(obs_idx)\n",
    "\n",
    "            adjust = -1\n",
    "            if np.sum(d_unwrap[d]) < 0:\n",
    "                adjust = 1\n",
    "\n",
    "            if obs_idx == -1:\n",
    "                out_of_bounds = True\n",
    "                if adjust > 0:\n",
    "                    obs_idx = -1\n",
    "                else:\n",
    "                    obs_idx = char_arr.shape[0]+1\n",
    "                return False\n",
    "\n",
    "            # Rotate\n",
    "            d = (d+1) % 4 \n",
    "\n",
    "            # Change all the symbols to visited\n",
    "            char_arr[row, obs_idx + adjust:guard_pos[1]+adjust:adjust] = visited\n",
    "            visited_nodes = set([(row,i,d) for i in range(obs_idx + adjust, guard_pos[1] + adjust, adjust)])\n",
    "            if history.intersection(visited_nodes):\n",
    "                print(\"TRUE\")\n",
    "                return True\n",
    "            else:\n",
    "                history.update(visited_nodes)\n",
    "            # Count number of steps taken\n",
    "            game_steps += np.abs(obs_idx - guard_pos[1])\n",
    "\n",
    "            guard_pos = (row, obs_idx + adjust)\n",
    "\n",
    "game_steps_orig, char_arr_filled = follow_path(char_arr, guard_pos, d)\n",
    "\n",
    "char_arr_filled[guard_pos[0], guard_pos[1]] = empty\n",
    "\n",
    "possible_obs = np.array(np.where(char_arr_filled == visited)).T\n",
    "result = []\n",
    "for obs_pos in tqdm(possible_obs):\n",
    "    arr = copy(char_arr_orig)\n",
    "    arr[obs_pos[0],obs_pos[1]] = obstacle\n",
    "    if follow_path_special(arr, guard_pos, d):\n",
    "        result.append(obs_pos)\n",
    "    \n",
    "\n",
    "\n"
   ]
  },
  {
   "cell_type": "code",
   "execution_count": 139,
   "metadata": {},
   "outputs": [
    {
     "name": "stdout",
     "output_type": "stream",
     "text": [
      "1767\n"
     ]
    }
   ],
   "source": [
    "print(len(set([(int(i[0]), int(i[1])) for i in result])))"
   ]
  },
  {
   "cell_type": "code",
   "execution_count": 5,
   "metadata": {},
   "outputs": [
    {
     "name": "stdout",
     "output_type": "stream",
     "text": [
      "5212\n"
     ]
    }
   ],
   "source": [
    "char_arr = np.array([[c for c in entry] for entry in entries])\n",
    "# print(char_arr)\n",
    "char_arr_shape = char_arr.shape\n",
    "obstacle = '#'\n",
    "empty = '.'\n",
    "visited = 'X'\n",
    "guard_init = '^'\n",
    "guard_pos = ()\n",
    "\n",
    "def add(a,b):\n",
    "    result = []\n",
    "    for _a, _b in zip(a,b):\n",
    "        result.append(_a+_b)\n",
    "    return tuple(result)\n",
    "\n",
    "def index(arr, v):\n",
    "    return arr[v[0],v[1]]\n",
    "\n",
    "def inbounds(bounds, pos):\n",
    "    for b, p in zip(bounds, pos):\n",
    "        if p < 0 or p >= b:\n",
    "            return False\n",
    "    return True\n",
    "\n",
    "def setc(arr, pos, c):\n",
    "    arr[pos[0],pos[1]] = c\n",
    "\n",
    "visited_dict = {}\n",
    "when_visited = {}\n",
    "step = 0\n",
    "for row , char_row in enumerate(char_arr):\n",
    "    for col, c in enumerate(char_row):\n",
    "        if char_arr[row, col] == guard_init:\n",
    "            guard_pos = (row,col)\n",
    "guard_pos\n",
    "\n",
    "guard_inbounds = True\n",
    "d_str = ['UP', 'RIGHT', 'DOWN', 'LEFT']\n",
    "d_unwrap = [(-1,0), (0,1), (1,0), (0,-1)]\n",
    "d = 0\n",
    "while(guard_inbounds):\n",
    "    # Check infront of guard\n",
    "    new_pos = add(guard_pos, d_unwrap[d])\n",
    "    if not inbounds(char_arr_shape, new_pos):\n",
    "        guard_inbounds = False\n",
    "        setc(char_arr, guard_pos, visited)\n",
    "        continue\n",
    "    if index(char_arr, new_pos) == obstacle:\n",
    "        # Turn right\n",
    "        visited_dict.setdefault(guard_pos,[])\n",
    "        visited_dict[guard_pos].append(d)\n",
    "        when_visited.setdefault(guard_pos,[])\n",
    "        when_visited[guard_pos].append(step)\n",
    "        d = (d + 1) % 4\n",
    "    else:\n",
    "        # Move forward\n",
    "        if new_pos == (9,6) or guard_pos == (9,6):\n",
    "            print(\"MATCH\")\n",
    "        setc(char_arr, new_pos, guard_init)\n",
    "        setc(char_arr, guard_pos, visited)\n",
    "        visited_dict.setdefault(guard_pos,[])\n",
    "        visited_dict[guard_pos].append(d)\n",
    "        when_visited.setdefault(guard_pos,[])\n",
    "        when_visited[guard_pos].append(step)\n",
    "        step += 1\n",
    "        guard_pos = new_pos\n",
    "# print(char_arr)\n",
    "print(np.sum(char_arr == visited))"
   ]
  },
  {
   "cell_type": "markdown",
   "metadata": {},
   "source": [
    "# Part 2"
   ]
  },
  {
   "cell_type": "code",
   "execution_count": null,
   "metadata": {},
   "outputs": [],
   "source": [
    "# Part 2 Attempt 4\n",
    "from copy import copy\n",
    "char_arr = copy(char_arr_orig)\n",
    "# print(char_arr)\n",
    "# Get guard start position\n",
    "current_obs_pos = set()\n",
    "for row , char_row in enumerate(char_arr):\n",
    "    for col, c in enumerate(char_row):\n",
    "        if char_arr[row, col] == guard_init:\n",
    "            guard_pos = (row,col)\n",
    "\n",
    "        if char_arr[row, col] == obstacle:\n",
    "            current_obs_pos.add((row,col))\n",
    "guard_pos\n",
    "\n",
    "\n",
    "# Define directions\n",
    "d_str = ['UP', 'RIGHT', 'DOWN', 'LEFT']\n",
    "d_unwrap = [(-1,0), (0,1), (1,0), (0,-1)]\n",
    "d_axis = [1,0,1,0]\n",
    "d = 0\n",
    "out_of_bounds = False\n",
    "game_steps = 0\n",
    "while(not out_of_bounds):\n",
    "\n",
    "    # Advance guard\n",
    "    if d_axis[d] == 1:\n",
    "        col = guard_pos[1]\n",
    "        obs_idx = get_next_obs(char_arr[:,col], guard_pos[0], d_unwrap[d][0], obstacle)\n",
    "\n",
    "        adjust = -1\n",
    "        if np.sum(d_unwrap[d]) < 0:\n",
    "            adjust = 1\n",
    "    \n",
    "        if obs_idx == -1:\n",
    "            out_of_bounds = True\n",
    "            if adjust > 0:\n",
    "                obs_idx = -1\n",
    "            else:\n",
    "                obs_idx = char_arr.shape[0]+1\n",
    "        # Get guard new pos\n",
    "\n",
    "        # Rotate\n",
    "        d = (d+1) % 4 \n",
    "\n",
    "        # Change all the symbols to visited\n",
    "        char_arr[obs_idx + adjust:guard_pos[0]+adjust:adjust, col] = visited\n",
    "\n",
    "\n",
    "        # Count number of steps taken\n",
    "        game_steps += np.abs(obs_idx - guard_pos[0])\n",
    "\n",
    "        guard_pos = (obs_idx + adjust, col)\n",
    "\n",
    "    else:\n",
    "        row = guard_pos[0]\n",
    "        # print(guard_pos,row, guard_pos[1])\n",
    "        # print(char_arr[row,:])\n",
    "        obs_idx = get_next_obs(char_arr[row,:], guard_pos[1], d_unwrap[d][1], obstacle)\n",
    "        # print(obs_idx)\n",
    "\n",
    "        adjust = -1\n",
    "        if np.sum(d_unwrap[d]) < 0:\n",
    "            adjust = 1\n",
    "\n",
    "        if obs_idx == -1:\n",
    "            out_of_bounds = True\n",
    "            if adjust > 0:\n",
    "                obs_idx = -1\n",
    "            else:\n",
    "                obs_idx = char_arr.shape[0]+1\n",
    "\n",
    "        # Rotate\n",
    "        d = (d+1) % 4 \n",
    "\n",
    "        # Change all the symbols to visited\n",
    "        char_arr[row, obs_idx + adjust:guard_pos[1]+adjust:adjust] = visited\n",
    "        # Count number of steps taken\n",
    "        game_steps += np.abs(obs_idx - guard_pos[1])\n",
    "\n",
    "        guard_pos = (row, obs_idx + adjust)\n",
    "\n",
    "print(f\"Number of steps : {game_steps}\")\n",
    "img = np.where(char_arr == visited, 1, 0)\n",
    "img1 = np.where(char_arr == obstacle, 10, 0)\n",
    "f = plt.figure()\n",
    "f.set_size_inches((10,10))\n",
    "plt.imshow(img+ img1)\n",
    "print(f\"Number of visited squares : {np.sum(np.where(char_arr == visited, 1, 0))}\")\n",
    "\n",
    "\n",
    "\n"
   ]
  },
  {
   "cell_type": "code",
   "execution_count": 16,
   "metadata": {},
   "outputs": [
    {
     "name": "stdout",
     "output_type": "stream",
     "text": [
      "0\n",
      "1\n",
      "2\n",
      "3\n",
      "4\n",
      "5\n",
      "5\n",
      "6\n",
      "7\n",
      "8\n",
      "9\n",
      "9\n",
      "10\n",
      "11\n",
      "12\n",
      "13\n",
      "14\n",
      "14\n",
      "15\n",
      "16\n",
      "17\n",
      "18\n",
      "check (5, 4) 0\n",
      "19\n",
      "20\n",
      "20\n",
      "21\n",
      "22\n",
      "22\n",
      "23\n",
      "24\n",
      "25\n",
      "26\n",
      "26\n",
      "27\n",
      "28\n",
      "check (6, 5) 3\n",
      "29\n",
      "30\n",
      "30\n",
      "31\n",
      "32\n",
      "check (6, 4) 0\n",
      "33\n",
      "34\n",
      "check (6, 2) 0\n",
      "35\n",
      "35\n",
      "36\n",
      "36\n",
      "37\n",
      "38\n",
      "39\n",
      "40\n",
      "41\n",
      "check (8, 6) 2\n",
      "42\n",
      "42\n",
      "43\n",
      "check (8, 6) 3\n",
      "44\n"
     ]
    },
    {
     "data": {
      "image/png": "[encoded data removed]",
      "text/plain": [
       "<Figure size 2000x2000 with 1 Axes>"
      ]
     },
     "metadata": {},
     "output_type": "display_data"
    },
    {
     "name": "stdout",
     "output_type": "stream",
     "text": [
      "6\n"
     ]
    }
   ],
   "source": [
    "char_arr = np.array([[c for c in entry] for entry in entries])\n",
    "# print(char_arr)\n",
    "char_arr_shape = char_arr.shape\n",
    "obstacle = '#'\n",
    "empty = '.'\n",
    "visited = 'X'\n",
    "guard_init = '^'\n",
    "guard_pos = ()\n",
    "\n",
    "def add(a,b):\n",
    "    result = []\n",
    "    for _a, _b in zip(a,b):\n",
    "        result.append(_a+_b)\n",
    "    return tuple(result)\n",
    "\n",
    "def index(arr, v):\n",
    "    return arr[v[0],v[1]]\n",
    "\n",
    "def inbounds(bounds, pos):\n",
    "    for b, p in zip(bounds, pos):\n",
    "        if p < 0 or p >= b:\n",
    "            return False\n",
    "    return True\n",
    "\n",
    "def setc(arr, pos, c):\n",
    "    arr[pos[0],pos[1]] = c\n",
    "\n",
    "# Find position of important items like obstacles and guard\n",
    "current_obs_pos = set()\n",
    "for row , char_row in enumerate(char_arr):\n",
    "    for col, c in enumerate(char_row):\n",
    "        if char_arr[row, col] == guard_init:\n",
    "            guard_pos = (row,col)\n",
    "        if char_arr[row,col] == obstacle:\n",
    "            current_obs_pos.add((row,col))\n",
    "guard_start_pos = guard_pos\n",
    "\n",
    "# Define direction for quality of life\n",
    "d_str = ['UP', 'RIGHT', 'DOWN', 'LEFT']\n",
    "d_unwrap = [(-1,0), (0,1), (1,0), (0,-1)]\n",
    "d = 0\n",
    "\n",
    "def follow_path_normal(arr, guard_pos, d, visited_dict, when_visited, step):\n",
    "    # Advance the guard\n",
    "    new_pos = add(guard_pos, d_unwrap[d])\n",
    "\n",
    "    # Check if we should stop\n",
    "    if stopping_result := not inbounds(char_arr_shape, new_pos):\n",
    "        setc(arr, guard_pos, visited)\n",
    "        visited_dict.setdefault(guard_pos,[])\n",
    "        visited_dict[guard_pos].append(d)\n",
    "        when_visited.setdefault(guard_pos,[])\n",
    "        when_visited[guard_pos].append(step)\n",
    "        return\n",
    "\n",
    "    # Check if we hit an obstacle\n",
    "    if index(arr, new_pos) == obstacle:\n",
    "        # Turn right\n",
    "        visited_dict.setdefault(guard_pos,[])\n",
    "        visited_dict[guard_pos].append(d)\n",
    "        when_visited.setdefault(guard_pos,[])\n",
    "        when_visited[guard_pos].append(step)\n",
    "        d = (d + 1) % 4\n",
    "    else:\n",
    "        # Move forward\n",
    "        setc(arr, new_pos, guard_init)\n",
    "        setc(arr, guard_pos, visited)\n",
    "        visited_dict.setdefault(guard_pos,[])\n",
    "        visited_dict[guard_pos].append(d)\n",
    "        when_visited.setdefault(guard_pos,[])\n",
    "        when_visited[guard_pos].append(step)\n",
    "        step += 1\n",
    "        guard_pos = new_pos\n",
    "    return follow_path_normal(arr, guard_pos, d, visited_dict, when_visited, step)\n",
    "\n",
    "def stop(pos, d):\n",
    "    if not inbounds(char_arr_shape, pos):\n",
    "        return 1\n",
    "    if have_we_been_here_before(pos, d, visited_dict, when_visited, step):\n",
    "        return 2\n",
    "    return 0\n",
    "\n",
    "\n",
    "def follow_path_been_here_before(arr, guard_pos, d, visited_dict, when_visited, step_origin, step, history):\n",
    "    # print(f\"Follow : {step} {guard_pos} {d}\")\n",
    "    # Advance the guard\n",
    "    new_pos = add(guard_pos, d_unwrap[d])\n",
    "    # print(f\"Follow path : {new_pos} {d_str[d]}\")\n",
    "\n",
    "    if (new_pos, d) in history:\n",
    "        # print(\"HISTROY : {step} {new_pos}\")\n",
    "        return history[(new_pos, d)]\n",
    "\n",
    "    # Check if we should stop\n",
    "    if not inbounds(arr.shape, new_pos) or have_we_been_here_before(new_pos, d, visited_dict, when_visited, step):\n",
    "        # setc(arr, guard_pos, visited)\n",
    "        if not inbounds(arr.shape, new_pos):\n",
    "            # print(f\"OUT of BOUNDS : {step} {new_pos}\")\n",
    "            history.setdefault((new_pos, d), False)\n",
    "        else:\n",
    "            # print(f\"WE KNOW THIS ONE : {step} {new_pos}\")\n",
    "            history.setdefault((new_pos, d), True)\n",
    "            # history[(new_pos,d )] = True\n",
    "        return history[((new_pos, d))]\n",
    "\n",
    "    # Check if we hit an obstacle\n",
    "    if index(arr, new_pos) == obstacle:\n",
    "        visited_dict.setdefault(guard_pos,[])\n",
    "        visited_dict[guard_pos].append(d)\n",
    "        when_visited.setdefault(guard_pos,[])\n",
    "        when_visited[guard_pos].append(step)\n",
    "        # Turn right\n",
    "        d = (d + 1) % 4\n",
    "    else:\n",
    "        # Move forward\n",
    "        # setc(arr, new_pos, guard_init)\n",
    "        # setc(arr, guard_pos, visited)\n",
    "        visited_dict.setdefault(guard_pos,[])\n",
    "        visited_dict[guard_pos].append(d)\n",
    "        when_visited.setdefault(guard_pos,[])\n",
    "        when_visited[guard_pos].append(step)\n",
    "        step += 1\n",
    "        guard_pos = new_pos\n",
    "    result = follow_path_been_here_before(arr, guard_pos, d, visited_dict, when_visited, step_origin, step, history)\n",
    "    history.setdefault((guard_pos, d), result)\n",
    "    return history[(guard_pos,d)]\n",
    "\n",
    "\n",
    "def have_we_been_here_before(pos, d, visited_dict, when_visited, step):\n",
    "    if pos in visited_dict and d in visited_dict[pos]:\n",
    "        print(\"check\",pos,d)\n",
    "        if when_visited[pos][visited_dict[pos].index(d)] <= step:\n",
    "            return True\n",
    "\n",
    "    return False\n",
    "\n",
    "# visited_dict = {}\n",
    "# when_visited = {}\n",
    "# step = 0\n",
    "# follow_path_normal(char_arr, guard_pos, d, visited_dict, when_visited, step)\n",
    "# print(len(visited_dict))\n",
    "# print(np.sum(char_arr == visited))\n",
    "\n",
    "\n",
    "def follow_path_special(arr, guard_pos, d, visited_dict, when_visited, step, obs_pos, potential_spots):\n",
    "    print(step)\n",
    "\n",
    "    # Advance the guard\n",
    "    new_pos = add(guard_pos, d_unwrap[d])\n",
    "\n",
    "    # Check if the new_position could be an obstacle\n",
    "    new_obs_pos = new_pos\n",
    "    new_guard_d = (d+1)%4\n",
    "    history = {}\n",
    "    if follow_path_been_here_before(arr, guard_pos, new_guard_d, deepcopy(visited_dict), deepcopy(when_visited), step, step, history):\n",
    "        # print(guard_pos, new_pos, d_str[d], d_str[new_guard_d])\n",
    "        # print(history)\n",
    "        # print(visited_dict)\n",
    "        # print(when_visited)\n",
    "        obs_pos.append(new_obs_pos)\n",
    "\n",
    "    # Check if we should stop\n",
    "    if not inbounds(arr.shape, new_pos):\n",
    "        # setc(arr, guard_pos, visited)\n",
    "        return\n",
    "\n",
    "    # Check if we hit an obstacle\n",
    "    if index(arr, new_pos) == obstacle:\n",
    "        # Turn right\n",
    "        visited_dict.setdefault(guard_pos,[])\n",
    "        visited_dict[guard_pos].append(d)\n",
    "        when_visited.setdefault(guard_pos,[])\n",
    "        when_visited[guard_pos].append(step)\n",
    "        \n",
    "        d = (d + 1) % 4\n",
    "    else:\n",
    "        # Move forward\n",
    "        # setc(arr, new_pos, guard_init)\n",
    "        # setc(arr, guard_pos, visited)\n",
    "        visited_dict.setdefault(guard_pos,[])\n",
    "        visited_dict[guard_pos].append(d)\n",
    "        when_visited.setdefault(guard_pos,[])\n",
    "        when_visited[guard_pos].append(step)\n",
    "        step += 1\n",
    "        guard_pos = new_pos\n",
    "\n",
    "    # if len(obs_pos) > 2:\n",
    "    #     return\n",
    "    return follow_path_special(arr, guard_pos, d, visited_dict, when_visited, step, obs_pos)\n",
    "\n",
    "obs_pos = []\n",
    "step = 0\n",
    "new_visited_dict = {}\n",
    "new_when_visited = {}\n",
    "potential_spots = {}\n",
    "follow_path_special(char_arr, guard_start_pos, d, new_visited_dict, new_when_visited, step, obs_pos, potential_spots)\n",
    "# print(obs_pos)\n",
    "new_obs_pos = set(obs_pos).difference(current_obs_pos)\n",
    "new_obs_pos = new_obs_pos.difference(set(guard_start_pos))\n",
    "obs_np = np.array(obs_pos)\n",
    "fig = plt.gcf()\n",
    "fig.set_size_inches((20,20))\n",
    "plt.scatter(obs_np[:,1], obs_np[:,0])\n",
    "obs_np = np.array(list(current_obs_pos))\n",
    "plt.scatter(obs_np[:,1], obs_np[:,0], c='r')\n",
    "plt.gca().invert_yaxis()\n",
    "plt.grid()\n",
    "plt.yticks(list(range(char_arr.shape[0])))\n",
    "plt.xticks(list(range(char_arr.shape[0])))\n",
    "plt.show()\n",
    "# plt.yticks(list(range(9,-1,-1)))\n",
    "print(len(new_obs_pos))\n",
    "\n",
    "# Notes:\n",
    "\n",
    "# Steps are different between the OG path and the new path.\n",
    "# Sort what visited places are allows from OG places and give them like a -1 number"
   ]
  },
  {
   "cell_type": "code",
   "execution_count": 10,
   "metadata": {},
   "outputs": [
    {
     "name": "stdout",
     "output_type": "stream",
     "text": [
      "0\n"
     ]
    }
   ],
   "source": [
    "pos_arr = np.array(list(new_obs_pos))\n",
    "print(np.sum(pos_arr < 0))"
   ]
  },
  {
   "cell_type": "code",
   "execution_count": null,
   "metadata": {},
   "outputs": [],
   "source": [
    "char_arr = np.array([[c for c in entry] for entry in entries])\n",
    "# print(char_arr)\n",
    "char_arr_shape = char_arr.shape\n",
    "obstacle = '#'\n",
    "empty = '.'\n",
    "visited = 'X'\n",
    "guard_init = '^'\n",
    "guard_pos = ()\n",
    "\n",
    "def add(a,b):\n",
    "    result = []\n",
    "    for _a, _b in zip(a,b):\n",
    "        result.append(_a+_b)\n",
    "    return tuple(result)\n",
    "\n",
    "def index(arr, v):\n",
    "    return arr[v[0],v[1]]\n",
    "\n",
    "def inbounds(bounds, pos):\n",
    "    for b, p in zip(bounds, pos):\n",
    "        if p < 0 or p >= b:\n",
    "            return False\n",
    "    return True\n",
    "\n",
    "def setc(arr, pos, c):\n",
    "    arr[pos[0],pos[1]] = c\n",
    "\n",
    "# Find position of important items like obstacles and guard\n",
    "current_obs_pos = set()\n",
    "for row , char_row in enumerate(char_arr):\n",
    "    for col, c in enumerate(char_row):\n",
    "        if char_arr[row, col] == guard_init:\n",
    "            guard_pos = (row,col)\n",
    "        if char_arr[row,col] == obstacle:\n",
    "            current_obs_pos.add((row,col))\n",
    "guard_start_pos = guard_pos\n",
    "\n",
    "# Define direction for quality of life\n",
    "d_str = ['UP', 'RIGHT', 'DOWN', 'LEFT']\n",
    "d_unwrap = [(-1,0), (0,1), (1,0), (0,-1)]\n",
    "d = 0\n",
    "\n",
    "def follow_path_normal(arr, guard_pos, d):\n",
    "    d_str = ['UP', 'RIGHT', 'DOWN', 'LEFT']\n",
    "    d_unwrap = [(-1,0), (0,1), (1,0), (0,-1)]\n",
    "    # some metric to track\n",
    "    visited_dict = {}\n",
    "    when_visited = {}\n",
    "    step = 0\n",
    "    while(1):\n",
    "        # Advance the guard\n",
    "        new_pos = add(guard_pos, d_unwrap[d])\n",
    "\n",
    "        # Check if we should stop\n",
    "        if stopping_result := not inbounds(char_arr_shape, new_pos):\n",
    "            setc(arr, guard_pos, visited)\n",
    "            visited_dict.setdefault(guard_pos,[])\n",
    "            visited_dict[guard_pos].append(d)\n",
    "            when_visited.setdefault(guard_pos,[])\n",
    "            when_visited[guard_pos].append(step)\n",
    "            break\n",
    "\n",
    "        # Check if we hit an obstacle\n",
    "        if index(arr, new_pos) == obstacle:\n",
    "            # Turn right\n",
    "            visited_dict.setdefault(guard_pos,[])\n",
    "            visited_dict[guard_pos].append(d)\n",
    "            when_visited.setdefault(guard_pos,[])\n",
    "            when_visited[guard_pos].append(step)\n",
    "            d = (d + 1) % 4\n",
    "        else:\n",
    "            # Move forward\n",
    "            setc(arr, new_pos, guard_init)\n",
    "            setc(arr, guard_pos, visited)\n",
    "            visited_dict.setdefault(guard_pos,[])\n",
    "            visited_dict[guard_pos].append(d)\n",
    "            when_visited.setdefault(guard_pos,[])\n",
    "            when_visited[guard_pos].append(step)\n",
    "            step += 1\n",
    "            guard_pos = new_pos\n",
    "    return visited_dict, when_visited, stopping_result\n",
    "\n",
    "def stop(pos, d):\n",
    "    if not inbounds(char_arr_shape, pos):\n",
    "        return 1\n",
    "    if have_we_been_here_before(pos, d, visited_dict, when_visited, step):\n",
    "        return 2\n",
    "    return 0\n",
    "\n",
    "@memory.cache\n",
    "def follow_path_been_here_before(arr, guard_pos, d, visited_dict, when_visited, step):\n",
    "    d_str = ['UP', 'RIGHT', 'DOWN', 'LEFT']\n",
    "    d_unwrap = [(-1,0), (0,1), (1,0), (0,-1)]\n",
    "    # some metric to track\n",
    "\n",
    "    while(1):\n",
    "        # Advance the guard\n",
    "        new_pos = add(guard_pos, d_unwrap[d])\n",
    "\n",
    "        # Check if we should stop\n",
    "        \n",
    "        if not inbounds(arr.shape, new_pos) or have_we_been_here_before(new_pos, d, visited_dict, when_visited, step) :\n",
    "            # setc(arr, guard_pos, visited)\n",
    "            if not inbounds(arr.shape, new_pos):\n",
    "                stopping_result = 1\n",
    "            else:\n",
    "                stopping_result = 2\n",
    "            break\n",
    "\n",
    "        # Check if we hit an obstacle\n",
    "        if index(arr, new_pos) == obstacle:\n",
    "            # Turn right\n",
    "            d = (d + 1) % 4\n",
    "        else:\n",
    "            # Move forward\n",
    "            # setc(arr, new_pos, guard_init)\n",
    "            # setc(arr, guard_pos, visited)\n",
    "            step += 1\n",
    "            guard_pos = new_pos\n",
    "    return visited_dict, when_visited, stopping_result\n",
    "\n",
    "\n",
    "def have_we_been_here_before(pos, d, visited_dict, when_visited, step):\n",
    "    if pos in visited_dict and d in visited_dict[pos]:\n",
    "            # if when_visited[pos][visited_dict[pos].index(d)] <= step:\n",
    "            return True\n",
    "\n",
    "    return False\n",
    "\n",
    "@memory.cache\n",
    "def will_we_be_where_weve_been(arr, pos, d, visited_dict, when_visited, step):\n",
    "    # # we are where we are, move us in d\n",
    "    # next_pos = add(pos, d)\n",
    "\n",
    "    # Check if we are out-of-bounds, or if this is an obstacle\n",
    "    # follow path if it is an obstacle unit you are out-of-bounds or hit where we have been\n",
    "    def stop(pos, d):\n",
    "        if not inbounds(char_arr_shape, pos):\n",
    "            return 1\n",
    "        if have_we_been_here_before(pos, d, visited_dict, when_visited, step):\n",
    "            return 2\n",
    "        return 0\n",
    "        \n",
    "    _visited_dict, _when_visited, result = follow_path_been_here_before(arr, pos, d, visited_dict, when_visited, step)\n",
    "    if result == 2:\n",
    "        return True\n",
    "    return False\n",
    "\n",
    "visited_dict, when_visited, result = follow_path_normal(char_arr, guard_pos, d)\n",
    "print(len(visited_dict))\n",
    "print(np.sum(char_arr == visited))\n",
    "\n",
    "def follow_path_special(arr, guard_pos, d, stop_criteria, visited_dict, when_visited):\n",
    "    d_str = ['UP', 'RIGHT', 'DOWN', 'LEFT']\n",
    "    d_unwrap = [(-1,0), (0,1), (1,0), (0,-1)]\n",
    "    # some metric to track\n",
    "\n",
    "    obs_pos = []\n",
    "    step = 0\n",
    "    while(1):\n",
    "        print(step)\n",
    "\n",
    "        # Advance the guard\n",
    "        new_pos = add(guard_pos, d_unwrap[d])\n",
    "\n",
    "        # Check if the new_position could be an obstacle\n",
    "        new_obs_pos = new_pos\n",
    "        new_guard_d = (d+1)%4\n",
    "\n",
    "        if will_we_be_where_weve_been(arr, guard_pos, new_guard_d, visited_dict, when_visited, step):\n",
    "            obs_pos.append(new_obs_pos)\n",
    "\n",
    "        # Check if we should stop\n",
    "        if stopping_result := stop_criteria(new_pos,d):\n",
    "            # setc(arr, guard_pos, visited)\n",
    "            break\n",
    "\n",
    "        # Check if we hit an obstacle\n",
    "        if index(arr, new_pos) == obstacle:\n",
    "            # Turn right\n",
    "            d = (d + 1) % 4\n",
    "        else:\n",
    "            # Move forward\n",
    "            # setc(arr, new_pos, guard_init)\n",
    "            # setc(arr, guard_pos, visited)\n",
    "            step += 1\n",
    "            guard_pos = new_pos\n",
    "    return obs_pos # The answer\n",
    "\n",
    "\n",
    "obs_pos = follow_path_special(char_arr, guard_pos, d, lambda x,y : not partial(inbounds, char_arr_shape)(x), visited_dict, when_visited)\n",
    "print(len(set(obs_pos)))\n",
    "print(obs_pos)\n",
    "# total = 0\n",
    "# obs_pos = []\n",
    "# step = 0\n",
    "# while(guard_inbounds):\n",
    "#     # Check around the guard to see if we can enter any visited paths \n",
    "#     # (check if we turn right we visit the same path in the same direction)\n",
    "#     check_dir = (d+1)%4\n",
    "#     check_pos = add(guard_pos, d_unwrap[check_dir])\n",
    "#     # if inbounds(char_arr_shape, check_pos):\n",
    "#     #     if index(char_arr, check_pos) in ['0','1','2','3'] and index(char_arr, check_pos) == check_dir and check_pos != guard_start_pos:\n",
    "#     #         total += 1\n",
    "#     # Check if we have been this direction before like ever\n",
    "#     avoid_checking_more = False\n",
    "#     if check_pos in visited_dict:\n",
    "#         if check_dir in visited_dict[check_pos]  and add(guard_pos, d_unwrap[d]) != guard_start_pos:\n",
    "#             if when_visited[check_pos][visited_dict[check_pos].index(check_dir)] <= step:\n",
    "#                 _obs_pos = add(guard_pos, d_unwrap[d])\n",
    "#                 if _obs_pos not in obs_pos and _obs_pos not in current_obs_pos:\n",
    "#                     total += 1\n",
    "#                     obs_pos.append(_obs_pos)\n",
    "#                 avoid_checking_more = True\n",
    "#     if index(char_arr,check_pos) == obstacle:\n",
    "#         avoid_checking_more = False\n",
    "#     check_pos = add(check_pos, d_unwrap[check_dir])\n",
    "#     if not avoid_checking_more:\n",
    "#         checking_valid = True\n",
    "#         while(checking_valid):\n",
    "#             if inbounds(char_arr_shape, check_pos) and index(char_arr, check_pos) != obstacle:\n",
    "#                 if check_pos in visited_dict:\n",
    "#                     if check_dir in visited_dict[check_pos] and when_visited[check_pos][visited_dict[check_pos].index(check_dir)] >= step:\n",
    "#                         _obs_pos = add(guard_pos, d_unwrap[d])\n",
    "#                         if _obs_pos not in obs_pos and _obs_pos not in current_obs_pos:\n",
    "#                             total += 1\n",
    "#                             obs_pos.append(_obs_pos)\n",
    "#                         checking_valid = False\n",
    "#                         break\n",
    "                \n",
    "#                 check_pos = add(check_pos, d_unwrap[check_dir])\n",
    "#             else:\n",
    "#                 checking_valid = False\n",
    "\n",
    "#     # Check infront of guard\n",
    "#     new_pos = add(guard_pos, d_unwrap[d])\n",
    "#     if not inbounds(char_arr_shape, new_pos):\n",
    "#         guard_inbounds = False\n",
    "#         setc(char_arr, guard_pos, visited)\n",
    "#         continue\n",
    "#     if index(char_arr, new_pos) == obstacle:\n",
    "#         # Turn right\n",
    "#         d = (d + 1) % 4\n",
    "#     else:\n",
    "#         # Move forward\n",
    "#         setc(char_arr, new_pos, guard_init)\n",
    "#         setc(char_arr, guard_pos, visited)\n",
    "\n",
    "\n",
    "#         guard_pos = new_pos\n",
    "#         step+= 1\n",
    "# # print(char_arr)\n",
    "# print(total)\n",
    "# for p in obs_pos:\n",
    "#     c = index(char_arr, p)\n",
    "#     setc(char_arr,p, '0')\n",
    "#     print(char_arr)\n",
    "#     setc(char_arr,p, c)"
   ]
  },
  {
   "cell_type": "code",
   "execution_count": null,
   "metadata": {},
   "outputs": [],
   "source": [
    "char_arr = np.array([[c for c in entry] for entry in entries])\n",
    "# print(char_arr)\n",
    "char_arr_shape = char_arr.shape\n",
    "obstacle = '#'\n",
    "empty = '.'\n",
    "visited = 'X'\n",
    "guard_init = '^'\n",
    "guard_pos = ()\n",
    "\n",
    "def add(a,b):\n",
    "    result = []\n",
    "    for _a, _b in zip(a,b):\n",
    "        result.append(_a+_b)\n",
    "    return tuple(result)\n",
    "\n",
    "def index(arr, v):\n",
    "    return arr[v[0],v[1]]\n",
    "\n",
    "def inbounds(bounds, pos):\n",
    "    for b, p in zip(bounds, pos):\n",
    "        if p < 0 or p >= b:\n",
    "            return False\n",
    "    return True\n",
    "\n",
    "def setc(arr, pos, c):\n",
    "    arr[pos[0],pos[1]] = c\n",
    "\n",
    "current_obs_pos = set()\n",
    "for row , char_row in enumerate(char_arr):\n",
    "    for col, c in enumerate(char_row):\n",
    "        if char_arr[row, col] == guard_init:\n",
    "            guard_pos = (row,col)\n",
    "        if char_arr[row,col] == obstacle:\n",
    "            current_obs_pos.add((row,col))\n",
    "guard_start_pos = guard_pos\n",
    "\n",
    "# print(current_obs_pos)\n",
    "\n",
    "guard_inbounds = True\n",
    "d_str = ['UP', 'RIGHT', 'DOWN', 'LEFT']\n",
    "d_unwrap = [(-1,0), (0,1), (1,0), (0,-1)]\n",
    "d = 0\n",
    "total = 0\n",
    "# visited_dict = {}\n",
    "# when_visited = {}\n",
    "obs_pos = []\n",
    "step = 0\n",
    "while(guard_inbounds):\n",
    "    # Check around the guard to see if we can enter any visited paths \n",
    "    # (check if we turn right we visit the same path in the same direction)\n",
    "    check_dir = (d+1)%4\n",
    "    check_pos = add(guard_pos, d_unwrap[check_dir])\n",
    "    # if inbounds(char_arr_shape, check_pos):\n",
    "    #     if index(char_arr, check_pos) in ['0','1','2','3'] and index(char_arr, check_pos) == check_dir and check_pos != guard_start_pos:\n",
    "    #         total += 1\n",
    "    # Check if we have been this direction before like ever\n",
    "    avoid_checking_more = False\n",
    "    if check_pos in visited_dict:\n",
    "        if check_dir in visited_dict[check_pos]  and add(guard_pos, d_unwrap[d]) != guard_start_pos:\n",
    "            if when_visited[check_pos][visited_dict[check_pos].index(check_dir)] <= step:\n",
    "                _obs_pos = add(guard_pos, d_unwrap[d])\n",
    "                if _obs_pos not in obs_pos and _obs_pos not in current_obs_pos:\n",
    "                    total += 1\n",
    "                    obs_pos.append(_obs_pos)\n",
    "                avoid_checking_more = True\n",
    "    if index(char_arr,check_pos) == obstacle:\n",
    "        avoid_checking_more = False\n",
    "    check_pos = add(check_pos, d_unwrap[check_dir])\n",
    "    if not avoid_checking_more:\n",
    "        checking_valid = True\n",
    "        while(checking_valid):\n",
    "            if inbounds(char_arr_shape, check_pos) and index(char_arr, check_pos) != obstacle:\n",
    "                if check_pos in visited_dict:\n",
    "                    if check_dir in visited_dict[check_pos] and when_visited[check_pos][visited_dict[check_pos].index(check_dir)] >= step:\n",
    "                        _obs_pos = add(guard_pos, d_unwrap[d])\n",
    "                        if _obs_pos not in obs_pos and _obs_pos not in current_obs_pos:\n",
    "                            total += 1\n",
    "                            obs_pos.append(_obs_pos)\n",
    "                        checking_valid = False\n",
    "                        break\n",
    "                \n",
    "                check_pos = add(check_pos, d_unwrap[check_dir])\n",
    "            else:\n",
    "                checking_valid = False\n",
    "\n",
    "    # Check infront of guard\n",
    "    new_pos = add(guard_pos, d_unwrap[d])\n",
    "    if not inbounds(char_arr_shape, new_pos):\n",
    "        guard_inbounds = False\n",
    "        setc(char_arr, guard_pos, visited)\n",
    "        continue\n",
    "    if index(char_arr, new_pos) == obstacle:\n",
    "        # Turn right\n",
    "        d = (d + 1) % 4\n",
    "    else:\n",
    "        # Move forward\n",
    "        setc(char_arr, new_pos, guard_init)\n",
    "        setc(char_arr, guard_pos, visited)\n",
    "\n",
    "\n",
    "        guard_pos = new_pos\n",
    "        step+= 1\n",
    "# print(char_arr)\n",
    "print(total)\n",
    "for p in obs_pos:\n",
    "    c = index(char_arr, p)\n",
    "    setc(char_arr,p, '0')\n",
    "    print(char_arr)\n",
    "    setc(char_arr,p, c)"
   ]
  }
 ],
 "metadata": {
  "interpreter": {
   "hash": "86494f8b93769f695384eb1a693da6e448182db93fee904f50d7a8e63c0edf44"
  },
  "kernelspec": {
   "display_name": "Python 3.10.13",
   "language": "python",
   "name": "python3"
  },
  "language_info": {
   "codemirror_mode": {
    "name": "ipython",
    "version": 3
   },
   "file_extension": ".py",
   "mimetype": "text/x-python",
   "name": "python",
   "nbconvert_exporter": "python",
   "pygments_lexer": "ipython3",
   "version": "3.13.0"
  },
  "orig_nbformat": 4
 },
 "nbformat": 4,
 "nbformat_minor": 2
}
