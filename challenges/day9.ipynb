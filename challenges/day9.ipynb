{
 "cells": [
  {
   "cell_type": "markdown",
   "metadata": {},
   "source": [
    "# AoC Day 9 Challenge. First section is grabbing the input text for the day"
   ]
  },
  {
   "cell_type": "code",
   "execution_count": 2,
   "metadata": {},
   "outputs": [
    {
     "name": "stderr",
     "output_type": "stream",
     "text": [
      "[Memory(location=/tmp/joblib)]: Flushing completely the cache\n"
     ]
    }
   ],
   "source": [
    "# Common Imports\n",
    "import pycurl as curl\n",
    "from io import BytesIO\n",
    "import pandas as pd\n",
    "import numpy as np\n",
    "import re\n",
    "import os\n",
    "from functools import partial\n",
    "from copy import deepcopy\n",
    "from joblib import Memory\n",
    "memory = Memory('/tmp/', verbose=0)\n",
    "memory.clear()\n",
    "import matplotlib.pyplot as plt\n",
    "import sys\n",
    "from tqdm import tqdm\n",
    "sys.getrecursionlimit()\n",
    "sys.setrecursionlimit(100_000)"
   ]
  },
  {
   "cell_type": "code",
   "execution_count": 3,
   "metadata": {},
   "outputs": [],
   "source": [
    "# Get input as `input`\n",
    "year = 2024\n",
    "day = 9\n",
    "\n",
    "with open('/home/alec/aoc_cookie.txt', 'r') as file:\n",
    "    cookie = file.read() \n",
    "\n",
    "buffer = BytesIO()\n",
    "c = curl.Curl()\n",
    "c.setopt(curl.URL, f\"https://adventofcode.com/{year}/day/{day}/input\")\n",
    "c.setopt(curl.COOKIE, f\"session={cookie}\")\n",
    "c.setopt(curl.WRITEDATA, buffer)\n",
    "c.perform()\n",
    "c.close()\n",
    "\n",
    "input = buffer.getvalue().decode('utf-8')"
   ]
  },
  {
   "cell_type": "code",
   "execution_count": 4,
   "metadata": {},
   "outputs": [],
   "source": [
    "input = \"\"\"89010123\n",
    "78121874\n",
    "87430965\n",
    "96549874\n",
    "45678903\n",
    "32019012\n",
    "01329801\n",
    "10456732\"\"\"\n",
    "\n"
   ]
  },
  {
   "cell_type": "markdown",
   "metadata": {},
   "source": [
    "# Part 1"
   ]
  },
  {
   "cell_type": "code",
   "execution_count": 5,
   "metadata": {},
   "outputs": [],
   "source": [
    "entries = input.splitlines()"
   ]
  },
  {
   "cell_type": "code",
   "execution_count": 26,
   "metadata": {},
   "outputs": [
    {
     "name": "stdout",
     "output_type": "stream",
     "text": [
      "['-1' '-1' '-1' '1' '1' '2' '-1' '3' '3']\n",
      "[3 4 5 7 8]\n",
      "2\n",
      "['-1']\n",
      "['-1']\n",
      "[]\n",
      "['3' '3']\n",
      "test cut and flip ['3' '3']\n",
      "[0. 0. 0. 0. 0. 0. 0. 0. 0. 0. 0. 0. 0. 0. 0. 0. 0. 0. 0. 0. 0. 0. 0. 0.\n",
      " 0. 0. 0. 0. 0. 0. 0. 0. 0. 0. 0. 0. 0. 0. 0. 0. 0. 0.]\n",
      "[ 0.  0. -1. -1. -1.  1.  1.  1. -1. -1. -1.  2. -1. -1. -1.  3.  3.  3.\n",
      " -1.  4.  4. -1.  5.  5.  5.  5. -1.  6.  6.  6.  6. -1.  7.  7.  7. -1.\n",
      "  8.  8.  8.  8.  9.  9.]\n",
      "[ 0  1  2  3  4  5  6  7  8  9 10 11 12 13 14 15 16 17 18 19 20 21 22 23\n",
      " 24 25 26 27 28 29 30 31 32 33 34 35 36 37 38 39 40 41]\n",
      "[]\n",
      "23331\n",
      "19\n",
      "9\n",
      "2\n"
     ]
    }
   ],
   "source": [
    "total = 0\n",
    "\n",
    "\n",
    "def cut_and_flip(arr):\n",
    "    print(arr)\n",
    "    # assume array start with -1s and ends with nums\n",
    "    a = np.where(arr!='-1')[0]\n",
    "    print(a)\n",
    "    if len(a) == 0:\n",
    "        return []\n",
    "    where_arr = a\n",
    "    idx_of_first_non_empty = where_arr[0]\n",
    "    idx_of_last_non_empty = where_arr[-1]\n",
    "\n",
    "    len_of_empty = idx_of_first_non_empty\n",
    "\n",
    "    if len_of_empty == 0:\n",
    "        return np.array([])\n",
    "\n",
    "    where_arr = np.where(arr == '-1')[0]\n",
    "    idx_of_last_empty = where_arr[-1]\n",
    "    len_of_nonempty = len(arr) - idx_of_last_empty - 1\n",
    "\n",
    "\n",
    "    len_to_move = min(len_of_empty, len_of_nonempty)\n",
    "\n",
    "    arr[:len_to_move] = arr[idx_of_last_empty + 1:idx_of_last_empty + 1 + len_to_move]\n",
    "    \n",
    "    idx_of_second_last_empty = where_arr[-2]\n",
    "    print(idx_of_second_last_empty)\n",
    "    print(arr[len_to_move:idx_of_second_last_empty + 1])\n",
    "    a = np.concatenate([arr[:len_to_move],cut_and_flip(arr[len_to_move:idx_of_second_last_empty + 1])])\n",
    "    print(a)\n",
    "    return a\n",
    "\n",
    "print(\"test cut and flip\",cut_and_flip(np.array(['-1','-1','-1', '1', '1','2','-1','3','3'])))\n",
    "# 3,3,2,1,1\n",
    "\n",
    "for entry in entries:\n",
    "    entry = \"2333133121414131402\"\n",
    "    id_on_disk = [] # key is the index on the disk, number in order, -1 represents free space\n",
    "    size_on_disk = [] # same key as above, but the size\n",
    "    total_len = 0\n",
    "\n",
    "    for i, char in enumerate(entry):\n",
    "        if i % 2 == 0:\n",
    "            num = i // 2\n",
    "        else:\n",
    "            num = -1\n",
    "        \n",
    "        id_on_disk.append(num)\n",
    "        size_on_disk.append(int(char))\n",
    "    total_arr = np.zeros(np.sum(size_on_disk))\n",
    "    print(total_arr)\n",
    "    i = 0\n",
    "    for _id, _size in zip(id_on_disk, size_on_disk):\n",
    "        total_arr[i: i + _size] = _id\n",
    "        i += _size\n",
    "    print(cut_and_flip(total_arr))\n",
    "    # not_done = False\n",
    "    # i = 1\n",
    "    # j = len(id_on_disk) - 1\n",
    "    # while(not_done):\n",
    "    #     empty_size = size_on_disk[i]\n",
    "    #     ending_size = size_on_disk[j]\n",
    "\n",
    "\n",
    "\n",
    "    print(entry[:5])\n",
    "    print(len(id_on_disk))\n",
    "    print(id_on_disk[-1])\n",
    "    print(size_on_disk[-1])\n",
    "    break\n",
    "\n",
    "\n"
   ]
  },
  {
   "cell_type": "markdown",
   "metadata": {},
   "source": [
    "# Part 2"
   ]
  }
 ],
 "metadata": {
  "interpreter": {
   "hash": "86494f8b93769f695384eb1a693da6e448182db93fee904f50d7a8e63c0edf44"
  },
  "kernelspec": {
   "display_name": "Python 3.10.13",
   "language": "python",
   "name": "python3"
  },
  "language_info": {
   "codemirror_mode": {
    "name": "ipython",
    "version": 3
   },
   "file_extension": ".py",
   "mimetype": "text/x-python",
   "name": "python",
   "nbconvert_exporter": "python",
   "pygments_lexer": "ipython3",
   "version": "3.13.0"
  },
  "orig_nbformat": 4
 },
 "nbformat": 4,
 "nbformat_minor": 2
}
